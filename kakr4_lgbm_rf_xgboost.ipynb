{
  "nbformat": 4,
  "nbformat_minor": 0,
  "metadata": {
    "kernelspec": {
      "display_name": "Python 3",
      "language": "python",
      "name": "python3"
    },
    "language_info": {
      "codemirror_mode": {
        "name": "ipython",
        "version": 3
      },
      "file_extension": ".py",
      "mimetype": "text/x-python",
      "name": "python",
      "nbconvert_exporter": "python",
      "pygments_lexer": "ipython3",
      "version": "3.7.6"
    },
    "papermill": {
      "duration": 101.112756,
      "end_time": "2020-12-01T11:35:27.452829",
      "environment_variables": {},
      "exception": null,
      "input_path": "__notebook__.ipynb",
      "output_path": "__notebook__.ipynb",
      "parameters": {},
      "start_time": "2020-12-01T11:33:46.340073",
      "version": "2.1.0"
    },
    "colab": {
      "name": "kakr4-lgbm-rf-xgboost.ipynb",
      "provenance": [],
      "include_colab_link": true
    }
  },
  "cells": [
    {
      "cell_type": "markdown",
      "metadata": {
        "id": "view-in-github",
        "colab_type": "text"
      },
      "source": [
        "<a href=\"https://colab.research.google.com/github/yangju0411/KaggleKr_4th/blob/main/kakr4_lgbm_rf_xgboost.ipynb\" target=\"_parent\"><img src=\"https://colab.research.google.com/assets/colab-badge.svg\" alt=\"Open In Colab\"/></a>"
      ]
    },
    {
      "cell_type": "code",
      "metadata": {
        "_cell_guid": "b1076dfc-b9ad-4769-8c92-a6c4dae69d19",
        "_uuid": "8f2839f25d086af736a60e9eeb907d3b93b6e0e5",
        "execution": {
          "iopub.execute_input": "2020-12-01T11:33:51.036862Z",
          "iopub.status.busy": "2020-12-01T11:33:51.035551Z",
          "iopub.status.idle": "2020-12-01T11:33:51.042099Z",
          "shell.execute_reply": "2020-12-01T11:33:51.041359Z"
        },
        "papermill": {
          "duration": 0.043998,
          "end_time": "2020-12-01T11:33:51.042241",
          "exception": false,
          "start_time": "2020-12-01T11:33:50.998243",
          "status": "completed"
        },
        "tags": [],
        "id": "-j3QZYvNp-oJ",
        "outputId": "9a6161d1-f77b-4f4a-da40-d45f89c7ab09"
      },
      "source": [
        "# This Python 3 environment comes with many helpful analytics libraries installed\n",
        "# It is defined by the kaggle/python Docker image: https://github.com/kaggle/docker-python\n",
        "# For example, here's several helpful packages to load\n",
        "\n",
        "import numpy as np # linear algebra\n",
        "import pandas as pd # data processing, CSV file I/O (e.g. pd.read_csv)\n",
        "\n",
        "# Input data files are available in the read-only \"../input/\" directory\n",
        "# For example, running this (by clicking run or pressing Shift+Enter) will list all files under the input directory\n",
        "\n",
        "import os\n",
        "for dirname, _, filenames in os.walk('/kaggle/input'):\n",
        "    for filename in filenames:\n",
        "        print(os.path.join(dirname, filename))\n",
        "\n",
        "# You can write up to 20GB to the current directory (/kaggle/working/) that gets preserved as output when you create a version using \"Save & Run All\" \n",
        "# You can also write temporary files to /kaggle/temp/, but they won't be saved outside of the current session"
      ],
      "execution_count": null,
      "outputs": [
        {
          "output_type": "stream",
          "text": [
            "/kaggle/input/kakr-4th-competition/sample_submission.csv\n",
            "/kaggle/input/kakr-4th-competition/test.csv\n",
            "/kaggle/input/kakr-4th-competition/train.csv\n"
          ],
          "name": "stdout"
        }
      ]
    },
    {
      "cell_type": "code",
      "metadata": {
        "_cell_guid": "79c7e3d0-c299-4dcb-8224-4455121ee9b0",
        "_uuid": "d629ff2d2480ee46fbb7e2d37f6b5fab8052498a",
        "execution": {
          "iopub.execute_input": "2020-12-01T11:33:51.109289Z",
          "iopub.status.busy": "2020-12-01T11:33:51.108644Z",
          "iopub.status.idle": "2020-12-01T11:33:52.111886Z",
          "shell.execute_reply": "2020-12-01T11:33:52.111278Z"
        },
        "papermill": {
          "duration": 1.03918,
          "end_time": "2020-12-01T11:33:52.112002",
          "exception": false,
          "start_time": "2020-12-01T11:33:51.072822",
          "status": "completed"
        },
        "tags": [],
        "id": "jgqcouSOp-oM"
      },
      "source": [
        "import matplotlib.pyplot as plt\n",
        "import seaborn as sns"
      ],
      "execution_count": null,
      "outputs": []
    },
    {
      "cell_type": "code",
      "metadata": {
        "execution": {
          "iopub.execute_input": "2020-12-01T11:33:52.180120Z",
          "iopub.status.busy": "2020-12-01T11:33:52.179449Z",
          "iopub.status.idle": "2020-12-01T11:33:53.438097Z",
          "shell.execute_reply": "2020-12-01T11:33:53.437478Z"
        },
        "papermill": {
          "duration": 1.294582,
          "end_time": "2020-12-01T11:33:53.438223",
          "exception": false,
          "start_time": "2020-12-01T11:33:52.143641",
          "status": "completed"
        },
        "tags": [],
        "id": "7bxnbAw2p-oM"
      },
      "source": [
        "from sklearn.model_selection import KFold\n",
        "from lightgbm import LGBMClassifier\n",
        "from sklearn.metrics import f1_score\n",
        "from sklearn.ensemble import RandomForestClassifier\n",
        "from sklearn.svm import SVC\n",
        "from xgboost import XGBClassifier\n",
        "from sklearn.model_selection import GridSearchCV\n",
        "from sklearn.ensemble import VotingClassifier\n",
        "import pickle\n",
        "import joblib\n",
        "import gc"
      ],
      "execution_count": null,
      "outputs": []
    },
    {
      "cell_type": "code",
      "metadata": {
        "execution": {
          "iopub.execute_input": "2020-12-01T11:33:53.507566Z",
          "iopub.status.busy": "2020-12-01T11:33:53.506725Z",
          "iopub.status.idle": "2020-12-01T11:33:53.626264Z",
          "shell.execute_reply": "2020-12-01T11:33:53.625508Z"
        },
        "papermill": {
          "duration": 0.1567,
          "end_time": "2020-12-01T11:33:53.626388",
          "exception": false,
          "start_time": "2020-12-01T11:33:53.469688",
          "status": "completed"
        },
        "tags": [],
        "id": "ezZlE7xPp-oM"
      },
      "source": [
        "train = pd.read_csv('/kaggle/input/kakr-4th-competition/train.csv', index_col = \"id\")\n",
        "test = pd.read_csv('/kaggle/input/kakr-4th-competition/test.csv', index_col = \"id\")"
      ],
      "execution_count": null,
      "outputs": []
    },
    {
      "cell_type": "markdown",
      "metadata": {
        "papermill": {
          "duration": 0.031732,
          "end_time": "2020-12-01T11:33:53.689037",
          "exception": false,
          "start_time": "2020-12-01T11:33:53.657305",
          "status": "completed"
        },
        "tags": [],
        "id": "VU6SaEGbp-oN"
      },
      "source": [
        "id를 행이름으로 사용"
      ]
    },
    {
      "cell_type": "code",
      "metadata": {
        "execution": {
          "iopub.execute_input": "2020-12-01T11:33:53.763067Z",
          "iopub.status.busy": "2020-12-01T11:33:53.762356Z",
          "iopub.status.idle": "2020-12-01T11:33:53.771551Z",
          "shell.execute_reply": "2020-12-01T11:33:53.770845Z"
        },
        "papermill": {
          "duration": 0.048544,
          "end_time": "2020-12-01T11:33:53.771680",
          "exception": false,
          "start_time": "2020-12-01T11:33:53.723136",
          "status": "completed"
        },
        "tags": [],
        "id": "VeujAxWNp-oN"
      },
      "source": [
        "y = train['income'] == '>50K'\n",
        "X = train.drop(['income'], axis=1)"
      ],
      "execution_count": null,
      "outputs": []
    },
    {
      "cell_type": "markdown",
      "metadata": {
        "papermill": {
          "duration": 0.031081,
          "end_time": "2020-12-01T11:33:53.832409",
          "exception": false,
          "start_time": "2020-12-01T11:33:53.801328",
          "status": "completed"
        },
        "tags": [],
        "id": "fLDtZToSp-oN"
      },
      "source": [
        "prediction : [소득이 50,000$을 넘는다면 1, 아니라면 0] <br>\n",
        "타겟을 T&F 형태로"
      ]
    },
    {
      "cell_type": "markdown",
      "metadata": {
        "papermill": {
          "duration": 0.029188,
          "end_time": "2020-12-01T11:33:53.892909",
          "exception": false,
          "start_time": "2020-12-01T11:33:53.863721",
          "status": "completed"
        },
        "tags": [],
        "id": "pzlzqR4Pp-oN"
      },
      "source": [
        "## OneHot Encoding"
      ]
    },
    {
      "cell_type": "code",
      "metadata": {
        "execution": {
          "iopub.execute_input": "2020-12-01T11:33:53.962319Z",
          "iopub.status.busy": "2020-12-01T11:33:53.961178Z",
          "iopub.status.idle": "2020-12-01T11:33:53.965852Z",
          "shell.execute_reply": "2020-12-01T11:33:53.965304Z"
        },
        "papermill": {
          "duration": 0.042615,
          "end_time": "2020-12-01T11:33:53.965964",
          "exception": false,
          "start_time": "2020-12-01T11:33:53.923349",
          "status": "completed"
        },
        "tags": [],
        "id": "XoKY_MB0p-oN",
        "outputId": "ae243b28-0c49-4134-f3a2-ce0f3d5184ca"
      },
      "source": [
        "'''import category_encoders as ce\n",
        "\n",
        "ohe = ce.OneHotEncoder(use_cat_names = True)\n",
        "ohe.fit(X)\n",
        "X = ohe.transform(X)\n",
        "test_X = ohe.transform(test)'''"
      ],
      "execution_count": null,
      "outputs": [
        {
          "output_type": "execute_result",
          "data": {
            "text/plain": [
              "'import category_encoders as ce\\n\\nohe = ce.OneHotEncoder(use_cat_names = True)\\nohe.fit(X)\\nX = ohe.transform(X)\\ntest_X = ohe.transform(test)'"
            ]
          },
          "metadata": {
            "tags": []
          },
          "execution_count": 6
        }
      ]
    },
    {
      "cell_type": "markdown",
      "metadata": {
        "papermill": {
          "duration": 0.030073,
          "end_time": "2020-12-01T11:33:54.027403",
          "exception": false,
          "start_time": "2020-12-01T11:33:53.997330",
          "status": "completed"
        },
        "tags": [],
        "id": "MVDU6HhAp-oN"
      },
      "source": [
        "원핫인코딩 시 스코어가 더 떨어져서 라벨로 다시 돌아왔습니다."
      ]
    },
    {
      "cell_type": "markdown",
      "metadata": {
        "papermill": {
          "duration": 0.031694,
          "end_time": "2020-12-01T11:33:54.090505",
          "exception": false,
          "start_time": "2020-12-01T11:33:54.058811",
          "status": "completed"
        },
        "tags": [],
        "id": "ipk0xauHp-oO"
      },
      "source": [
        "## Label Encoding"
      ]
    },
    {
      "cell_type": "code",
      "metadata": {
        "execution": {
          "iopub.execute_input": "2020-12-01T11:33:54.156650Z",
          "iopub.status.busy": "2020-12-01T11:33:54.155886Z",
          "iopub.status.idle": "2020-12-01T11:33:54.491622Z",
          "shell.execute_reply": "2020-12-01T11:33:54.492134Z"
        },
        "papermill": {
          "duration": 0.371562,
          "end_time": "2020-12-01T11:33:54.492292",
          "exception": false,
          "start_time": "2020-12-01T11:33:54.120730",
          "status": "completed"
        },
        "tags": [],
        "id": "_dRFVPSKp-oO"
      },
      "source": [
        "from category_encoders.ordinal import OrdinalEncoder\n",
        "le = OrdinalEncoder(list(X.columns))\n",
        "\n",
        "X = le.fit_transform(X, y)\n",
        "test_X = le.transform(test)"
      ],
      "execution_count": null,
      "outputs": []
    },
    {
      "cell_type": "code",
      "metadata": {
        "execution": {
          "iopub.execute_input": "2020-12-01T11:33:54.563559Z",
          "iopub.status.busy": "2020-12-01T11:33:54.562876Z",
          "iopub.status.idle": "2020-12-01T11:33:54.576612Z",
          "shell.execute_reply": "2020-12-01T11:33:54.575848Z"
        },
        "papermill": {
          "duration": 0.054019,
          "end_time": "2020-12-01T11:33:54.576778",
          "exception": false,
          "start_time": "2020-12-01T11:33:54.522759",
          "status": "completed"
        },
        "tags": [],
        "id": "CzXQFA7rp-oO",
        "outputId": "89460490-8f30-4128-e3df-830cbf838f3d"
      },
      "source": [
        "X.head()"
      ],
      "execution_count": null,
      "outputs": [
        {
          "output_type": "execute_result",
          "data": {
            "text/html": [
              "<div>\n",
              "<style scoped>\n",
              "    .dataframe tbody tr th:only-of-type {\n",
              "        vertical-align: middle;\n",
              "    }\n",
              "\n",
              "    .dataframe tbody tr th {\n",
              "        vertical-align: top;\n",
              "    }\n",
              "\n",
              "    .dataframe thead th {\n",
              "        text-align: right;\n",
              "    }\n",
              "</style>\n",
              "<table border=\"1\" class=\"dataframe\">\n",
              "  <thead>\n",
              "    <tr style=\"text-align: right;\">\n",
              "      <th></th>\n",
              "      <th>age</th>\n",
              "      <th>workclass</th>\n",
              "      <th>fnlwgt</th>\n",
              "      <th>education</th>\n",
              "      <th>education_num</th>\n",
              "      <th>marital_status</th>\n",
              "      <th>occupation</th>\n",
              "      <th>relationship</th>\n",
              "      <th>race</th>\n",
              "      <th>sex</th>\n",
              "      <th>capital_gain</th>\n",
              "      <th>capital_loss</th>\n",
              "      <th>hours_per_week</th>\n",
              "      <th>native_country</th>\n",
              "    </tr>\n",
              "    <tr>\n",
              "      <th>id</th>\n",
              "      <th></th>\n",
              "      <th></th>\n",
              "      <th></th>\n",
              "      <th></th>\n",
              "      <th></th>\n",
              "      <th></th>\n",
              "      <th></th>\n",
              "      <th></th>\n",
              "      <th></th>\n",
              "      <th></th>\n",
              "      <th></th>\n",
              "      <th></th>\n",
              "      <th></th>\n",
              "      <th></th>\n",
              "    </tr>\n",
              "  </thead>\n",
              "  <tbody>\n",
              "    <tr>\n",
              "      <th>0</th>\n",
              "      <td>40</td>\n",
              "      <td>1</td>\n",
              "      <td>168538</td>\n",
              "      <td>1</td>\n",
              "      <td>9</td>\n",
              "      <td>1</td>\n",
              "      <td>1</td>\n",
              "      <td>1</td>\n",
              "      <td>1</td>\n",
              "      <td>1</td>\n",
              "      <td>0</td>\n",
              "      <td>0</td>\n",
              "      <td>60</td>\n",
              "      <td>1</td>\n",
              "    </tr>\n",
              "    <tr>\n",
              "      <th>1</th>\n",
              "      <td>17</td>\n",
              "      <td>1</td>\n",
              "      <td>101626</td>\n",
              "      <td>2</td>\n",
              "      <td>5</td>\n",
              "      <td>2</td>\n",
              "      <td>2</td>\n",
              "      <td>2</td>\n",
              "      <td>1</td>\n",
              "      <td>1</td>\n",
              "      <td>0</td>\n",
              "      <td>0</td>\n",
              "      <td>20</td>\n",
              "      <td>1</td>\n",
              "    </tr>\n",
              "    <tr>\n",
              "      <th>2</th>\n",
              "      <td>18</td>\n",
              "      <td>1</td>\n",
              "      <td>353358</td>\n",
              "      <td>3</td>\n",
              "      <td>10</td>\n",
              "      <td>2</td>\n",
              "      <td>3</td>\n",
              "      <td>2</td>\n",
              "      <td>1</td>\n",
              "      <td>1</td>\n",
              "      <td>0</td>\n",
              "      <td>0</td>\n",
              "      <td>16</td>\n",
              "      <td>1</td>\n",
              "    </tr>\n",
              "    <tr>\n",
              "      <th>3</th>\n",
              "      <td>21</td>\n",
              "      <td>1</td>\n",
              "      <td>151158</td>\n",
              "      <td>3</td>\n",
              "      <td>10</td>\n",
              "      <td>2</td>\n",
              "      <td>4</td>\n",
              "      <td>2</td>\n",
              "      <td>1</td>\n",
              "      <td>2</td>\n",
              "      <td>0</td>\n",
              "      <td>0</td>\n",
              "      <td>25</td>\n",
              "      <td>1</td>\n",
              "    </tr>\n",
              "    <tr>\n",
              "      <th>4</th>\n",
              "      <td>24</td>\n",
              "      <td>1</td>\n",
              "      <td>122234</td>\n",
              "      <td>3</td>\n",
              "      <td>10</td>\n",
              "      <td>2</td>\n",
              "      <td>5</td>\n",
              "      <td>3</td>\n",
              "      <td>2</td>\n",
              "      <td>2</td>\n",
              "      <td>0</td>\n",
              "      <td>0</td>\n",
              "      <td>20</td>\n",
              "      <td>2</td>\n",
              "    </tr>\n",
              "  </tbody>\n",
              "</table>\n",
              "</div>"
            ],
            "text/plain": [
              "    age  workclass  fnlwgt  education  education_num  marital_status  \\\n",
              "id                                                                     \n",
              "0    40          1  168538          1              9               1   \n",
              "1    17          1  101626          2              5               2   \n",
              "2    18          1  353358          3             10               2   \n",
              "3    21          1  151158          3             10               2   \n",
              "4    24          1  122234          3             10               2   \n",
              "\n",
              "    occupation  relationship  race  sex  capital_gain  capital_loss  \\\n",
              "id                                                                    \n",
              "0            1             1     1    1             0             0   \n",
              "1            2             2     1    1             0             0   \n",
              "2            3             2     1    1             0             0   \n",
              "3            4             2     1    2             0             0   \n",
              "4            5             3     2    2             0             0   \n",
              "\n",
              "    hours_per_week  native_country  \n",
              "id                                  \n",
              "0               60               1  \n",
              "1               20               1  \n",
              "2               16               1  \n",
              "3               25               1  \n",
              "4               20               2  "
            ]
          },
          "metadata": {
            "tags": []
          },
          "execution_count": 8
        }
      ]
    },
    {
      "cell_type": "code",
      "metadata": {
        "execution": {
          "iopub.execute_input": "2020-12-01T11:33:54.663352Z",
          "iopub.status.busy": "2020-12-01T11:33:54.662457Z",
          "iopub.status.idle": "2020-12-01T11:33:54.668117Z",
          "shell.execute_reply": "2020-12-01T11:33:54.667356Z"
        },
        "papermill": {
          "duration": 0.048991,
          "end_time": "2020-12-01T11:33:54.668274",
          "exception": false,
          "start_time": "2020-12-01T11:33:54.619283",
          "status": "completed"
        },
        "tags": [],
        "id": "cMHMrZAEp-oO",
        "outputId": "9f086c92-8385-4e6f-aeda-4b62d38fd341"
      },
      "source": [
        "X.shape"
      ],
      "execution_count": null,
      "outputs": [
        {
          "output_type": "execute_result",
          "data": {
            "text/plain": [
              "(26049, 14)"
            ]
          },
          "metadata": {
            "tags": []
          },
          "execution_count": 9
        }
      ]
    },
    {
      "cell_type": "code",
      "metadata": {
        "execution": {
          "iopub.execute_input": "2020-12-01T11:33:54.746835Z",
          "iopub.status.busy": "2020-12-01T11:33:54.745943Z",
          "iopub.status.idle": "2020-12-01T11:33:54.750027Z",
          "shell.execute_reply": "2020-12-01T11:33:54.749485Z"
        },
        "papermill": {
          "duration": 0.045715,
          "end_time": "2020-12-01T11:33:54.750132",
          "exception": false,
          "start_time": "2020-12-01T11:33:54.704417",
          "status": "completed"
        },
        "tags": [],
        "id": "PuhvEwpSp-oP",
        "outputId": "55d659d9-3425-438f-d285-466b2720e18d"
      },
      "source": [
        "test_X.shape"
      ],
      "execution_count": null,
      "outputs": [
        {
          "output_type": "execute_result",
          "data": {
            "text/plain": [
              "(6512, 14)"
            ]
          },
          "metadata": {
            "tags": []
          },
          "execution_count": 10
        }
      ]
    },
    {
      "cell_type": "markdown",
      "metadata": {
        "papermill": {
          "duration": 0.032617,
          "end_time": "2020-12-01T11:33:54.815334",
          "exception": false,
          "start_time": "2020-12-01T11:33:54.782717",
          "status": "completed"
        },
        "tags": [],
        "id": "-yOAIK8mp-oP"
      },
      "source": [
        "# LGBM"
      ]
    },
    {
      "cell_type": "code",
      "metadata": {
        "execution": {
          "iopub.execute_input": "2020-12-01T11:33:54.886842Z",
          "iopub.status.busy": "2020-12-01T11:33:54.885867Z",
          "iopub.status.idle": "2020-12-01T11:33:54.888579Z",
          "shell.execute_reply": "2020-12-01T11:33:54.887888Z"
        },
        "papermill": {
          "duration": 0.04015,
          "end_time": "2020-12-01T11:33:54.888706",
          "exception": false,
          "start_time": "2020-12-01T11:33:54.848556",
          "status": "completed"
        },
        "tags": [],
        "id": "915jqdDqp-oP"
      },
      "source": [
        "NFOLDS = 5\n",
        "folds = KFold(n_splits = NFOLDS)\n",
        "\n",
        "columns = X.columns\n",
        "splits = folds.split(X, y)\n",
        "lgbm_preds = np.zeros(test_X.shape[0])"
      ],
      "execution_count": null,
      "outputs": []
    },
    {
      "cell_type": "code",
      "metadata": {
        "execution": {
          "iopub.execute_input": "2020-12-01T11:33:54.966973Z",
          "iopub.status.busy": "2020-12-01T11:33:54.966251Z",
          "iopub.status.idle": "2020-12-01T11:33:57.828106Z",
          "shell.execute_reply": "2020-12-01T11:33:57.829124Z"
        },
        "papermill": {
          "duration": 2.907811,
          "end_time": "2020-12-01T11:33:57.829283",
          "exception": false,
          "start_time": "2020-12-01T11:33:54.921472",
          "status": "completed"
        },
        "tags": [],
        "id": "VZeynqg6p-oP",
        "outputId": "cd86dd31-87a2-420e-d1c6-a90d96957aa2"
      },
      "source": [
        "lgbm = LGBMClassifier(objective='binary', verbose = 1, random_state = 17,\n",
        "                     boosting_type = 'gbdt', learning_rate = 0.1)\n",
        "\n",
        "\n",
        "for fold_n, (train_index, valid_index) in enumerate(splits):\n",
        "    print('Fold: ', fold_n+1)\n",
        "    X_train, X_valid = X.iloc[train_index], X.iloc[valid_index]\n",
        "    y_train, y_valid = y.iloc[train_index], y.iloc[valid_index]\n",
        "\n",
        "    evals = [(X_train, y_train), (X_valid, y_valid)]\n",
        "    lgbm.fit(X_train, y_train, eval_metric='f1', eval_set=evals, verbose=True)\n",
        "        \n",
        "    lgbm_preds += lgbm.predict(test_X).astype(int) / NFOLDS\n",
        "    \n",
        "    del X_train, X_valid, y_train, y_valid\n",
        "    gc.collect()"
      ],
      "execution_count": null,
      "outputs": [
        {
          "output_type": "stream",
          "text": [
            "Fold:  1\n",
            "[1]\ttraining's binary_logloss: 0.51029\tvalid_1's binary_logloss: 0.507521\n",
            "[2]\ttraining's binary_logloss: 0.477769\tvalid_1's binary_logloss: 0.475498\n",
            "[3]\ttraining's binary_logloss: 0.451924\tvalid_1's binary_logloss: 0.450099\n",
            "[4]\ttraining's binary_logloss: 0.431056\tvalid_1's binary_logloss: 0.429931\n",
            "[5]\ttraining's binary_logloss: 0.413344\tvalid_1's binary_logloss: 0.412961\n",
            "[6]\ttraining's binary_logloss: 0.39845\tvalid_1's binary_logloss: 0.398591\n",
            "[7]\ttraining's binary_logloss: 0.385568\tvalid_1's binary_logloss: 0.385989\n",
            "[8]\ttraining's binary_logloss: 0.374398\tvalid_1's binary_logloss: 0.375523\n",
            "[9]\ttraining's binary_logloss: 0.36472\tvalid_1's binary_logloss: 0.36682\n",
            "[10]\ttraining's binary_logloss: 0.35611\tvalid_1's binary_logloss: 0.358814\n",
            "[11]\ttraining's binary_logloss: 0.348373\tvalid_1's binary_logloss: 0.351625\n",
            "[12]\ttraining's binary_logloss: 0.341334\tvalid_1's binary_logloss: 0.345092\n",
            "[13]\ttraining's binary_logloss: 0.335245\tvalid_1's binary_logloss: 0.339384\n",
            "[14]\ttraining's binary_logloss: 0.329736\tvalid_1's binary_logloss: 0.334004\n",
            "[15]\ttraining's binary_logloss: 0.324477\tvalid_1's binary_logloss: 0.329383\n",
            "[16]\ttraining's binary_logloss: 0.319879\tvalid_1's binary_logloss: 0.325223\n",
            "[17]\ttraining's binary_logloss: 0.315858\tvalid_1's binary_logloss: 0.321236\n",
            "[18]\ttraining's binary_logloss: 0.312016\tvalid_1's binary_logloss: 0.317493\n",
            "[19]\ttraining's binary_logloss: 0.308518\tvalid_1's binary_logloss: 0.314652\n",
            "[20]\ttraining's binary_logloss: 0.305279\tvalid_1's binary_logloss: 0.31188\n",
            "[21]\ttraining's binary_logloss: 0.30233\tvalid_1's binary_logloss: 0.30921\n",
            "[22]\ttraining's binary_logloss: 0.2997\tvalid_1's binary_logloss: 0.30689\n",
            "[23]\ttraining's binary_logloss: 0.297247\tvalid_1's binary_logloss: 0.305044\n",
            "[24]\ttraining's binary_logloss: 0.294934\tvalid_1's binary_logloss: 0.303289\n",
            "[25]\ttraining's binary_logloss: 0.292753\tvalid_1's binary_logloss: 0.301446\n",
            "[26]\ttraining's binary_logloss: 0.290839\tvalid_1's binary_logloss: 0.300166\n",
            "[27]\ttraining's binary_logloss: 0.289116\tvalid_1's binary_logloss: 0.298927\n",
            "[28]\ttraining's binary_logloss: 0.287397\tvalid_1's binary_logloss: 0.297768\n",
            "[29]\ttraining's binary_logloss: 0.285816\tvalid_1's binary_logloss: 0.296773\n",
            "[30]\ttraining's binary_logloss: 0.284226\tvalid_1's binary_logloss: 0.295683\n",
            "[31]\ttraining's binary_logloss: 0.28241\tvalid_1's binary_logloss: 0.294676\n",
            "[32]\ttraining's binary_logloss: 0.281105\tvalid_1's binary_logloss: 0.293901\n",
            "[33]\ttraining's binary_logloss: 0.279786\tvalid_1's binary_logloss: 0.29333\n",
            "[34]\ttraining's binary_logloss: 0.277767\tvalid_1's binary_logloss: 0.292044\n",
            "[35]\ttraining's binary_logloss: 0.276337\tvalid_1's binary_logloss: 0.291145\n",
            "[36]\ttraining's binary_logloss: 0.275294\tvalid_1's binary_logloss: 0.290635\n",
            "[37]\ttraining's binary_logloss: 0.274144\tvalid_1's binary_logloss: 0.289894\n",
            "[38]\ttraining's binary_logloss: 0.273033\tvalid_1's binary_logloss: 0.28919\n",
            "[39]\ttraining's binary_logloss: 0.272026\tvalid_1's binary_logloss: 0.288737\n",
            "[40]\ttraining's binary_logloss: 0.270669\tvalid_1's binary_logloss: 0.288288\n",
            "[41]\ttraining's binary_logloss: 0.269456\tvalid_1's binary_logloss: 0.2877\n",
            "[42]\ttraining's binary_logloss: 0.268679\tvalid_1's binary_logloss: 0.287442\n",
            "[43]\ttraining's binary_logloss: 0.26787\tvalid_1's binary_logloss: 0.287154\n",
            "[44]\ttraining's binary_logloss: 0.267049\tvalid_1's binary_logloss: 0.286737\n",
            "[45]\ttraining's binary_logloss: 0.266182\tvalid_1's binary_logloss: 0.286403\n",
            "[46]\ttraining's binary_logloss: 0.265349\tvalid_1's binary_logloss: 0.285971\n",
            "[47]\ttraining's binary_logloss: 0.264627\tvalid_1's binary_logloss: 0.285902\n",
            "[48]\ttraining's binary_logloss: 0.263586\tvalid_1's binary_logloss: 0.285409\n",
            "[49]\ttraining's binary_logloss: 0.262873\tvalid_1's binary_logloss: 0.285031\n",
            "[50]\ttraining's binary_logloss: 0.262079\tvalid_1's binary_logloss: 0.285075\n",
            "[51]\ttraining's binary_logloss: 0.261158\tvalid_1's binary_logloss: 0.284695\n",
            "[52]\ttraining's binary_logloss: 0.260506\tvalid_1's binary_logloss: 0.28454\n",
            "[53]\ttraining's binary_logloss: 0.259671\tvalid_1's binary_logloss: 0.284315\n",
            "[54]\ttraining's binary_logloss: 0.259041\tvalid_1's binary_logloss: 0.284298\n",
            "[55]\ttraining's binary_logloss: 0.258343\tvalid_1's binary_logloss: 0.284122\n",
            "[56]\ttraining's binary_logloss: 0.257755\tvalid_1's binary_logloss: 0.284024\n",
            "[57]\ttraining's binary_logloss: 0.257261\tvalid_1's binary_logloss: 0.283775\n",
            "[58]\ttraining's binary_logloss: 0.25671\tvalid_1's binary_logloss: 0.283588\n",
            "[59]\ttraining's binary_logloss: 0.25591\tvalid_1's binary_logloss: 0.283262\n",
            "[60]\ttraining's binary_logloss: 0.255315\tvalid_1's binary_logloss: 0.283122\n",
            "[61]\ttraining's binary_logloss: 0.254705\tvalid_1's binary_logloss: 0.283312\n",
            "[62]\ttraining's binary_logloss: 0.254204\tvalid_1's binary_logloss: 0.283363\n",
            "[63]\ttraining's binary_logloss: 0.253754\tvalid_1's binary_logloss: 0.283334\n",
            "[64]\ttraining's binary_logloss: 0.253278\tvalid_1's binary_logloss: 0.28325\n",
            "[65]\ttraining's binary_logloss: 0.25284\tvalid_1's binary_logloss: 0.283269\n",
            "[66]\ttraining's binary_logloss: 0.252397\tvalid_1's binary_logloss: 0.28325\n",
            "[67]\ttraining's binary_logloss: 0.251811\tvalid_1's binary_logloss: 0.283028\n",
            "[68]\ttraining's binary_logloss: 0.251297\tvalid_1's binary_logloss: 0.283069\n",
            "[69]\ttraining's binary_logloss: 0.250774\tvalid_1's binary_logloss: 0.28291\n",
            "[70]\ttraining's binary_logloss: 0.25014\tvalid_1's binary_logloss: 0.28271\n",
            "[71]\ttraining's binary_logloss: 0.249699\tvalid_1's binary_logloss: 0.282644\n",
            "[72]\ttraining's binary_logloss: 0.249255\tvalid_1's binary_logloss: 0.282591\n",
            "[73]\ttraining's binary_logloss: 0.248804\tvalid_1's binary_logloss: 0.282504\n",
            "[74]\ttraining's binary_logloss: 0.248265\tvalid_1's binary_logloss: 0.282441\n",
            "[75]\ttraining's binary_logloss: 0.247741\tvalid_1's binary_logloss: 0.28224\n",
            "[76]\ttraining's binary_logloss: 0.247222\tvalid_1's binary_logloss: 0.282354\n",
            "[77]\ttraining's binary_logloss: 0.246827\tvalid_1's binary_logloss: 0.282273\n",
            "[78]\ttraining's binary_logloss: 0.246153\tvalid_1's binary_logloss: 0.282196\n",
            "[79]\ttraining's binary_logloss: 0.245678\tvalid_1's binary_logloss: 0.282094\n",
            "[80]\ttraining's binary_logloss: 0.245207\tvalid_1's binary_logloss: 0.282216\n",
            "[81]\ttraining's binary_logloss: 0.244605\tvalid_1's binary_logloss: 0.281848\n",
            "[82]\ttraining's binary_logloss: 0.244115\tvalid_1's binary_logloss: 0.281867\n",
            "[83]\ttraining's binary_logloss: 0.243736\tvalid_1's binary_logloss: 0.281812\n",
            "[84]\ttraining's binary_logloss: 0.243275\tvalid_1's binary_logloss: 0.281904\n",
            "[85]\ttraining's binary_logloss: 0.242891\tvalid_1's binary_logloss: 0.282076\n",
            "[86]\ttraining's binary_logloss: 0.242448\tvalid_1's binary_logloss: 0.281973\n",
            "[87]\ttraining's binary_logloss: 0.242114\tvalid_1's binary_logloss: 0.282111\n",
            "[88]\ttraining's binary_logloss: 0.241752\tvalid_1's binary_logloss: 0.282144\n",
            "[89]\ttraining's binary_logloss: 0.241438\tvalid_1's binary_logloss: 0.282161\n",
            "[90]\ttraining's binary_logloss: 0.240973\tvalid_1's binary_logloss: 0.282262\n",
            "[91]\ttraining's binary_logloss: 0.240494\tvalid_1's binary_logloss: 0.282231\n",
            "[92]\ttraining's binary_logloss: 0.240195\tvalid_1's binary_logloss: 0.282139\n",
            "[93]\ttraining's binary_logloss: 0.239742\tvalid_1's binary_logloss: 0.282105\n",
            "[94]\ttraining's binary_logloss: 0.239215\tvalid_1's binary_logloss: 0.281962\n",
            "[95]\ttraining's binary_logloss: 0.238897\tvalid_1's binary_logloss: 0.281905\n",
            "[96]\ttraining's binary_logloss: 0.238637\tvalid_1's binary_logloss: 0.281823\n",
            "[97]\ttraining's binary_logloss: 0.238343\tvalid_1's binary_logloss: 0.281774\n",
            "[98]\ttraining's binary_logloss: 0.237959\tvalid_1's binary_logloss: 0.281734\n",
            "[99]\ttraining's binary_logloss: 0.237352\tvalid_1's binary_logloss: 0.281672\n",
            "[100]\ttraining's binary_logloss: 0.236892\tvalid_1's binary_logloss: 0.281653\n",
            "Fold:  2\n",
            "[1]\ttraining's binary_logloss: 0.509407\tvalid_1's binary_logloss: 0.510196\n",
            "[2]\ttraining's binary_logloss: 0.476958\tvalid_1's binary_logloss: 0.47826\n",
            "[3]\ttraining's binary_logloss: 0.451339\tvalid_1's binary_logloss: 0.453302\n",
            "[4]\ttraining's binary_logloss: 0.430374\tvalid_1's binary_logloss: 0.432489\n",
            "[5]\ttraining's binary_logloss: 0.412622\tvalid_1's binary_logloss: 0.41543\n",
            "[6]\ttraining's binary_logloss: 0.397527\tvalid_1's binary_logloss: 0.400667\n",
            "[7]\ttraining's binary_logloss: 0.384733\tvalid_1's binary_logloss: 0.388521\n",
            "[8]\ttraining's binary_logloss: 0.373207\tvalid_1's binary_logloss: 0.377243\n",
            "[9]\ttraining's binary_logloss: 0.363287\tvalid_1's binary_logloss: 0.367642\n",
            "[10]\ttraining's binary_logloss: 0.354681\tvalid_1's binary_logloss: 0.35962\n",
            "[11]\ttraining's binary_logloss: 0.347093\tvalid_1's binary_logloss: 0.352411\n",
            "[12]\ttraining's binary_logloss: 0.340361\tvalid_1's binary_logloss: 0.345772\n",
            "[13]\ttraining's binary_logloss: 0.334286\tvalid_1's binary_logloss: 0.339986\n",
            "[14]\ttraining's binary_logloss: 0.328713\tvalid_1's binary_logloss: 0.334727\n",
            "[15]\ttraining's binary_logloss: 0.323731\tvalid_1's binary_logloss: 0.330281\n",
            "[16]\ttraining's binary_logloss: 0.319406\tvalid_1's binary_logloss: 0.326292\n",
            "[17]\ttraining's binary_logloss: 0.315506\tvalid_1's binary_logloss: 0.322571\n",
            "[18]\ttraining's binary_logloss: 0.311696\tvalid_1's binary_logloss: 0.319184\n",
            "[19]\ttraining's binary_logloss: 0.308359\tvalid_1's binary_logloss: 0.316313\n",
            "[20]\ttraining's binary_logloss: 0.305287\tvalid_1's binary_logloss: 0.313722\n",
            "[21]\ttraining's binary_logloss: 0.302178\tvalid_1's binary_logloss: 0.310897\n",
            "[22]\ttraining's binary_logloss: 0.299242\tvalid_1's binary_logloss: 0.308385\n",
            "[23]\ttraining's binary_logloss: 0.296804\tvalid_1's binary_logloss: 0.306379\n",
            "[24]\ttraining's binary_logloss: 0.294506\tvalid_1's binary_logloss: 0.304399\n",
            "[25]\ttraining's binary_logloss: 0.292312\tvalid_1's binary_logloss: 0.302597\n",
            "[26]\ttraining's binary_logloss: 0.290276\tvalid_1's binary_logloss: 0.30111\n",
            "[27]\ttraining's binary_logloss: 0.288527\tvalid_1's binary_logloss: 0.299777\n",
            "[28]\ttraining's binary_logloss: 0.286793\tvalid_1's binary_logloss: 0.29832\n",
            "[29]\ttraining's binary_logloss: 0.285335\tvalid_1's binary_logloss: 0.297414\n",
            "[30]\ttraining's binary_logloss: 0.283899\tvalid_1's binary_logloss: 0.296475\n",
            "[31]\ttraining's binary_logloss: 0.282442\tvalid_1's binary_logloss: 0.295333\n",
            "[32]\ttraining's binary_logloss: 0.280914\tvalid_1's binary_logloss: 0.294349\n",
            "[33]\ttraining's binary_logloss: 0.279224\tvalid_1's binary_logloss: 0.293135\n",
            "[34]\ttraining's binary_logloss: 0.278014\tvalid_1's binary_logloss: 0.292459\n",
            "[35]\ttraining's binary_logloss: 0.276697\tvalid_1's binary_logloss: 0.291946\n",
            "[36]\ttraining's binary_logloss: 0.275135\tvalid_1's binary_logloss: 0.290604\n",
            "[37]\ttraining's binary_logloss: 0.273724\tvalid_1's binary_logloss: 0.289424\n",
            "[38]\ttraining's binary_logloss: 0.272718\tvalid_1's binary_logloss: 0.288901\n",
            "[39]\ttraining's binary_logloss: 0.271388\tvalid_1's binary_logloss: 0.2878\n",
            "[40]\ttraining's binary_logloss: 0.270516\tvalid_1's binary_logloss: 0.287243\n",
            "[41]\ttraining's binary_logloss: 0.269385\tvalid_1's binary_logloss: 0.286387\n",
            "[42]\ttraining's binary_logloss: 0.268398\tvalid_1's binary_logloss: 0.285698\n",
            "[43]\ttraining's binary_logloss: 0.267364\tvalid_1's binary_logloss: 0.285181\n",
            "[44]\ttraining's binary_logloss: 0.266455\tvalid_1's binary_logloss: 0.284758\n",
            "[45]\ttraining's binary_logloss: 0.265646\tvalid_1's binary_logloss: 0.284498\n",
            "[46]\ttraining's binary_logloss: 0.264604\tvalid_1's binary_logloss: 0.283748\n",
            "[47]\ttraining's binary_logloss: 0.263754\tvalid_1's binary_logloss: 0.283598\n",
            "[48]\ttraining's binary_logloss: 0.263018\tvalid_1's binary_logloss: 0.283165\n",
            "[49]\ttraining's binary_logloss: 0.262282\tvalid_1's binary_logloss: 0.282789\n",
            "[50]\ttraining's binary_logloss: 0.261543\tvalid_1's binary_logloss: 0.282452\n",
            "[51]\ttraining's binary_logloss: 0.26081\tvalid_1's binary_logloss: 0.282397\n",
            "[52]\ttraining's binary_logloss: 0.260037\tvalid_1's binary_logloss: 0.282195\n",
            "[53]\ttraining's binary_logloss: 0.259341\tvalid_1's binary_logloss: 0.281936\n",
            "[54]\ttraining's binary_logloss: 0.258653\tvalid_1's binary_logloss: 0.281676\n",
            "[55]\ttraining's binary_logloss: 0.257903\tvalid_1's binary_logloss: 0.281385\n",
            "[56]\ttraining's binary_logloss: 0.257192\tvalid_1's binary_logloss: 0.281284\n",
            "[57]\ttraining's binary_logloss: 0.256513\tvalid_1's binary_logloss: 0.280844\n",
            "[58]\ttraining's binary_logloss: 0.255936\tvalid_1's binary_logloss: 0.280696\n",
            "[59]\ttraining's binary_logloss: 0.255413\tvalid_1's binary_logloss: 0.28065\n",
            "[60]\ttraining's binary_logloss: 0.254751\tvalid_1's binary_logloss: 0.280734\n",
            "[61]\ttraining's binary_logloss: 0.254204\tvalid_1's binary_logloss: 0.280539\n",
            "[62]\ttraining's binary_logloss: 0.253686\tvalid_1's binary_logloss: 0.280449\n",
            "[63]\ttraining's binary_logloss: 0.253021\tvalid_1's binary_logloss: 0.280139\n",
            "[64]\ttraining's binary_logloss: 0.252459\tvalid_1's binary_logloss: 0.279698\n",
            "[65]\ttraining's binary_logloss: 0.252032\tvalid_1's binary_logloss: 0.279521\n",
            "[66]\ttraining's binary_logloss: 0.251464\tvalid_1's binary_logloss: 0.279502\n",
            "[67]\ttraining's binary_logloss: 0.250933\tvalid_1's binary_logloss: 0.279283\n",
            "[68]\ttraining's binary_logloss: 0.25051\tvalid_1's binary_logloss: 0.27931\n",
            "[69]\ttraining's binary_logloss: 0.250049\tvalid_1's binary_logloss: 0.278996\n",
            "[70]\ttraining's binary_logloss: 0.249503\tvalid_1's binary_logloss: 0.278787\n",
            "[71]\ttraining's binary_logloss: 0.249037\tvalid_1's binary_logloss: 0.27889\n",
            "[72]\ttraining's binary_logloss: 0.248603\tvalid_1's binary_logloss: 0.278598\n",
            "[73]\ttraining's binary_logloss: 0.24817\tvalid_1's binary_logloss: 0.278338\n",
            "[74]\ttraining's binary_logloss: 0.247645\tvalid_1's binary_logloss: 0.278243\n",
            "[75]\ttraining's binary_logloss: 0.247297\tvalid_1's binary_logloss: 0.278015\n",
            "[76]\ttraining's binary_logloss: 0.246887\tvalid_1's binary_logloss: 0.27807\n",
            "[77]\ttraining's binary_logloss: 0.246463\tvalid_1's binary_logloss: 0.27804\n",
            "[78]\ttraining's binary_logloss: 0.245904\tvalid_1's binary_logloss: 0.277928\n",
            "[79]\ttraining's binary_logloss: 0.245418\tvalid_1's binary_logloss: 0.277968\n",
            "[80]\ttraining's binary_logloss: 0.245051\tvalid_1's binary_logloss: 0.277735\n",
            "[81]\ttraining's binary_logloss: 0.24455\tvalid_1's binary_logloss: 0.277822\n",
            "[82]\ttraining's binary_logloss: 0.244037\tvalid_1's binary_logloss: 0.277785\n",
            "[83]\ttraining's binary_logloss: 0.243622\tvalid_1's binary_logloss: 0.277986\n",
            "[84]\ttraining's binary_logloss: 0.243225\tvalid_1's binary_logloss: 0.277849\n",
            "[85]\ttraining's binary_logloss: 0.242769\tvalid_1's binary_logloss: 0.277662\n",
            "[86]\ttraining's binary_logloss: 0.242418\tvalid_1's binary_logloss: 0.277603\n",
            "[87]\ttraining's binary_logloss: 0.242096\tvalid_1's binary_logloss: 0.277598\n",
            "[88]\ttraining's binary_logloss: 0.241735\tvalid_1's binary_logloss: 0.27759\n",
            "[89]\ttraining's binary_logloss: 0.241182\tvalid_1's binary_logloss: 0.277633\n",
            "[90]\ttraining's binary_logloss: 0.240819\tvalid_1's binary_logloss: 0.27779\n",
            "[91]\ttraining's binary_logloss: 0.240449\tvalid_1's binary_logloss: 0.277614\n",
            "[92]\ttraining's binary_logloss: 0.23997\tvalid_1's binary_logloss: 0.277503\n",
            "[93]\ttraining's binary_logloss: 0.239463\tvalid_1's binary_logloss: 0.277561\n",
            "[94]\ttraining's binary_logloss: 0.23894\tvalid_1's binary_logloss: 0.277517\n",
            "[95]\ttraining's binary_logloss: 0.238614\tvalid_1's binary_logloss: 0.277513\n",
            "[96]\ttraining's binary_logloss: 0.238186\tvalid_1's binary_logloss: 0.277569\n",
            "[97]\ttraining's binary_logloss: 0.23783\tvalid_1's binary_logloss: 0.27748\n",
            "[98]\ttraining's binary_logloss: 0.237388\tvalid_1's binary_logloss: 0.277572\n",
            "[99]\ttraining's binary_logloss: 0.237065\tvalid_1's binary_logloss: 0.277314\n",
            "[100]\ttraining's binary_logloss: 0.236737\tvalid_1's binary_logloss: 0.277488\n",
            "Fold:  3\n",
            "[1]\ttraining's binary_logloss: 0.51097\tvalid_1's binary_logloss: 0.506048\n",
            "[2]\ttraining's binary_logloss: 0.478567\tvalid_1's binary_logloss: 0.473626\n",
            "[3]\ttraining's binary_logloss: 0.45297\tvalid_1's binary_logloss: 0.448089\n",
            "[4]\ttraining's binary_logloss: 0.432052\tvalid_1's binary_logloss: 0.426856\n",
            "[5]\ttraining's binary_logloss: 0.414691\tvalid_1's binary_logloss: 0.409542\n",
            "[6]\ttraining's binary_logloss: 0.399903\tvalid_1's binary_logloss: 0.394344\n",
            "[7]\ttraining's binary_logloss: 0.387037\tvalid_1's binary_logloss: 0.381341\n",
            "[8]\ttraining's binary_logloss: 0.375923\tvalid_1's binary_logloss: 0.370241\n",
            "[9]\ttraining's binary_logloss: 0.366121\tvalid_1's binary_logloss: 0.360175\n",
            "[10]\ttraining's binary_logloss: 0.35743\tvalid_1's binary_logloss: 0.351916\n",
            "[11]\ttraining's binary_logloss: 0.349807\tvalid_1's binary_logloss: 0.344127\n",
            "[12]\ttraining's binary_logloss: 0.342826\tvalid_1's binary_logloss: 0.336864\n",
            "[13]\ttraining's binary_logloss: 0.336899\tvalid_1's binary_logloss: 0.331439\n",
            "[14]\ttraining's binary_logloss: 0.331658\tvalid_1's binary_logloss: 0.325989\n",
            "[15]\ttraining's binary_logloss: 0.326969\tvalid_1's binary_logloss: 0.321651\n",
            "[16]\ttraining's binary_logloss: 0.32232\tvalid_1's binary_logloss: 0.316814\n",
            "[17]\ttraining's binary_logloss: 0.318338\tvalid_1's binary_logloss: 0.313273\n",
            "[18]\ttraining's binary_logloss: 0.314687\tvalid_1's binary_logloss: 0.309824\n",
            "[19]\ttraining's binary_logloss: 0.311244\tvalid_1's binary_logloss: 0.306423\n",
            "[20]\ttraining's binary_logloss: 0.307935\tvalid_1's binary_logloss: 0.303134\n",
            "[21]\ttraining's binary_logloss: 0.305001\tvalid_1's binary_logloss: 0.300288\n",
            "[22]\ttraining's binary_logloss: 0.302411\tvalid_1's binary_logloss: 0.298023\n",
            "[23]\ttraining's binary_logloss: 0.299875\tvalid_1's binary_logloss: 0.29572\n",
            "[24]\ttraining's binary_logloss: 0.297714\tvalid_1's binary_logloss: 0.293988\n",
            "[25]\ttraining's binary_logloss: 0.295524\tvalid_1's binary_logloss: 0.292279\n",
            "[26]\ttraining's binary_logloss: 0.293075\tvalid_1's binary_logloss: 0.289853\n",
            "[27]\ttraining's binary_logloss: 0.29118\tvalid_1's binary_logloss: 0.28846\n",
            "[28]\ttraining's binary_logloss: 0.289501\tvalid_1's binary_logloss: 0.28728\n",
            "[29]\ttraining's binary_logloss: 0.287893\tvalid_1's binary_logloss: 0.286356\n",
            "[30]\ttraining's binary_logloss: 0.286484\tvalid_1's binary_logloss: 0.285396\n",
            "[31]\ttraining's binary_logloss: 0.28522\tvalid_1's binary_logloss: 0.284502\n",
            "[32]\ttraining's binary_logloss: 0.283888\tvalid_1's binary_logloss: 0.283779\n",
            "[33]\ttraining's binary_logloss: 0.282452\tvalid_1's binary_logloss: 0.282839\n",
            "[34]\ttraining's binary_logloss: 0.280817\tvalid_1's binary_logloss: 0.281235\n",
            "[35]\ttraining's binary_logloss: 0.279722\tvalid_1's binary_logloss: 0.280465\n",
            "[36]\ttraining's binary_logloss: 0.27826\tvalid_1's binary_logloss: 0.279301\n",
            "[37]\ttraining's binary_logloss: 0.277176\tvalid_1's binary_logloss: 0.278582\n",
            "[38]\ttraining's binary_logloss: 0.276111\tvalid_1's binary_logloss: 0.278215\n",
            "[39]\ttraining's binary_logloss: 0.27474\tvalid_1's binary_logloss: 0.277259\n",
            "[40]\ttraining's binary_logloss: 0.273432\tvalid_1's binary_logloss: 0.275825\n",
            "[41]\ttraining's binary_logloss: 0.272332\tvalid_1's binary_logloss: 0.275092\n",
            "[42]\ttraining's binary_logloss: 0.271337\tvalid_1's binary_logloss: 0.274695\n",
            "[43]\ttraining's binary_logloss: 0.27025\tvalid_1's binary_logloss: 0.273943\n",
            "[44]\ttraining's binary_logloss: 0.269483\tvalid_1's binary_logloss: 0.273751\n",
            "[45]\ttraining's binary_logloss: 0.268558\tvalid_1's binary_logloss: 0.272884\n",
            "[46]\ttraining's binary_logloss: 0.267759\tvalid_1's binary_logloss: 0.272411\n",
            "[47]\ttraining's binary_logloss: 0.267053\tvalid_1's binary_logloss: 0.272185\n",
            "[48]\ttraining's binary_logloss: 0.26623\tvalid_1's binary_logloss: 0.271688\n",
            "[49]\ttraining's binary_logloss: 0.265398\tvalid_1's binary_logloss: 0.271302\n",
            "[50]\ttraining's binary_logloss: 0.264726\tvalid_1's binary_logloss: 0.271316\n",
            "[51]\ttraining's binary_logloss: 0.263974\tvalid_1's binary_logloss: 0.270897\n",
            "[52]\ttraining's binary_logloss: 0.263211\tvalid_1's binary_logloss: 0.27068\n",
            "[53]\ttraining's binary_logloss: 0.262459\tvalid_1's binary_logloss: 0.270324\n",
            "[54]\ttraining's binary_logloss: 0.26184\tvalid_1's binary_logloss: 0.269973\n",
            "[55]\ttraining's binary_logloss: 0.26128\tvalid_1's binary_logloss: 0.269952\n",
            "[56]\ttraining's binary_logloss: 0.260546\tvalid_1's binary_logloss: 0.26976\n",
            "[57]\ttraining's binary_logloss: 0.260106\tvalid_1's binary_logloss: 0.26978\n",
            "[58]\ttraining's binary_logloss: 0.25945\tvalid_1's binary_logloss: 0.269329\n",
            "[59]\ttraining's binary_logloss: 0.258878\tvalid_1's binary_logloss: 0.269028\n",
            "[60]\ttraining's binary_logloss: 0.258354\tvalid_1's binary_logloss: 0.269123\n",
            "[61]\ttraining's binary_logloss: 0.25784\tvalid_1's binary_logloss: 0.268893\n",
            "[62]\ttraining's binary_logloss: 0.257221\tvalid_1's binary_logloss: 0.268614\n",
            "[63]\ttraining's binary_logloss: 0.256532\tvalid_1's binary_logloss: 0.268569\n",
            "[64]\ttraining's binary_logloss: 0.256081\tvalid_1's binary_logloss: 0.268565\n",
            "[65]\ttraining's binary_logloss: 0.255581\tvalid_1's binary_logloss: 0.268352\n",
            "[66]\ttraining's binary_logloss: 0.254988\tvalid_1's binary_logloss: 0.268254\n",
            "[67]\ttraining's binary_logloss: 0.254576\tvalid_1's binary_logloss: 0.268088\n",
            "[68]\ttraining's binary_logloss: 0.254182\tvalid_1's binary_logloss: 0.268134\n",
            "[69]\ttraining's binary_logloss: 0.253643\tvalid_1's binary_logloss: 0.267974\n",
            "[70]\ttraining's binary_logloss: 0.253172\tvalid_1's binary_logloss: 0.268041\n",
            "[71]\ttraining's binary_logloss: 0.252612\tvalid_1's binary_logloss: 0.267953\n",
            "[72]\ttraining's binary_logloss: 0.252065\tvalid_1's binary_logloss: 0.267821\n",
            "[73]\ttraining's binary_logloss: 0.251455\tvalid_1's binary_logloss: 0.267724\n",
            "[74]\ttraining's binary_logloss: 0.250968\tvalid_1's binary_logloss: 0.267693\n",
            "[75]\ttraining's binary_logloss: 0.250516\tvalid_1's binary_logloss: 0.267427\n",
            "[76]\ttraining's binary_logloss: 0.249915\tvalid_1's binary_logloss: 0.267524\n",
            "[77]\ttraining's binary_logloss: 0.249488\tvalid_1's binary_logloss: 0.267317\n",
            "[78]\ttraining's binary_logloss: 0.249152\tvalid_1's binary_logloss: 0.267218\n",
            "[79]\ttraining's binary_logloss: 0.248696\tvalid_1's binary_logloss: 0.26692\n",
            "[80]\ttraining's binary_logloss: 0.248119\tvalid_1's binary_logloss: 0.26687\n",
            "[81]\ttraining's binary_logloss: 0.247637\tvalid_1's binary_logloss: 0.266922\n",
            "[82]\ttraining's binary_logloss: 0.247239\tvalid_1's binary_logloss: 0.266701\n",
            "[83]\ttraining's binary_logloss: 0.24663\tvalid_1's binary_logloss: 0.266671\n",
            "[84]\ttraining's binary_logloss: 0.24607\tvalid_1's binary_logloss: 0.266805\n",
            "[85]\ttraining's binary_logloss: 0.245699\tvalid_1's binary_logloss: 0.266836\n",
            "[86]\ttraining's binary_logloss: 0.24533\tvalid_1's binary_logloss: 0.266852\n",
            "[87]\ttraining's binary_logloss: 0.244997\tvalid_1's binary_logloss: 0.266634\n",
            "[88]\ttraining's binary_logloss: 0.244509\tvalid_1's binary_logloss: 0.266669\n",
            "[89]\ttraining's binary_logloss: 0.244221\tvalid_1's binary_logloss: 0.266683\n",
            "[90]\ttraining's binary_logloss: 0.243841\tvalid_1's binary_logloss: 0.266469\n",
            "[91]\ttraining's binary_logloss: 0.243259\tvalid_1's binary_logloss: 0.266408\n",
            "[92]\ttraining's binary_logloss: 0.242857\tvalid_1's binary_logloss: 0.26616\n",
            "[93]\ttraining's binary_logloss: 0.242446\tvalid_1's binary_logloss: 0.266335\n",
            "[94]\ttraining's binary_logloss: 0.241954\tvalid_1's binary_logloss: 0.266434\n",
            "[95]\ttraining's binary_logloss: 0.241569\tvalid_1's binary_logloss: 0.266463\n",
            "[96]\ttraining's binary_logloss: 0.241037\tvalid_1's binary_logloss: 0.266592\n",
            "[97]\ttraining's binary_logloss: 0.240754\tvalid_1's binary_logloss: 0.266703\n",
            "[98]\ttraining's binary_logloss: 0.240465\tvalid_1's binary_logloss: 0.266638\n",
            "[99]\ttraining's binary_logloss: 0.24007\tvalid_1's binary_logloss: 0.266897\n",
            "[100]\ttraining's binary_logloss: 0.239669\tvalid_1's binary_logloss: 0.26676\n",
            "Fold:  4\n",
            "[1]\ttraining's binary_logloss: 0.509642\tvalid_1's binary_logloss: 0.509136\n",
            "[2]\ttraining's binary_logloss: 0.476811\tvalid_1's binary_logloss: 0.478227\n",
            "[3]\ttraining's binary_logloss: 0.450641\tvalid_1's binary_logloss: 0.453951\n",
            "[4]\ttraining's binary_logloss: 0.429223\tvalid_1's binary_logloss: 0.433975\n",
            "[5]\ttraining's binary_logloss: 0.410966\tvalid_1's binary_logloss: 0.417059\n",
            "[6]\ttraining's binary_logloss: 0.395816\tvalid_1's binary_logloss: 0.403144\n",
            "[7]\ttraining's binary_logloss: 0.383077\tvalid_1's binary_logloss: 0.391367\n",
            "[8]\ttraining's binary_logloss: 0.371845\tvalid_1's binary_logloss: 0.381136\n",
            "[9]\ttraining's binary_logloss: 0.36201\tvalid_1's binary_logloss: 0.37252\n",
            "[10]\ttraining's binary_logloss: 0.353107\tvalid_1's binary_logloss: 0.364538\n",
            "[11]\ttraining's binary_logloss: 0.34524\tvalid_1's binary_logloss: 0.357846\n",
            "[12]\ttraining's binary_logloss: 0.33836\tvalid_1's binary_logloss: 0.35196\n",
            "[13]\ttraining's binary_logloss: 0.331975\tvalid_1's binary_logloss: 0.345855\n",
            "[14]\ttraining's binary_logloss: 0.326539\tvalid_1's binary_logloss: 0.341025\n",
            "[15]\ttraining's binary_logloss: 0.321645\tvalid_1's binary_logloss: 0.336937\n",
            "[16]\ttraining's binary_logloss: 0.316992\tvalid_1's binary_logloss: 0.332486\n",
            "[17]\ttraining's binary_logloss: 0.312862\tvalid_1's binary_logloss: 0.32898\n",
            "[18]\ttraining's binary_logloss: 0.309058\tvalid_1's binary_logloss: 0.32603\n",
            "[19]\ttraining's binary_logloss: 0.305508\tvalid_1's binary_logloss: 0.323006\n",
            "[20]\ttraining's binary_logloss: 0.302328\tvalid_1's binary_logloss: 0.320329\n",
            "[21]\ttraining's binary_logloss: 0.29954\tvalid_1's binary_logloss: 0.31805\n",
            "[22]\ttraining's binary_logloss: 0.296954\tvalid_1's binary_logloss: 0.315934\n",
            "[23]\ttraining's binary_logloss: 0.29461\tvalid_1's binary_logloss: 0.313916\n",
            "[24]\ttraining's binary_logloss: 0.292098\tvalid_1's binary_logloss: 0.312275\n",
            "[25]\ttraining's binary_logloss: 0.290064\tvalid_1's binary_logloss: 0.310745\n",
            "[26]\ttraining's binary_logloss: 0.288044\tvalid_1's binary_logloss: 0.309213\n",
            "[27]\ttraining's binary_logloss: 0.286287\tvalid_1's binary_logloss: 0.308167\n",
            "[28]\ttraining's binary_logloss: 0.28458\tvalid_1's binary_logloss: 0.306892\n",
            "[29]\ttraining's binary_logloss: 0.283065\tvalid_1's binary_logloss: 0.305875\n",
            "[30]\ttraining's binary_logloss: 0.281664\tvalid_1's binary_logloss: 0.304777\n",
            "[31]\ttraining's binary_logloss: 0.28023\tvalid_1's binary_logloss: 0.303756\n",
            "[32]\ttraining's binary_logloss: 0.278851\tvalid_1's binary_logloss: 0.302925\n",
            "[33]\ttraining's binary_logloss: 0.277448\tvalid_1's binary_logloss: 0.301807\n",
            "[34]\ttraining's binary_logloss: 0.276042\tvalid_1's binary_logloss: 0.300868\n",
            "[35]\ttraining's binary_logloss: 0.274737\tvalid_1's binary_logloss: 0.300162\n",
            "[36]\ttraining's binary_logloss: 0.273091\tvalid_1's binary_logloss: 0.298697\n",
            "[37]\ttraining's binary_logloss: 0.271835\tvalid_1's binary_logloss: 0.297563\n",
            "[38]\ttraining's binary_logloss: 0.27043\tvalid_1's binary_logloss: 0.29624\n",
            "[39]\ttraining's binary_logloss: 0.269078\tvalid_1's binary_logloss: 0.295029\n",
            "[40]\ttraining's binary_logloss: 0.268099\tvalid_1's binary_logloss: 0.294346\n",
            "[41]\ttraining's binary_logloss: 0.267016\tvalid_1's binary_logloss: 0.293417\n",
            "[42]\ttraining's binary_logloss: 0.266194\tvalid_1's binary_logloss: 0.293155\n",
            "[43]\ttraining's binary_logloss: 0.265092\tvalid_1's binary_logloss: 0.292533\n",
            "[44]\ttraining's binary_logloss: 0.264279\tvalid_1's binary_logloss: 0.292159\n",
            "[45]\ttraining's binary_logloss: 0.263611\tvalid_1's binary_logloss: 0.29194\n",
            "[46]\ttraining's binary_logloss: 0.262655\tvalid_1's binary_logloss: 0.291311\n",
            "[47]\ttraining's binary_logloss: 0.261785\tvalid_1's binary_logloss: 0.290457\n",
            "[48]\ttraining's binary_logloss: 0.260947\tvalid_1's binary_logloss: 0.2902\n",
            "[49]\ttraining's binary_logloss: 0.260208\tvalid_1's binary_logloss: 0.289785\n",
            "[50]\ttraining's binary_logloss: 0.259494\tvalid_1's binary_logloss: 0.289855\n",
            "[51]\ttraining's binary_logloss: 0.25876\tvalid_1's binary_logloss: 0.289594\n",
            "[52]\ttraining's binary_logloss: 0.258091\tvalid_1's binary_logloss: 0.289138\n",
            "[53]\ttraining's binary_logloss: 0.257319\tvalid_1's binary_logloss: 0.289015\n",
            "[54]\ttraining's binary_logloss: 0.256537\tvalid_1's binary_logloss: 0.288244\n",
            "[55]\ttraining's binary_logloss: 0.255964\tvalid_1's binary_logloss: 0.2882\n",
            "[56]\ttraining's binary_logloss: 0.255344\tvalid_1's binary_logloss: 0.288209\n",
            "[57]\ttraining's binary_logloss: 0.254738\tvalid_1's binary_logloss: 0.287964\n",
            "[58]\ttraining's binary_logloss: 0.254016\tvalid_1's binary_logloss: 0.287985\n",
            "[59]\ttraining's binary_logloss: 0.253327\tvalid_1's binary_logloss: 0.287562\n",
            "[60]\ttraining's binary_logloss: 0.252889\tvalid_1's binary_logloss: 0.287285\n",
            "[61]\ttraining's binary_logloss: 0.252303\tvalid_1's binary_logloss: 0.286904\n",
            "[62]\ttraining's binary_logloss: 0.251724\tvalid_1's binary_logloss: 0.286887\n",
            "[63]\ttraining's binary_logloss: 0.251145\tvalid_1's binary_logloss: 0.286882\n",
            "[64]\ttraining's binary_logloss: 0.250576\tvalid_1's binary_logloss: 0.286953\n",
            "[65]\ttraining's binary_logloss: 0.250006\tvalid_1's binary_logloss: 0.286699\n",
            "[66]\ttraining's binary_logloss: 0.249579\tvalid_1's binary_logloss: 0.286563\n",
            "[67]\ttraining's binary_logloss: 0.249095\tvalid_1's binary_logloss: 0.286535\n",
            "[68]\ttraining's binary_logloss: 0.248583\tvalid_1's binary_logloss: 0.28646\n",
            "[69]\ttraining's binary_logloss: 0.247992\tvalid_1's binary_logloss: 0.286513\n",
            "[70]\ttraining's binary_logloss: 0.247528\tvalid_1's binary_logloss: 0.286593\n",
            "[71]\ttraining's binary_logloss: 0.247014\tvalid_1's binary_logloss: 0.286474\n",
            "[72]\ttraining's binary_logloss: 0.246544\tvalid_1's binary_logloss: 0.286319\n",
            "[73]\ttraining's binary_logloss: 0.246123\tvalid_1's binary_logloss: 0.286269\n",
            "[74]\ttraining's binary_logloss: 0.245709\tvalid_1's binary_logloss: 0.286197\n",
            "[75]\ttraining's binary_logloss: 0.24525\tvalid_1's binary_logloss: 0.286231\n",
            "[76]\ttraining's binary_logloss: 0.244678\tvalid_1's binary_logloss: 0.286284\n",
            "[77]\ttraining's binary_logloss: 0.244237\tvalid_1's binary_logloss: 0.285943\n",
            "[78]\ttraining's binary_logloss: 0.243825\tvalid_1's binary_logloss: 0.285717\n",
            "[79]\ttraining's binary_logloss: 0.243419\tvalid_1's binary_logloss: 0.285613\n",
            "[80]\ttraining's binary_logloss: 0.243074\tvalid_1's binary_logloss: 0.28571\n",
            "[81]\ttraining's binary_logloss: 0.242693\tvalid_1's binary_logloss: 0.285473\n",
            "[82]\ttraining's binary_logloss: 0.24213\tvalid_1's binary_logloss: 0.285447\n",
            "[83]\ttraining's binary_logloss: 0.2417\tvalid_1's binary_logloss: 0.285556\n",
            "[84]\ttraining's binary_logloss: 0.241283\tvalid_1's binary_logloss: 0.28542\n",
            "[85]\ttraining's binary_logloss: 0.24093\tvalid_1's binary_logloss: 0.28512\n",
            "[86]\ttraining's binary_logloss: 0.2404\tvalid_1's binary_logloss: 0.285002\n",
            "[87]\ttraining's binary_logloss: 0.239881\tvalid_1's binary_logloss: 0.285029\n",
            "[88]\ttraining's binary_logloss: 0.239532\tvalid_1's binary_logloss: 0.285094\n",
            "[89]\ttraining's binary_logloss: 0.239108\tvalid_1's binary_logloss: 0.284958\n",
            "[90]\ttraining's binary_logloss: 0.238768\tvalid_1's binary_logloss: 0.284944\n",
            "[91]\ttraining's binary_logloss: 0.238211\tvalid_1's binary_logloss: 0.284872\n",
            "[92]\ttraining's binary_logloss: 0.237745\tvalid_1's binary_logloss: 0.284728\n",
            "[93]\ttraining's binary_logloss: 0.237233\tvalid_1's binary_logloss: 0.284882\n",
            "[94]\ttraining's binary_logloss: 0.236734\tvalid_1's binary_logloss: 0.284889\n",
            "[95]\ttraining's binary_logloss: 0.236474\tvalid_1's binary_logloss: 0.284872\n",
            "[96]\ttraining's binary_logloss: 0.236081\tvalid_1's binary_logloss: 0.284727\n",
            "[97]\ttraining's binary_logloss: 0.235791\tvalid_1's binary_logloss: 0.284541\n",
            "[98]\ttraining's binary_logloss: 0.235475\tvalid_1's binary_logloss: 0.28455\n",
            "[99]\ttraining's binary_logloss: 0.235105\tvalid_1's binary_logloss: 0.28459\n",
            "[100]\ttraining's binary_logloss: 0.234696\tvalid_1's binary_logloss: 0.284653\n",
            "Fold:  5\n",
            "[1]\ttraining's binary_logloss: 0.507215\tvalid_1's binary_logloss: 0.518814\n",
            "[2]\ttraining's binary_logloss: 0.474511\tvalid_1's binary_logloss: 0.48718\n",
            "[3]\ttraining's binary_logloss: 0.448768\tvalid_1's binary_logloss: 0.46198\n",
            "[4]\ttraining's binary_logloss: 0.427457\tvalid_1's binary_logloss: 0.441194\n",
            "[5]\ttraining's binary_logloss: 0.409876\tvalid_1's binary_logloss: 0.423865\n",
            "[6]\ttraining's binary_logloss: 0.394813\tvalid_1's binary_logloss: 0.409492\n",
            "[7]\ttraining's binary_logloss: 0.381873\tvalid_1's binary_logloss: 0.397524\n",
            "[8]\ttraining's binary_logloss: 0.37037\tvalid_1's binary_logloss: 0.386625\n",
            "[9]\ttraining's binary_logloss: 0.360695\tvalid_1's binary_logloss: 0.37735\n",
            "[10]\ttraining's binary_logloss: 0.352135\tvalid_1's binary_logloss: 0.369465\n",
            "[11]\ttraining's binary_logloss: 0.344283\tvalid_1's binary_logloss: 0.362012\n",
            "[12]\ttraining's binary_logloss: 0.33779\tvalid_1's binary_logloss: 0.355607\n",
            "[13]\ttraining's binary_logloss: 0.33178\tvalid_1's binary_logloss: 0.350072\n",
            "[14]\ttraining's binary_logloss: 0.326399\tvalid_1's binary_logloss: 0.345345\n",
            "[15]\ttraining's binary_logloss: 0.321303\tvalid_1's binary_logloss: 0.340584\n",
            "[16]\ttraining's binary_logloss: 0.316827\tvalid_1's binary_logloss: 0.336399\n",
            "[17]\ttraining's binary_logloss: 0.312684\tvalid_1's binary_logloss: 0.33256\n",
            "[18]\ttraining's binary_logloss: 0.309007\tvalid_1's binary_logloss: 0.329298\n",
            "[19]\ttraining's binary_logloss: 0.305684\tvalid_1's binary_logloss: 0.326579\n",
            "[20]\ttraining's binary_logloss: 0.302695\tvalid_1's binary_logloss: 0.323821\n",
            "[21]\ttraining's binary_logloss: 0.29977\tvalid_1's binary_logloss: 0.321542\n",
            "[22]\ttraining's binary_logloss: 0.296869\tvalid_1's binary_logloss: 0.318778\n",
            "[23]\ttraining's binary_logloss: 0.294439\tvalid_1's binary_logloss: 0.31648\n",
            "[24]\ttraining's binary_logloss: 0.292217\tvalid_1's binary_logloss: 0.3147\n",
            "[25]\ttraining's binary_logloss: 0.290311\tvalid_1's binary_logloss: 0.313001\n",
            "[26]\ttraining's binary_logloss: 0.28846\tvalid_1's binary_logloss: 0.311289\n",
            "[27]\ttraining's binary_logloss: 0.286719\tvalid_1's binary_logloss: 0.309995\n",
            "[28]\ttraining's binary_logloss: 0.285284\tvalid_1's binary_logloss: 0.308964\n",
            "[29]\ttraining's binary_logloss: 0.28349\tvalid_1's binary_logloss: 0.307612\n",
            "[30]\ttraining's binary_logloss: 0.282147\tvalid_1's binary_logloss: 0.306562\n",
            "[31]\ttraining's binary_logloss: 0.280732\tvalid_1's binary_logloss: 0.305692\n",
            "[32]\ttraining's binary_logloss: 0.278784\tvalid_1's binary_logloss: 0.303896\n",
            "[33]\ttraining's binary_logloss: 0.277592\tvalid_1's binary_logloss: 0.303175\n",
            "[34]\ttraining's binary_logloss: 0.276212\tvalid_1's binary_logloss: 0.302262\n",
            "[35]\ttraining's binary_logloss: 0.274533\tvalid_1's binary_logloss: 0.301159\n",
            "[36]\ttraining's binary_logloss: 0.273386\tvalid_1's binary_logloss: 0.300346\n",
            "[37]\ttraining's binary_logloss: 0.271659\tvalid_1's binary_logloss: 0.298969\n",
            "[38]\ttraining's binary_logloss: 0.270747\tvalid_1's binary_logloss: 0.298626\n",
            "[39]\ttraining's binary_logloss: 0.269506\tvalid_1's binary_logloss: 0.297833\n",
            "[40]\ttraining's binary_logloss: 0.268232\tvalid_1's binary_logloss: 0.29692\n",
            "[41]\ttraining's binary_logloss: 0.267056\tvalid_1's binary_logloss: 0.296071\n",
            "[42]\ttraining's binary_logloss: 0.26617\tvalid_1's binary_logloss: 0.295493\n",
            "[43]\ttraining's binary_logloss: 0.265048\tvalid_1's binary_logloss: 0.294618\n",
            "[44]\ttraining's binary_logloss: 0.264302\tvalid_1's binary_logloss: 0.294543\n",
            "[45]\ttraining's binary_logloss: 0.263289\tvalid_1's binary_logloss: 0.294093\n",
            "[46]\ttraining's binary_logloss: 0.262469\tvalid_1's binary_logloss: 0.293715\n",
            "[47]\ttraining's binary_logloss: 0.261619\tvalid_1's binary_logloss: 0.293293\n",
            "[48]\ttraining's binary_logloss: 0.260801\tvalid_1's binary_logloss: 0.292885\n",
            "[49]\ttraining's binary_logloss: 0.259943\tvalid_1's binary_logloss: 0.292273\n",
            "[50]\ttraining's binary_logloss: 0.259323\tvalid_1's binary_logloss: 0.292149\n",
            "[51]\ttraining's binary_logloss: 0.258596\tvalid_1's binary_logloss: 0.291654\n",
            "[52]\ttraining's binary_logloss: 0.257834\tvalid_1's binary_logloss: 0.291461\n",
            "[53]\ttraining's binary_logloss: 0.257176\tvalid_1's binary_logloss: 0.291186\n",
            "[54]\ttraining's binary_logloss: 0.256594\tvalid_1's binary_logloss: 0.291076\n",
            "[55]\ttraining's binary_logloss: 0.256022\tvalid_1's binary_logloss: 0.290801\n",
            "[56]\ttraining's binary_logloss: 0.255433\tvalid_1's binary_logloss: 0.29066\n",
            "[57]\ttraining's binary_logloss: 0.254814\tvalid_1's binary_logloss: 0.290377\n",
            "[58]\ttraining's binary_logloss: 0.254145\tvalid_1's binary_logloss: 0.290225\n",
            "[59]\ttraining's binary_logloss: 0.253549\tvalid_1's binary_logloss: 0.290057\n",
            "[60]\ttraining's binary_logloss: 0.25302\tvalid_1's binary_logloss: 0.290007\n",
            "[61]\ttraining's binary_logloss: 0.252487\tvalid_1's binary_logloss: 0.290025\n",
            "[62]\ttraining's binary_logloss: 0.251926\tvalid_1's binary_logloss: 0.28957\n",
            "[63]\ttraining's binary_logloss: 0.251287\tvalid_1's binary_logloss: 0.289706\n",
            "[64]\ttraining's binary_logloss: 0.250725\tvalid_1's binary_logloss: 0.289504\n",
            "[65]\ttraining's binary_logloss: 0.250322\tvalid_1's binary_logloss: 0.289665\n",
            "[66]\ttraining's binary_logloss: 0.2498\tvalid_1's binary_logloss: 0.289421\n",
            "[67]\ttraining's binary_logloss: 0.249322\tvalid_1's binary_logloss: 0.289265\n",
            "[68]\ttraining's binary_logloss: 0.248794\tvalid_1's binary_logloss: 0.289282\n",
            "[69]\ttraining's binary_logloss: 0.248246\tvalid_1's binary_logloss: 0.289044\n",
            "[70]\ttraining's binary_logloss: 0.247752\tvalid_1's binary_logloss: 0.288894\n",
            "[71]\ttraining's binary_logloss: 0.247339\tvalid_1's binary_logloss: 0.289088\n",
            "[72]\ttraining's binary_logloss: 0.246846\tvalid_1's binary_logloss: 0.289026\n",
            "[73]\ttraining's binary_logloss: 0.246405\tvalid_1's binary_logloss: 0.288904\n",
            "[74]\ttraining's binary_logloss: 0.245812\tvalid_1's binary_logloss: 0.288848\n",
            "[75]\ttraining's binary_logloss: 0.245393\tvalid_1's binary_logloss: 0.288525\n",
            "[76]\ttraining's binary_logloss: 0.244922\tvalid_1's binary_logloss: 0.288555\n",
            "[77]\ttraining's binary_logloss: 0.244565\tvalid_1's binary_logloss: 0.288692\n",
            "[78]\ttraining's binary_logloss: 0.244033\tvalid_1's binary_logloss: 0.288765\n",
            "[79]\ttraining's binary_logloss: 0.243674\tvalid_1's binary_logloss: 0.288623\n",
            "[80]\ttraining's binary_logloss: 0.243247\tvalid_1's binary_logloss: 0.288563\n",
            "[81]\ttraining's binary_logloss: 0.242716\tvalid_1's binary_logloss: 0.288466\n",
            "[82]\ttraining's binary_logloss: 0.242347\tvalid_1's binary_logloss: 0.28856\n",
            "[83]\ttraining's binary_logloss: 0.241819\tvalid_1's binary_logloss: 0.288528\n",
            "[84]\ttraining's binary_logloss: 0.24129\tvalid_1's binary_logloss: 0.288545\n",
            "[85]\ttraining's binary_logloss: 0.240954\tvalid_1's binary_logloss: 0.288574\n",
            "[86]\ttraining's binary_logloss: 0.240629\tvalid_1's binary_logloss: 0.288889\n",
            "[87]\ttraining's binary_logloss: 0.240317\tvalid_1's binary_logloss: 0.288995\n",
            "[88]\ttraining's binary_logloss: 0.239927\tvalid_1's binary_logloss: 0.289071\n",
            "[89]\ttraining's binary_logloss: 0.239588\tvalid_1's binary_logloss: 0.288876\n",
            "[90]\ttraining's binary_logloss: 0.239197\tvalid_1's binary_logloss: 0.288916\n",
            "[91]\ttraining's binary_logloss: 0.238833\tvalid_1's binary_logloss: 0.288977\n",
            "[92]\ttraining's binary_logloss: 0.238409\tvalid_1's binary_logloss: 0.288861\n",
            "[93]\ttraining's binary_logloss: 0.238041\tvalid_1's binary_logloss: 0.288742\n",
            "[94]\ttraining's binary_logloss: 0.237634\tvalid_1's binary_logloss: 0.288832\n",
            "[95]\ttraining's binary_logloss: 0.237366\tvalid_1's binary_logloss: 0.288701\n",
            "[96]\ttraining's binary_logloss: 0.236946\tvalid_1's binary_logloss: 0.288784\n",
            "[97]\ttraining's binary_logloss: 0.236555\tvalid_1's binary_logloss: 0.288906\n",
            "[98]\ttraining's binary_logloss: 0.236057\tvalid_1's binary_logloss: 0.288987\n",
            "[99]\ttraining's binary_logloss: 0.235728\tvalid_1's binary_logloss: 0.289063\n",
            "[100]\ttraining's binary_logloss: 0.235372\tvalid_1's binary_logloss: 0.289257\n"
          ],
          "name": "stdout"
        }
      ]
    },
    {
      "cell_type": "markdown",
      "metadata": {
        "papermill": {
          "duration": 0.044324,
          "end_time": "2020-12-01T11:33:57.926182",
          "exception": false,
          "start_time": "2020-12-01T11:33:57.881858",
          "status": "completed"
        },
        "tags": [],
        "id": "UPINCL5Dp-oP"
      },
      "source": [
        "https://www.kaggle.com/werooring/basic-eda-lgbm-modeling-public-score-0-87714"
      ]
    },
    {
      "cell_type": "code",
      "metadata": {
        "execution": {
          "iopub.execute_input": "2020-12-01T11:33:58.006577Z",
          "iopub.status.busy": "2020-12-01T11:33:58.005904Z",
          "iopub.status.idle": "2020-12-01T11:33:58.009415Z",
          "shell.execute_reply": "2020-12-01T11:33:58.008796Z"
        },
        "papermill": {
          "duration": 0.047149,
          "end_time": "2020-12-01T11:33:58.009547",
          "exception": false,
          "start_time": "2020-12-01T11:33:57.962398",
          "status": "completed"
        },
        "tags": [],
        "id": "-H7bX0C3p-oP"
      },
      "source": [
        "def make_sub(predicts, filename):\n",
        "    sample_submission = pd.read_csv('/kaggle/input/kakr-4th-competition/sample_submission.csv')\n",
        "    sample_submission['prediction'] = predicts\n",
        "\n",
        "    for ix, row in sample_submission.iterrows():\n",
        "        if row['prediction'] > 0.5:\n",
        "            sample_submission.loc[ix, 'prediction'] = 1\n",
        "        else:\n",
        "            sample_submission.loc[ix, 'prediction'] = 0\n",
        "\n",
        "    sample_submission = sample_submission.astype({\"prediction\": int})\n",
        "    sample_submission.to_csv(path_or_buf = filename, index=False)"
      ],
      "execution_count": null,
      "outputs": []
    },
    {
      "cell_type": "markdown",
      "metadata": {
        "papermill": {
          "duration": 0.038623,
          "end_time": "2020-12-01T11:33:58.085276",
          "exception": false,
          "start_time": "2020-12-01T11:33:58.046653",
          "status": "completed"
        },
        "tags": [],
        "id": "1XpKS7L3p-oP"
      },
      "source": [
        "확률에서 예측 결과를 만들어주는 함수"
      ]
    },
    {
      "cell_type": "code",
      "metadata": {
        "execution": {
          "iopub.execute_input": "2020-12-01T11:33:58.163595Z",
          "iopub.status.busy": "2020-12-01T11:33:58.162903Z",
          "iopub.status.idle": "2020-12-01T11:34:00.603628Z",
          "shell.execute_reply": "2020-12-01T11:34:00.603018Z"
        },
        "papermill": {
          "duration": 2.48169,
          "end_time": "2020-12-01T11:34:00.603768",
          "exception": false,
          "start_time": "2020-12-01T11:33:58.122078",
          "status": "completed"
        },
        "tags": [],
        "id": "OaFDM-Rep-oP"
      },
      "source": [
        "make_sub(lgbm_preds, \"LGBMsubmissions.csv\")"
      ],
      "execution_count": null,
      "outputs": []
    },
    {
      "cell_type": "markdown",
      "metadata": {
        "papermill": {
          "duration": 0.040012,
          "end_time": "2020-12-01T11:34:00.685743",
          "exception": false,
          "start_time": "2020-12-01T11:34:00.645731",
          "status": "completed"
        },
        "tags": [],
        "id": "sZvWORQRp-oP"
      },
      "source": [
        "# XGB"
      ]
    },
    {
      "cell_type": "code",
      "metadata": {
        "execution": {
          "iopub.execute_input": "2020-12-01T11:34:00.770499Z",
          "iopub.status.busy": "2020-12-01T11:34:00.769811Z",
          "iopub.status.idle": "2020-12-01T11:34:00.772951Z",
          "shell.execute_reply": "2020-12-01T11:34:00.772410Z"
        },
        "papermill": {
          "duration": 0.050249,
          "end_time": "2020-12-01T11:34:00.773068",
          "exception": false,
          "start_time": "2020-12-01T11:34:00.722819",
          "status": "completed"
        },
        "tags": [],
        "id": "_DiI04XRp-oP"
      },
      "source": [
        "XGB = XGBClassifier(gamma = 0.01, learning_rate = 0.1,\n",
        "                    max_depth = 7, min_child_weight = 3, random_state = 17)"
      ],
      "execution_count": null,
      "outputs": []
    },
    {
      "cell_type": "markdown",
      "metadata": {
        "papermill": {
          "duration": 0.03705,
          "end_time": "2020-12-01T11:34:00.847397",
          "exception": false,
          "start_time": "2020-12-01T11:34:00.810347",
          "status": "completed"
        },
        "tags": [],
        "id": "6_hZJ87Pp-oP"
      },
      "source": [
        "gridsearch로 찾은 하이퍼 파라미터 넣어줌"
      ]
    },
    {
      "cell_type": "code",
      "metadata": {
        "execution": {
          "iopub.execute_input": "2020-12-01T11:34:00.931100Z",
          "iopub.status.busy": "2020-12-01T11:34:00.930222Z",
          "iopub.status.idle": "2020-12-01T11:34:00.933019Z",
          "shell.execute_reply": "2020-12-01T11:34:00.932344Z"
        },
        "papermill": {
          "duration": 0.046617,
          "end_time": "2020-12-01T11:34:00.933130",
          "exception": false,
          "start_time": "2020-12-01T11:34:00.886513",
          "status": "completed"
        },
        "tags": [],
        "id": "6PVwYONup-oP"
      },
      "source": [
        "NFOLDS = 5\n",
        "folds = KFold(n_splits = NFOLDS)\n",
        "\n",
        "columns = X.columns\n",
        "splits = folds.split(X, y)\n",
        "XGB_preds = np.zeros(test_X.shape[0])"
      ],
      "execution_count": null,
      "outputs": []
    },
    {
      "cell_type": "code",
      "metadata": {
        "execution": {
          "iopub.execute_input": "2020-12-01T11:34:01.013768Z",
          "iopub.status.busy": "2020-12-01T11:34:01.012731Z",
          "iopub.status.idle": "2020-12-01T11:34:01.015763Z",
          "shell.execute_reply": "2020-12-01T11:34:01.015115Z"
        },
        "papermill": {
          "duration": 0.044987,
          "end_time": "2020-12-01T11:34:01.015875",
          "exception": false,
          "start_time": "2020-12-01T11:34:00.970888",
          "status": "completed"
        },
        "tags": [],
        "id": "pPqPm_Zbp-oP"
      },
      "source": [
        "def f1_eval(y_pred, dtrain):\n",
        "    y_true = dtrain.get_label()\n",
        "    err = 1-f1_score(y_true, np.round(y_pred), average = \"micro\")\n",
        "    return 'f1_err', err"
      ],
      "execution_count": null,
      "outputs": []
    },
    {
      "cell_type": "code",
      "metadata": {
        "execution": {
          "iopub.execute_input": "2020-12-01T11:34:01.099099Z",
          "iopub.status.busy": "2020-12-01T11:34:01.098351Z",
          "iopub.status.idle": "2020-12-01T11:34:22.415149Z",
          "shell.execute_reply": "2020-12-01T11:34:22.415908Z"
        },
        "papermill": {
          "duration": 21.363012,
          "end_time": "2020-12-01T11:34:22.416133",
          "exception": false,
          "start_time": "2020-12-01T11:34:01.053121",
          "status": "completed"
        },
        "tags": [],
        "id": "gjhV5RPHp-oP",
        "outputId": "e912c096-9ea7-4224-f0b9-767cef006f22"
      },
      "source": [
        "for fold_n, (train_index, valid_index) in enumerate(splits):\n",
        "    print('Fold: ', fold_n+1)\n",
        "    X_train, X_valid = X.iloc[train_index], X.iloc[valid_index]\n",
        "    y_train, y_valid = y.iloc[train_index], y.iloc[valid_index]\n",
        "\n",
        "    evals = [(X_train, y_train), (X_valid, y_valid)]\n",
        "    XGB.fit(X_train, y_train, eval_metric=f1_eval, eval_set=evals, verbose=True)\n",
        "        \n",
        "    XGB_preds += XGB.predict_proba(test_X)[:, 1] / NFOLDS\n",
        "    \n",
        "    del X_train, X_valid, y_train, y_valid\n",
        "    gc.collect()"
      ],
      "execution_count": null,
      "outputs": [
        {
          "output_type": "stream",
          "text": [
            "Fold:  1\n",
            "[0]\tvalidation_0-error:0.14180\tvalidation_1-error:0.15509\tvalidation_0-f1_err:0.24267\tvalidation_1-f1_err:0.23954\n",
            "[1]\tvalidation_0-error:0.13883\tvalidation_1-error:0.15086\tvalidation_0-f1_err:0.24267\tvalidation_1-f1_err:0.23954\n",
            "[2]\tvalidation_0-error:0.13854\tvalidation_1-error:0.14357\tvalidation_0-f1_err:0.58482\tvalidation_1-f1_err:0.58215\n",
            "[3]\tvalidation_0-error:0.13979\tvalidation_1-error:0.14741\tvalidation_0-f1_err:0.70090\tvalidation_1-f1_err:0.69482\n",
            "[4]\tvalidation_0-error:0.13720\tvalidation_1-error:0.14626\tvalidation_0-f1_err:0.72532\tvalidation_1-f1_err:0.71689\n",
            "[5]\tvalidation_0-error:0.13950\tvalidation_1-error:0.14683\tvalidation_0-f1_err:0.74749\tvalidation_1-f1_err:0.73935\n",
            "[6]\tvalidation_0-error:0.13950\tvalidation_1-error:0.14645\tvalidation_0-f1_err:0.77580\tvalidation_1-f1_err:0.77044\n",
            "[7]\tvalidation_0-error:0.13767\tvalidation_1-error:0.14530\tvalidation_0-f1_err:0.77753\tvalidation_1-f1_err:0.77121\n",
            "[8]\tvalidation_0-error:0.13729\tvalidation_1-error:0.14395\tvalidation_0-f1_err:0.77144\tvalidation_1-f1_err:0.76507\n",
            "[9]\tvalidation_0-error:0.13571\tvalidation_1-error:0.14299\tvalidation_0-f1_err:0.83185\tvalidation_1-f1_err:0.82380\n",
            "[10]\tvalidation_0-error:0.13456\tvalidation_1-error:0.14261\tvalidation_0-f1_err:0.86410\tvalidation_1-f1_err:0.85585\n",
            "[11]\tvalidation_0-error:0.13436\tvalidation_1-error:0.14261\tvalidation_0-f1_err:0.87000\tvalidation_1-f1_err:0.86104\n",
            "[12]\tvalidation_0-error:0.13431\tvalidation_1-error:0.14184\tvalidation_0-f1_err:0.87840\tvalidation_1-f1_err:0.86910\n",
            "[13]\tvalidation_0-error:0.13503\tvalidation_1-error:0.14127\tvalidation_0-f1_err:0.87941\tvalidation_1-f1_err:0.86987\n",
            "[14]\tvalidation_0-error:0.13374\tvalidation_1-error:0.14203\tvalidation_0-f1_err:0.88090\tvalidation_1-f1_err:0.87140\n",
            "[15]\tvalidation_0-error:0.13408\tvalidation_1-error:0.14069\tvalidation_0-f1_err:0.87787\tvalidation_1-f1_err:0.87063\n",
            "[16]\tvalidation_0-error:0.13393\tvalidation_1-error:0.14011\tvalidation_0-f1_err:0.88075\tvalidation_1-f1_err:0.87274\n",
            "[17]\tvalidation_0-error:0.13340\tvalidation_1-error:0.14088\tvalidation_0-f1_err:0.88133\tvalidation_1-f1_err:0.87601\n",
            "[18]\tvalidation_0-error:0.13316\tvalidation_1-error:0.14108\tvalidation_0-f1_err:0.88301\tvalidation_1-f1_err:0.87620\n",
            "[19]\tvalidation_0-error:0.13273\tvalidation_1-error:0.14108\tvalidation_0-f1_err:0.88378\tvalidation_1-f1_err:0.87582\n",
            "[20]\tvalidation_0-error:0.13153\tvalidation_1-error:0.14050\tvalidation_0-f1_err:0.88426\tvalidation_1-f1_err:0.87620\n",
            "[21]\tvalidation_0-error:0.13105\tvalidation_1-error:0.14011\tvalidation_0-f1_err:0.88445\tvalidation_1-f1_err:0.87716\n",
            "[22]\tvalidation_0-error:0.13086\tvalidation_1-error:0.14011\tvalidation_0-f1_err:0.88603\tvalidation_1-f1_err:0.87889\n",
            "[23]\tvalidation_0-error:0.13062\tvalidation_1-error:0.14011\tvalidation_0-f1_err:0.88824\tvalidation_1-f1_err:0.88119\n",
            "[24]\tvalidation_0-error:0.12990\tvalidation_1-error:0.14069\tvalidation_0-f1_err:0.88877\tvalidation_1-f1_err:0.88119\n",
            "[25]\tvalidation_0-error:0.12932\tvalidation_1-error:0.14011\tvalidation_0-f1_err:0.89001\tvalidation_1-f1_err:0.88157\n",
            "[26]\tvalidation_0-error:0.12913\tvalidation_1-error:0.13973\tvalidation_0-f1_err:0.89011\tvalidation_1-f1_err:0.88138\n",
            "[27]\tvalidation_0-error:0.12923\tvalidation_1-error:0.14011\tvalidation_0-f1_err:0.89069\tvalidation_1-f1_err:0.88196\n",
            "[28]\tvalidation_0-error:0.12875\tvalidation_1-error:0.13973\tvalidation_0-f1_err:0.89059\tvalidation_1-f1_err:0.88177\n",
            "[29]\tvalidation_0-error:0.12774\tvalidation_1-error:0.13877\tvalidation_0-f1_err:0.89069\tvalidation_1-f1_err:0.88138\n",
            "[30]\tvalidation_0-error:0.12774\tvalidation_1-error:0.13820\tvalidation_0-f1_err:0.89016\tvalidation_1-f1_err:0.88253\n",
            "[31]\tvalidation_0-error:0.12736\tvalidation_1-error:0.13916\tvalidation_0-f1_err:0.88992\tvalidation_1-f1_err:0.88196\n",
            "[32]\tvalidation_0-error:0.12697\tvalidation_1-error:0.13916\tvalidation_0-f1_err:0.89011\tvalidation_1-f1_err:0.88330\n",
            "[33]\tvalidation_0-error:0.12597\tvalidation_1-error:0.13743\tvalidation_0-f1_err:0.89117\tvalidation_1-f1_err:0.88330\n",
            "[34]\tvalidation_0-error:0.12616\tvalidation_1-error:0.13704\tvalidation_0-f1_err:0.88987\tvalidation_1-f1_err:0.88081\n",
            "[35]\tvalidation_0-error:0.12606\tvalidation_1-error:0.13762\tvalidation_0-f1_err:0.88973\tvalidation_1-f1_err:0.88138\n",
            "[36]\tvalidation_0-error:0.12606\tvalidation_1-error:0.13781\tvalidation_0-f1_err:0.88968\tvalidation_1-f1_err:0.88196\n",
            "[37]\tvalidation_0-error:0.12549\tvalidation_1-error:0.13800\tvalidation_0-f1_err:0.89001\tvalidation_1-f1_err:0.88081\n",
            "[38]\tvalidation_0-error:0.12496\tvalidation_1-error:0.13800\tvalidation_0-f1_err:0.89059\tvalidation_1-f1_err:0.88177\n",
            "[39]\tvalidation_0-error:0.12342\tvalidation_1-error:0.13628\tvalidation_0-f1_err:0.89025\tvalidation_1-f1_err:0.88234\n",
            "[40]\tvalidation_0-error:0.12342\tvalidation_1-error:0.13628\tvalidation_0-f1_err:0.89001\tvalidation_1-f1_err:0.88177\n",
            "[41]\tvalidation_0-error:0.12280\tvalidation_1-error:0.13608\tvalidation_0-f1_err:0.88958\tvalidation_1-f1_err:0.88119\n",
            "[42]\tvalidation_0-error:0.12280\tvalidation_1-error:0.13628\tvalidation_0-f1_err:0.88997\tvalidation_1-f1_err:0.88061\n",
            "[43]\tvalidation_0-error:0.12218\tvalidation_1-error:0.13570\tvalidation_0-f1_err:0.88992\tvalidation_1-f1_err:0.88042\n",
            "[44]\tvalidation_0-error:0.12189\tvalidation_1-error:0.13532\tvalidation_0-f1_err:0.89030\tvalidation_1-f1_err:0.88119\n",
            "[45]\tvalidation_0-error:0.12218\tvalidation_1-error:0.13532\tvalidation_0-f1_err:0.89011\tvalidation_1-f1_err:0.88157\n",
            "[46]\tvalidation_0-error:0.12150\tvalidation_1-error:0.13436\tvalidation_0-f1_err:0.89021\tvalidation_1-f1_err:0.88215\n",
            "[47]\tvalidation_0-error:0.12160\tvalidation_1-error:0.13436\tvalidation_0-f1_err:0.89049\tvalidation_1-f1_err:0.88253\n",
            "[48]\tvalidation_0-error:0.12117\tvalidation_1-error:0.13455\tvalidation_0-f1_err:0.89045\tvalidation_1-f1_err:0.88369\n",
            "[49]\tvalidation_0-error:0.12045\tvalidation_1-error:0.13474\tvalidation_0-f1_err:0.89107\tvalidation_1-f1_err:0.88407\n",
            "[50]\tvalidation_0-error:0.12006\tvalidation_1-error:0.13378\tvalidation_0-f1_err:0.89141\tvalidation_1-f1_err:0.88522\n",
            "[51]\tvalidation_0-error:0.11910\tvalidation_1-error:0.13436\tvalidation_0-f1_err:0.89165\tvalidation_1-f1_err:0.88407\n",
            "[52]\tvalidation_0-error:0.11901\tvalidation_1-error:0.13417\tvalidation_0-f1_err:0.89212\tvalidation_1-f1_err:0.88484\n",
            "[53]\tvalidation_0-error:0.11901\tvalidation_1-error:0.13359\tvalidation_0-f1_err:0.89198\tvalidation_1-f1_err:0.88388\n",
            "[54]\tvalidation_0-error:0.11891\tvalidation_1-error:0.13320\tvalidation_0-f1_err:0.89174\tvalidation_1-f1_err:0.88407\n",
            "[55]\tvalidation_0-error:0.11877\tvalidation_1-error:0.13301\tvalidation_0-f1_err:0.89189\tvalidation_1-f1_err:0.88407\n",
            "[56]\tvalidation_0-error:0.11838\tvalidation_1-error:0.13225\tvalidation_0-f1_err:0.89136\tvalidation_1-f1_err:0.88388\n",
            "[57]\tvalidation_0-error:0.11810\tvalidation_1-error:0.13225\tvalidation_0-f1_err:0.89141\tvalidation_1-f1_err:0.88465\n",
            "[58]\tvalidation_0-error:0.11771\tvalidation_1-error:0.13225\tvalidation_0-f1_err:0.89126\tvalidation_1-f1_err:0.88445\n",
            "[59]\tvalidation_0-error:0.11742\tvalidation_1-error:0.13129\tvalidation_0-f1_err:0.89179\tvalidation_1-f1_err:0.88484\n",
            "[60]\tvalidation_0-error:0.11714\tvalidation_1-error:0.13167\tvalidation_0-f1_err:0.89212\tvalidation_1-f1_err:0.88560\n",
            "[61]\tvalidation_0-error:0.11670\tvalidation_1-error:0.13186\tvalidation_0-f1_err:0.89212\tvalidation_1-f1_err:0.88752\n",
            "[62]\tvalidation_0-error:0.11613\tvalidation_1-error:0.13109\tvalidation_0-f1_err:0.89184\tvalidation_1-f1_err:0.88791\n",
            "[63]\tvalidation_0-error:0.11598\tvalidation_1-error:0.13129\tvalidation_0-f1_err:0.89193\tvalidation_1-f1_err:0.88791\n",
            "[64]\tvalidation_0-error:0.11594\tvalidation_1-error:0.13148\tvalidation_0-f1_err:0.89184\tvalidation_1-f1_err:0.88810\n",
            "[65]\tvalidation_0-error:0.11546\tvalidation_1-error:0.13109\tvalidation_0-f1_err:0.89145\tvalidation_1-f1_err:0.88695\n",
            "[66]\tvalidation_0-error:0.11541\tvalidation_1-error:0.13090\tvalidation_0-f1_err:0.89150\tvalidation_1-f1_err:0.88733\n",
            "[67]\tvalidation_0-error:0.11536\tvalidation_1-error:0.13129\tvalidation_0-f1_err:0.89169\tvalidation_1-f1_err:0.88772\n",
            "[68]\tvalidation_0-error:0.11531\tvalidation_1-error:0.13167\tvalidation_0-f1_err:0.89169\tvalidation_1-f1_err:0.88810\n",
            "[69]\tvalidation_0-error:0.11478\tvalidation_1-error:0.13320\tvalidation_0-f1_err:0.89184\tvalidation_1-f1_err:0.88810\n",
            "[70]\tvalidation_0-error:0.11474\tvalidation_1-error:0.13320\tvalidation_0-f1_err:0.89189\tvalidation_1-f1_err:0.88810\n",
            "[71]\tvalidation_0-error:0.11488\tvalidation_1-error:0.13301\tvalidation_0-f1_err:0.89189\tvalidation_1-f1_err:0.88848\n",
            "[72]\tvalidation_0-error:0.11411\tvalidation_1-error:0.13378\tvalidation_0-f1_err:0.89184\tvalidation_1-f1_err:0.88752\n",
            "[73]\tvalidation_0-error:0.11397\tvalidation_1-error:0.13359\tvalidation_0-f1_err:0.89203\tvalidation_1-f1_err:0.88752\n",
            "[74]\tvalidation_0-error:0.11387\tvalidation_1-error:0.13320\tvalidation_0-f1_err:0.89198\tvalidation_1-f1_err:0.88772\n",
            "[75]\tvalidation_0-error:0.11306\tvalidation_1-error:0.13340\tvalidation_0-f1_err:0.89208\tvalidation_1-f1_err:0.88733\n",
            "[76]\tvalidation_0-error:0.11224\tvalidation_1-error:0.13359\tvalidation_0-f1_err:0.89256\tvalidation_1-f1_err:0.88791\n",
            "[77]\tvalidation_0-error:0.11248\tvalidation_1-error:0.13340\tvalidation_0-f1_err:0.89236\tvalidation_1-f1_err:0.88752\n",
            "[78]\tvalidation_0-error:0.11229\tvalidation_1-error:0.13340\tvalidation_0-f1_err:0.89232\tvalidation_1-f1_err:0.88695\n",
            "[79]\tvalidation_0-error:0.11224\tvalidation_1-error:0.13340\tvalidation_0-f1_err:0.89260\tvalidation_1-f1_err:0.88714\n",
            "[80]\tvalidation_0-error:0.11152\tvalidation_1-error:0.13340\tvalidation_0-f1_err:0.89251\tvalidation_1-f1_err:0.88752\n",
            "[81]\tvalidation_0-error:0.11152\tvalidation_1-error:0.13340\tvalidation_0-f1_err:0.89280\tvalidation_1-f1_err:0.88772\n",
            "[82]\tvalidation_0-error:0.11133\tvalidation_1-error:0.13320\tvalidation_0-f1_err:0.89246\tvalidation_1-f1_err:0.88810\n",
            "[83]\tvalidation_0-error:0.11114\tvalidation_1-error:0.13320\tvalidation_0-f1_err:0.89251\tvalidation_1-f1_err:0.88829\n",
            "[84]\tvalidation_0-error:0.11109\tvalidation_1-error:0.13263\tvalidation_0-f1_err:0.89318\tvalidation_1-f1_err:0.88887\n",
            "[85]\tvalidation_0-error:0.11114\tvalidation_1-error:0.13301\tvalidation_0-f1_err:0.89318\tvalidation_1-f1_err:0.88887\n",
            "[86]\tvalidation_0-error:0.11066\tvalidation_1-error:0.13340\tvalidation_0-f1_err:0.89265\tvalidation_1-f1_err:0.88887\n",
            "[87]\tvalidation_0-error:0.11071\tvalidation_1-error:0.13340\tvalidation_0-f1_err:0.89280\tvalidation_1-f1_err:0.88887\n",
            "[88]\tvalidation_0-error:0.11023\tvalidation_1-error:0.13340\tvalidation_0-f1_err:0.89256\tvalidation_1-f1_err:0.88925\n",
            "[89]\tvalidation_0-error:0.10994\tvalidation_1-error:0.13359\tvalidation_0-f1_err:0.89260\tvalidation_1-f1_err:0.88906\n",
            "[90]\tvalidation_0-error:0.10994\tvalidation_1-error:0.13378\tvalidation_0-f1_err:0.89265\tvalidation_1-f1_err:0.88906\n",
            "[91]\tvalidation_0-error:0.10979\tvalidation_1-error:0.13397\tvalidation_0-f1_err:0.89342\tvalidation_1-f1_err:0.89040\n",
            "[92]\tvalidation_0-error:0.10946\tvalidation_1-error:0.13378\tvalidation_0-f1_err:0.89280\tvalidation_1-f1_err:0.89194\n",
            "[93]\tvalidation_0-error:0.10941\tvalidation_1-error:0.13378\tvalidation_0-f1_err:0.89323\tvalidation_1-f1_err:0.89213\n",
            "[94]\tvalidation_0-error:0.10917\tvalidation_1-error:0.13378\tvalidation_0-f1_err:0.89318\tvalidation_1-f1_err:0.89136\n",
            "[95]\tvalidation_0-error:0.10912\tvalidation_1-error:0.13359\tvalidation_0-f1_err:0.89309\tvalidation_1-f1_err:0.89155\n",
            "[96]\tvalidation_0-error:0.10917\tvalidation_1-error:0.13359\tvalidation_0-f1_err:0.89333\tvalidation_1-f1_err:0.89213\n",
            "[97]\tvalidation_0-error:0.10888\tvalidation_1-error:0.13417\tvalidation_0-f1_err:0.89361\tvalidation_1-f1_err:0.89232\n",
            "[98]\tvalidation_0-error:0.10888\tvalidation_1-error:0.13417\tvalidation_0-f1_err:0.89371\tvalidation_1-f1_err:0.89251\n",
            "[99]\tvalidation_0-error:0.10888\tvalidation_1-error:0.13436\tvalidation_0-f1_err:0.89395\tvalidation_1-f1_err:0.89251\n",
            "Fold:  2\n",
            "[0]\tvalidation_0-error:0.14310\tvalidation_1-error:0.14856\tvalidation_0-f1_err:0.24195\tvalidation_1-f1_err:0.24242\n",
            "[1]\tvalidation_0-error:0.13964\tvalidation_1-error:0.14607\tvalidation_0-f1_err:0.24195\tvalidation_1-f1_err:0.24242\n",
            "[2]\tvalidation_0-error:0.14156\tvalidation_1-error:0.15125\tvalidation_0-f1_err:0.59144\tvalidation_1-f1_err:0.59654\n",
            "[3]\tvalidation_0-error:0.14065\tvalidation_1-error:0.15086\tvalidation_0-f1_err:0.71270\tvalidation_1-f1_err:0.71056\n",
            "[4]\tvalidation_0-error:0.13969\tvalidation_1-error:0.14818\tvalidation_0-f1_err:0.73065\tvalidation_1-f1_err:0.72918\n",
            "[5]\tvalidation_0-error:0.13787\tvalidation_1-error:0.14722\tvalidation_0-f1_err:0.76813\tvalidation_1-f1_err:0.76411\n",
            "[6]\tvalidation_0-error:0.13902\tvalidation_1-error:0.14933\tvalidation_0-f1_err:0.77518\tvalidation_1-f1_err:0.77063\n",
            "[7]\tvalidation_0-error:0.13763\tvalidation_1-error:0.14760\tvalidation_0-f1_err:0.77221\tvalidation_1-f1_err:0.76987\n",
            "[8]\tvalidation_0-error:0.13806\tvalidation_1-error:0.14760\tvalidation_0-f1_err:0.77888\tvalidation_1-f1_err:0.77927\n",
            "[9]\tvalidation_0-error:0.13672\tvalidation_1-error:0.14549\tvalidation_0-f1_err:0.77868\tvalidation_1-f1_err:0.78023\n",
            "[10]\tvalidation_0-error:0.13686\tvalidation_1-error:0.14607\tvalidation_0-f1_err:0.85925\tvalidation_1-f1_err:0.85950\n",
            "[11]\tvalidation_0-error:0.13648\tvalidation_1-error:0.14568\tvalidation_0-f1_err:0.86352\tvalidation_1-f1_err:0.86296\n",
            "[12]\tvalidation_0-error:0.13542\tvalidation_1-error:0.14549\tvalidation_0-f1_err:0.86237\tvalidation_1-f1_err:0.86449\n",
            "[13]\tvalidation_0-error:0.13556\tvalidation_1-error:0.14530\tvalidation_0-f1_err:0.87063\tvalidation_1-f1_err:0.87255\n",
            "[14]\tvalidation_0-error:0.13451\tvalidation_1-error:0.14376\tvalidation_0-f1_err:0.87485\tvalidation_1-f1_err:0.87946\n",
            "[15]\tvalidation_0-error:0.13340\tvalidation_1-error:0.14299\tvalidation_0-f1_err:0.87979\tvalidation_1-f1_err:0.88407\n",
            "[16]\tvalidation_0-error:0.13326\tvalidation_1-error:0.14242\tvalidation_0-f1_err:0.88003\tvalidation_1-f1_err:0.88292\n",
            "[17]\tvalidation_0-error:0.13331\tvalidation_1-error:0.14299\tvalidation_0-f1_err:0.88104\tvalidation_1-f1_err:0.88560\n",
            "[18]\tvalidation_0-error:0.13297\tvalidation_1-error:0.14184\tvalidation_0-f1_err:0.88627\tvalidation_1-f1_err:0.89079\n",
            "[19]\tvalidation_0-error:0.13235\tvalidation_1-error:0.14223\tvalidation_0-f1_err:0.88598\tvalidation_1-f1_err:0.88963\n",
            "[20]\tvalidation_0-error:0.13235\tvalidation_1-error:0.14203\tvalidation_0-f1_err:0.88594\tvalidation_1-f1_err:0.88944\n",
            "[21]\tvalidation_0-error:0.13220\tvalidation_1-error:0.14261\tvalidation_0-f1_err:0.88857\tvalidation_1-f1_err:0.89079\n",
            "[22]\tvalidation_0-error:0.13172\tvalidation_1-error:0.14127\tvalidation_0-f1_err:0.88785\tvalidation_1-f1_err:0.89021\n",
            "[23]\tvalidation_0-error:0.13172\tvalidation_1-error:0.14050\tvalidation_0-f1_err:0.88925\tvalidation_1-f1_err:0.89117\n",
            "[24]\tvalidation_0-error:0.13129\tvalidation_1-error:0.14088\tvalidation_0-f1_err:0.88973\tvalidation_1-f1_err:0.89155\n",
            "[25]\tvalidation_0-error:0.13062\tvalidation_1-error:0.13992\tvalidation_0-f1_err:0.89021\tvalidation_1-f1_err:0.89155\n",
            "[26]\tvalidation_0-error:0.13062\tvalidation_1-error:0.13992\tvalidation_0-f1_err:0.89112\tvalidation_1-f1_err:0.89175\n",
            "[27]\tvalidation_0-error:0.13009\tvalidation_1-error:0.13935\tvalidation_0-f1_err:0.89049\tvalidation_1-f1_err:0.89098\n",
            "[28]\tvalidation_0-error:0.12947\tvalidation_1-error:0.13839\tvalidation_0-f1_err:0.89117\tvalidation_1-f1_err:0.89213\n",
            "[29]\tvalidation_0-error:0.12937\tvalidation_1-error:0.13839\tvalidation_0-f1_err:0.89001\tvalidation_1-f1_err:0.89194\n",
            "[30]\tvalidation_0-error:0.12870\tvalidation_1-error:0.13743\tvalidation_0-f1_err:0.89001\tvalidation_1-f1_err:0.89155\n",
            "[31]\tvalidation_0-error:0.12822\tvalidation_1-error:0.13724\tvalidation_0-f1_err:0.88929\tvalidation_1-f1_err:0.89040\n",
            "[32]\tvalidation_0-error:0.12808\tvalidation_1-error:0.13666\tvalidation_0-f1_err:0.88929\tvalidation_1-f1_err:0.89040\n",
            "[33]\tvalidation_0-error:0.12765\tvalidation_1-error:0.13589\tvalidation_0-f1_err:0.88977\tvalidation_1-f1_err:0.89155\n",
            "[34]\tvalidation_0-error:0.12740\tvalidation_1-error:0.13570\tvalidation_0-f1_err:0.88977\tvalidation_1-f1_err:0.89194\n",
            "[35]\tvalidation_0-error:0.12702\tvalidation_1-error:0.13551\tvalidation_0-f1_err:0.88997\tvalidation_1-f1_err:0.89328\n",
            "[36]\tvalidation_0-error:0.12683\tvalidation_1-error:0.13493\tvalidation_0-f1_err:0.88987\tvalidation_1-f1_err:0.89232\n",
            "[37]\tvalidation_0-error:0.12669\tvalidation_1-error:0.13532\tvalidation_0-f1_err:0.89016\tvalidation_1-f1_err:0.89290\n",
            "[38]\tvalidation_0-error:0.12553\tvalidation_1-error:0.13608\tvalidation_0-f1_err:0.89054\tvalidation_1-f1_err:0.89290\n",
            "[39]\tvalidation_0-error:0.12529\tvalidation_1-error:0.13493\tvalidation_0-f1_err:0.89083\tvalidation_1-f1_err:0.89309\n",
            "[40]\tvalidation_0-error:0.12515\tvalidation_1-error:0.13436\tvalidation_0-f1_err:0.89145\tvalidation_1-f1_err:0.89232\n",
            "[41]\tvalidation_0-error:0.12462\tvalidation_1-error:0.13474\tvalidation_0-f1_err:0.89150\tvalidation_1-f1_err:0.89175\n",
            "[42]\tvalidation_0-error:0.12443\tvalidation_1-error:0.13378\tvalidation_0-f1_err:0.89107\tvalidation_1-f1_err:0.89213\n",
            "[43]\tvalidation_0-error:0.12424\tvalidation_1-error:0.13340\tvalidation_0-f1_err:0.89141\tvalidation_1-f1_err:0.89213\n",
            "[44]\tvalidation_0-error:0.12337\tvalidation_1-error:0.13244\tvalidation_0-f1_err:0.89030\tvalidation_1-f1_err:0.89117\n",
            "[45]\tvalidation_0-error:0.12294\tvalidation_1-error:0.13205\tvalidation_0-f1_err:0.88992\tvalidation_1-f1_err:0.89136\n",
            "[46]\tvalidation_0-error:0.12275\tvalidation_1-error:0.13186\tvalidation_0-f1_err:0.89016\tvalidation_1-f1_err:0.89136\n",
            "[47]\tvalidation_0-error:0.12280\tvalidation_1-error:0.13186\tvalidation_0-f1_err:0.89049\tvalidation_1-f1_err:0.89079\n",
            "[48]\tvalidation_0-error:0.12256\tvalidation_1-error:0.13109\tvalidation_0-f1_err:0.89035\tvalidation_1-f1_err:0.89079\n",
            "[49]\tvalidation_0-error:0.12189\tvalidation_1-error:0.13205\tvalidation_0-f1_err:0.89064\tvalidation_1-f1_err:0.89117\n",
            "[50]\tvalidation_0-error:0.12141\tvalidation_1-error:0.13186\tvalidation_0-f1_err:0.89102\tvalidation_1-f1_err:0.89060\n",
            "[51]\tvalidation_0-error:0.12097\tvalidation_1-error:0.13186\tvalidation_0-f1_err:0.89049\tvalidation_1-f1_err:0.89079\n",
            "[52]\tvalidation_0-error:0.12093\tvalidation_1-error:0.13148\tvalidation_0-f1_err:0.89059\tvalidation_1-f1_err:0.89021\n",
            "[53]\tvalidation_0-error:0.12083\tvalidation_1-error:0.13052\tvalidation_0-f1_err:0.89121\tvalidation_1-f1_err:0.89060\n",
            "[54]\tvalidation_0-error:0.12069\tvalidation_1-error:0.13052\tvalidation_0-f1_err:0.89088\tvalidation_1-f1_err:0.89040\n",
            "[55]\tvalidation_0-error:0.12006\tvalidation_1-error:0.12994\tvalidation_0-f1_err:0.89121\tvalidation_1-f1_err:0.89098\n",
            "[56]\tvalidation_0-error:0.11925\tvalidation_1-error:0.12975\tvalidation_0-f1_err:0.89189\tvalidation_1-f1_err:0.89098\n",
            "[57]\tvalidation_0-error:0.11858\tvalidation_1-error:0.12956\tvalidation_0-f1_err:0.89136\tvalidation_1-f1_err:0.89079\n",
            "[58]\tvalidation_0-error:0.11843\tvalidation_1-error:0.12975\tvalidation_0-f1_err:0.89102\tvalidation_1-f1_err:0.89079\n",
            "[59]\tvalidation_0-error:0.11824\tvalidation_1-error:0.12879\tvalidation_0-f1_err:0.89121\tvalidation_1-f1_err:0.89251\n",
            "[60]\tvalidation_0-error:0.11819\tvalidation_1-error:0.12802\tvalidation_0-f1_err:0.89165\tvalidation_1-f1_err:0.89386\n",
            "[61]\tvalidation_0-error:0.11738\tvalidation_1-error:0.12879\tvalidation_0-f1_err:0.89155\tvalidation_1-f1_err:0.89386\n",
            "[62]\tvalidation_0-error:0.11742\tvalidation_1-error:0.12898\tvalidation_0-f1_err:0.89145\tvalidation_1-f1_err:0.89386\n",
            "[63]\tvalidation_0-error:0.11675\tvalidation_1-error:0.12860\tvalidation_0-f1_err:0.89141\tvalidation_1-f1_err:0.89367\n",
            "[64]\tvalidation_0-error:0.11651\tvalidation_1-error:0.12821\tvalidation_0-f1_err:0.89189\tvalidation_1-f1_err:0.89367\n",
            "[65]\tvalidation_0-error:0.11632\tvalidation_1-error:0.12802\tvalidation_0-f1_err:0.89208\tvalidation_1-f1_err:0.89347\n",
            "[66]\tvalidation_0-error:0.11598\tvalidation_1-error:0.12706\tvalidation_0-f1_err:0.89179\tvalidation_1-f1_err:0.89482\n",
            "[67]\tvalidation_0-error:0.11589\tvalidation_1-error:0.12706\tvalidation_0-f1_err:0.89160\tvalidation_1-f1_err:0.89482\n",
            "[68]\tvalidation_0-error:0.11555\tvalidation_1-error:0.12687\tvalidation_0-f1_err:0.89169\tvalidation_1-f1_err:0.89443\n",
            "[69]\tvalidation_0-error:0.11517\tvalidation_1-error:0.12726\tvalidation_0-f1_err:0.89093\tvalidation_1-f1_err:0.89386\n",
            "[70]\tvalidation_0-error:0.11517\tvalidation_1-error:0.12726\tvalidation_0-f1_err:0.89088\tvalidation_1-f1_err:0.89386\n",
            "[71]\tvalidation_0-error:0.11440\tvalidation_1-error:0.12630\tvalidation_0-f1_err:0.89160\tvalidation_1-f1_err:0.89386\n",
            "[72]\tvalidation_0-error:0.11402\tvalidation_1-error:0.12668\tvalidation_0-f1_err:0.89121\tvalidation_1-f1_err:0.89347\n",
            "[73]\tvalidation_0-error:0.11397\tvalidation_1-error:0.12668\tvalidation_0-f1_err:0.89078\tvalidation_1-f1_err:0.89328\n",
            "[74]\tvalidation_0-error:0.11382\tvalidation_1-error:0.12668\tvalidation_0-f1_err:0.89102\tvalidation_1-f1_err:0.89328\n",
            "[75]\tvalidation_0-error:0.11344\tvalidation_1-error:0.12649\tvalidation_0-f1_err:0.89102\tvalidation_1-f1_err:0.89194\n",
            "[76]\tvalidation_0-error:0.11320\tvalidation_1-error:0.12668\tvalidation_0-f1_err:0.89102\tvalidation_1-f1_err:0.89136\n",
            "[77]\tvalidation_0-error:0.11320\tvalidation_1-error:0.12668\tvalidation_0-f1_err:0.89097\tvalidation_1-f1_err:0.89155\n",
            "[78]\tvalidation_0-error:0.11291\tvalidation_1-error:0.12649\tvalidation_0-f1_err:0.89131\tvalidation_1-f1_err:0.89194\n",
            "[79]\tvalidation_0-error:0.11282\tvalidation_1-error:0.12591\tvalidation_0-f1_err:0.89155\tvalidation_1-f1_err:0.89463\n",
            "[80]\tvalidation_0-error:0.11248\tvalidation_1-error:0.12572\tvalidation_0-f1_err:0.89189\tvalidation_1-f1_err:0.89328\n",
            "[81]\tvalidation_0-error:0.11253\tvalidation_1-error:0.12572\tvalidation_0-f1_err:0.89184\tvalidation_1-f1_err:0.89328\n",
            "[82]\tvalidation_0-error:0.11238\tvalidation_1-error:0.12572\tvalidation_0-f1_err:0.89184\tvalidation_1-f1_err:0.89309\n",
            "[83]\tvalidation_0-error:0.11243\tvalidation_1-error:0.12610\tvalidation_0-f1_err:0.89189\tvalidation_1-f1_err:0.89367\n",
            "[84]\tvalidation_0-error:0.11167\tvalidation_1-error:0.12630\tvalidation_0-f1_err:0.89260\tvalidation_1-f1_err:0.89386\n",
            "[85]\tvalidation_0-error:0.11162\tvalidation_1-error:0.12610\tvalidation_0-f1_err:0.89184\tvalidation_1-f1_err:0.89271\n",
            "[86]\tvalidation_0-error:0.11133\tvalidation_1-error:0.12630\tvalidation_0-f1_err:0.89232\tvalidation_1-f1_err:0.89271\n",
            "[87]\tvalidation_0-error:0.11133\tvalidation_1-error:0.12630\tvalidation_0-f1_err:0.89241\tvalidation_1-f1_err:0.89271\n",
            "[88]\tvalidation_0-error:0.11071\tvalidation_1-error:0.12591\tvalidation_0-f1_err:0.89174\tvalidation_1-f1_err:0.89213\n",
            "[89]\tvalidation_0-error:0.11047\tvalidation_1-error:0.12553\tvalidation_0-f1_err:0.89217\tvalidation_1-f1_err:0.89232\n",
            "[90]\tvalidation_0-error:0.11051\tvalidation_1-error:0.12610\tvalidation_0-f1_err:0.89275\tvalidation_1-f1_err:0.89347\n",
            "[91]\tvalidation_0-error:0.11037\tvalidation_1-error:0.12514\tvalidation_0-f1_err:0.89246\tvalidation_1-f1_err:0.89309\n",
            "[92]\tvalidation_0-error:0.11018\tvalidation_1-error:0.12438\tvalidation_0-f1_err:0.89232\tvalidation_1-f1_err:0.89251\n",
            "[93]\tvalidation_0-error:0.11018\tvalidation_1-error:0.12495\tvalidation_0-f1_err:0.89189\tvalidation_1-f1_err:0.89309\n",
            "[94]\tvalidation_0-error:0.10979\tvalidation_1-error:0.12495\tvalidation_0-f1_err:0.89155\tvalidation_1-f1_err:0.89405\n",
            "[95]\tvalidation_0-error:0.10979\tvalidation_1-error:0.12495\tvalidation_0-f1_err:0.89141\tvalidation_1-f1_err:0.89386\n",
            "[96]\tvalidation_0-error:0.10936\tvalidation_1-error:0.12399\tvalidation_0-f1_err:0.89246\tvalidation_1-f1_err:0.89443\n",
            "[97]\tvalidation_0-error:0.10931\tvalidation_1-error:0.12399\tvalidation_0-f1_err:0.89236\tvalidation_1-f1_err:0.89443\n",
            "[98]\tvalidation_0-error:0.10864\tvalidation_1-error:0.12438\tvalidation_0-f1_err:0.89222\tvalidation_1-f1_err:0.89386\n",
            "[99]\tvalidation_0-error:0.10840\tvalidation_1-error:0.12418\tvalidation_0-f1_err:0.89246\tvalidation_1-f1_err:0.89463\n",
            "Fold:  3\n",
            "[0]\tvalidation_0-error:0.14588\tvalidation_1-error:0.13781\tvalidation_0-f1_err:0.24286\tvalidation_1-f1_err:0.23877\n",
            "[1]\tvalidation_0-error:0.14204\tvalidation_1-error:0.13570\tvalidation_0-f1_err:0.24286\tvalidation_1-f1_err:0.23877\n",
            "[2]\tvalidation_0-error:0.14511\tvalidation_1-error:0.13628\tvalidation_0-f1_err:0.60123\tvalidation_1-f1_err:0.59923\n",
            "[3]\tvalidation_0-error:0.14411\tvalidation_1-error:0.13551\tvalidation_0-f1_err:0.68919\tvalidation_1-f1_err:0.69194\n",
            "[4]\tvalidation_0-error:0.14382\tvalidation_1-error:0.13551\tvalidation_0-f1_err:0.73986\tvalidation_1-f1_err:0.74683\n",
            "[5]\tvalidation_0-error:0.14329\tvalidation_1-error:0.13455\tvalidation_0-f1_err:0.76587\tvalidation_1-f1_err:0.76795\n",
            "[6]\tvalidation_0-error:0.14295\tvalidation_1-error:0.13474\tvalidation_0-f1_err:0.77609\tvalidation_1-f1_err:0.77562\n",
            "[7]\tvalidation_0-error:0.14017\tvalidation_1-error:0.13263\tvalidation_0-f1_err:0.78420\tvalidation_1-f1_err:0.78541\n",
            "[8]\tvalidation_0-error:0.14003\tvalidation_1-error:0.13282\tvalidation_0-f1_err:0.77768\tvalidation_1-f1_err:0.77677\n",
            "[9]\tvalidation_0-error:0.13839\tvalidation_1-error:0.13263\tvalidation_0-f1_err:0.79822\tvalidation_1-f1_err:0.79654\n",
            "[10]\tvalidation_0-error:0.13868\tvalidation_1-error:0.13263\tvalidation_0-f1_err:0.85527\tvalidation_1-f1_err:0.85413\n",
            "[11]\tvalidation_0-error:0.13839\tvalidation_1-error:0.13186\tvalidation_0-f1_err:0.85662\tvalidation_1-f1_err:0.85240\n",
            "[12]\tvalidation_0-error:0.13758\tvalidation_1-error:0.13148\tvalidation_0-f1_err:0.85863\tvalidation_1-f1_err:0.85605\n",
            "[13]\tvalidation_0-error:0.13753\tvalidation_1-error:0.12994\tvalidation_0-f1_err:0.87451\tvalidation_1-f1_err:0.86987\n",
            "[14]\tvalidation_0-error:0.13720\tvalidation_1-error:0.13013\tvalidation_0-f1_err:0.87950\tvalidation_1-f1_err:0.87390\n",
            "[15]\tvalidation_0-error:0.13657\tvalidation_1-error:0.12898\tvalidation_0-f1_err:0.88037\tvalidation_1-f1_err:0.87409\n",
            "[16]\tvalidation_0-error:0.13561\tvalidation_1-error:0.13013\tvalidation_0-f1_err:0.88320\tvalidation_1-f1_err:0.87543\n",
            "[17]\tvalidation_0-error:0.13566\tvalidation_1-error:0.12975\tvalidation_0-f1_err:0.88296\tvalidation_1-f1_err:0.87754\n",
            "[18]\tvalidation_0-error:0.13537\tvalidation_1-error:0.12994\tvalidation_0-f1_err:0.88435\tvalidation_1-f1_err:0.87927\n",
            "[19]\tvalidation_0-error:0.13489\tvalidation_1-error:0.13013\tvalidation_0-f1_err:0.88469\tvalidation_1-f1_err:0.88023\n",
            "[20]\tvalidation_0-error:0.13518\tvalidation_1-error:0.12841\tvalidation_0-f1_err:0.88450\tvalidation_1-f1_err:0.88042\n",
            "[21]\tvalidation_0-error:0.13479\tvalidation_1-error:0.12841\tvalidation_0-f1_err:0.88622\tvalidation_1-f1_err:0.88215\n",
            "[22]\tvalidation_0-error:0.13388\tvalidation_1-error:0.12802\tvalidation_0-f1_err:0.88915\tvalidation_1-f1_err:0.88484\n",
            "[23]\tvalidation_0-error:0.13345\tvalidation_1-error:0.12783\tvalidation_0-f1_err:0.88733\tvalidation_1-f1_err:0.88349\n",
            "[24]\tvalidation_0-error:0.13283\tvalidation_1-error:0.12745\tvalidation_0-f1_err:0.88728\tvalidation_1-f1_err:0.88369\n",
            "[25]\tvalidation_0-error:0.13196\tvalidation_1-error:0.12630\tvalidation_0-f1_err:0.88622\tvalidation_1-f1_err:0.88330\n",
            "[26]\tvalidation_0-error:0.13139\tvalidation_1-error:0.12591\tvalidation_0-f1_err:0.88656\tvalidation_1-f1_err:0.88311\n",
            "[27]\tvalidation_0-error:0.13100\tvalidation_1-error:0.12572\tvalidation_0-f1_err:0.88704\tvalidation_1-f1_err:0.88407\n",
            "[28]\tvalidation_0-error:0.13043\tvalidation_1-error:0.12591\tvalidation_0-f1_err:0.88675\tvalidation_1-f1_err:0.88503\n",
            "[29]\tvalidation_0-error:0.13014\tvalidation_1-error:0.12591\tvalidation_0-f1_err:0.88627\tvalidation_1-f1_err:0.88560\n",
            "[30]\tvalidation_0-error:0.13019\tvalidation_1-error:0.12591\tvalidation_0-f1_err:0.88622\tvalidation_1-f1_err:0.88465\n",
            "[31]\tvalidation_0-error:0.12947\tvalidation_1-error:0.12610\tvalidation_0-f1_err:0.88483\tvalidation_1-f1_err:0.88349\n",
            "[32]\tvalidation_0-error:0.12942\tvalidation_1-error:0.12610\tvalidation_0-f1_err:0.88536\tvalidation_1-f1_err:0.88465\n",
            "[33]\tvalidation_0-error:0.12913\tvalidation_1-error:0.12514\tvalidation_0-f1_err:0.88349\tvalidation_1-f1_err:0.88407\n",
            "[34]\tvalidation_0-error:0.12841\tvalidation_1-error:0.12457\tvalidation_0-f1_err:0.88387\tvalidation_1-f1_err:0.88388\n",
            "[35]\tvalidation_0-error:0.12865\tvalidation_1-error:0.12534\tvalidation_0-f1_err:0.88411\tvalidation_1-f1_err:0.88388\n",
            "[36]\tvalidation_0-error:0.12822\tvalidation_1-error:0.12418\tvalidation_0-f1_err:0.88387\tvalidation_1-f1_err:0.88407\n",
            "[37]\tvalidation_0-error:0.12817\tvalidation_1-error:0.12457\tvalidation_0-f1_err:0.88488\tvalidation_1-f1_err:0.88369\n",
            "[38]\tvalidation_0-error:0.12740\tvalidation_1-error:0.12342\tvalidation_0-f1_err:0.88382\tvalidation_1-f1_err:0.88465\n",
            "[39]\tvalidation_0-error:0.12731\tvalidation_1-error:0.12361\tvalidation_0-f1_err:0.88416\tvalidation_1-f1_err:0.88503\n",
            "[40]\tvalidation_0-error:0.12688\tvalidation_1-error:0.12323\tvalidation_0-f1_err:0.88320\tvalidation_1-f1_err:0.88503\n",
            "[41]\tvalidation_0-error:0.12654\tvalidation_1-error:0.12418\tvalidation_0-f1_err:0.88354\tvalidation_1-f1_err:0.88560\n",
            "[42]\tvalidation_0-error:0.12625\tvalidation_1-error:0.12361\tvalidation_0-f1_err:0.88349\tvalidation_1-f1_err:0.88580\n",
            "[43]\tvalidation_0-error:0.12544\tvalidation_1-error:0.12323\tvalidation_0-f1_err:0.88253\tvalidation_1-f1_err:0.88541\n",
            "[44]\tvalidation_0-error:0.12477\tvalidation_1-error:0.12265\tvalidation_0-f1_err:0.88214\tvalidation_1-f1_err:0.88656\n",
            "[45]\tvalidation_0-error:0.12467\tvalidation_1-error:0.12188\tvalidation_0-f1_err:0.88186\tvalidation_1-f1_err:0.88656\n",
            "[46]\tvalidation_0-error:0.12457\tvalidation_1-error:0.12111\tvalidation_0-f1_err:0.88123\tvalidation_1-f1_err:0.88676\n",
            "[47]\tvalidation_0-error:0.12414\tvalidation_1-error:0.12015\tvalidation_0-f1_err:0.88200\tvalidation_1-f1_err:0.88580\n",
            "[48]\tvalidation_0-error:0.12342\tvalidation_1-error:0.12073\tvalidation_0-f1_err:0.88080\tvalidation_1-f1_err:0.88503\n",
            "[49]\tvalidation_0-error:0.12342\tvalidation_1-error:0.12073\tvalidation_0-f1_err:0.88114\tvalidation_1-f1_err:0.88541\n",
            "[50]\tvalidation_0-error:0.12290\tvalidation_1-error:0.11977\tvalidation_0-f1_err:0.88118\tvalidation_1-f1_err:0.88772\n",
            "[51]\tvalidation_0-error:0.12203\tvalidation_1-error:0.11919\tvalidation_0-f1_err:0.88162\tvalidation_1-f1_err:0.88541\n",
            "[52]\tvalidation_0-error:0.12184\tvalidation_1-error:0.11900\tvalidation_0-f1_err:0.88147\tvalidation_1-f1_err:0.88637\n",
            "[53]\tvalidation_0-error:0.12160\tvalidation_1-error:0.11939\tvalidation_0-f1_err:0.88104\tvalidation_1-f1_err:0.88676\n",
            "[54]\tvalidation_0-error:0.12126\tvalidation_1-error:0.11996\tvalidation_0-f1_err:0.88138\tvalidation_1-f1_err:0.88733\n",
            "[55]\tvalidation_0-error:0.12102\tvalidation_1-error:0.11939\tvalidation_0-f1_err:0.88195\tvalidation_1-f1_err:0.88676\n",
            "[56]\tvalidation_0-error:0.12088\tvalidation_1-error:0.11939\tvalidation_0-f1_err:0.88195\tvalidation_1-f1_err:0.88733\n",
            "[57]\tvalidation_0-error:0.12054\tvalidation_1-error:0.11977\tvalidation_0-f1_err:0.88195\tvalidation_1-f1_err:0.88868\n",
            "[58]\tvalidation_0-error:0.11968\tvalidation_1-error:0.11823\tvalidation_0-f1_err:0.88214\tvalidation_1-f1_err:0.88791\n",
            "[59]\tvalidation_0-error:0.11949\tvalidation_1-error:0.11785\tvalidation_0-f1_err:0.88210\tvalidation_1-f1_err:0.88848\n",
            "[60]\tvalidation_0-error:0.11906\tvalidation_1-error:0.11823\tvalidation_0-f1_err:0.88214\tvalidation_1-f1_err:0.88887\n",
            "[61]\tvalidation_0-error:0.11901\tvalidation_1-error:0.11785\tvalidation_0-f1_err:0.88272\tvalidation_1-f1_err:0.88983\n",
            "[62]\tvalidation_0-error:0.11886\tvalidation_1-error:0.11785\tvalidation_0-f1_err:0.88277\tvalidation_1-f1_err:0.89040\n",
            "[63]\tvalidation_0-error:0.11858\tvalidation_1-error:0.11727\tvalidation_0-f1_err:0.88325\tvalidation_1-f1_err:0.89079\n",
            "[64]\tvalidation_0-error:0.11838\tvalidation_1-error:0.11689\tvalidation_0-f1_err:0.88330\tvalidation_1-f1_err:0.89079\n",
            "[65]\tvalidation_0-error:0.11829\tvalidation_1-error:0.11632\tvalidation_0-f1_err:0.88334\tvalidation_1-f1_err:0.89040\n",
            "[66]\tvalidation_0-error:0.11795\tvalidation_1-error:0.11689\tvalidation_0-f1_err:0.88282\tvalidation_1-f1_err:0.88848\n",
            "[67]\tvalidation_0-error:0.11680\tvalidation_1-error:0.11632\tvalidation_0-f1_err:0.88301\tvalidation_1-f1_err:0.88887\n",
            "[68]\tvalidation_0-error:0.11675\tvalidation_1-error:0.11632\tvalidation_0-f1_err:0.88382\tvalidation_1-f1_err:0.88791\n",
            "[69]\tvalidation_0-error:0.11666\tvalidation_1-error:0.11651\tvalidation_0-f1_err:0.88368\tvalidation_1-f1_err:0.88791\n",
            "[70]\tvalidation_0-error:0.11680\tvalidation_1-error:0.11670\tvalidation_0-f1_err:0.88373\tvalidation_1-f1_err:0.88848\n",
            "[71]\tvalidation_0-error:0.11680\tvalidation_1-error:0.11651\tvalidation_0-f1_err:0.88354\tvalidation_1-f1_err:0.88810\n",
            "[72]\tvalidation_0-error:0.11584\tvalidation_1-error:0.11612\tvalidation_0-f1_err:0.88373\tvalidation_1-f1_err:0.88868\n",
            "[73]\tvalidation_0-error:0.11575\tvalidation_1-error:0.11555\tvalidation_0-f1_err:0.88483\tvalidation_1-f1_err:0.88887\n",
            "[74]\tvalidation_0-error:0.11560\tvalidation_1-error:0.11555\tvalidation_0-f1_err:0.88459\tvalidation_1-f1_err:0.88772\n",
            "[75]\tvalidation_0-error:0.11570\tvalidation_1-error:0.11555\tvalidation_0-f1_err:0.88521\tvalidation_1-f1_err:0.88887\n",
            "[76]\tvalidation_0-error:0.11546\tvalidation_1-error:0.11555\tvalidation_0-f1_err:0.88608\tvalidation_1-f1_err:0.88868\n",
            "[77]\tvalidation_0-error:0.11541\tvalidation_1-error:0.11555\tvalidation_0-f1_err:0.88598\tvalidation_1-f1_err:0.88791\n",
            "[78]\tvalidation_0-error:0.11498\tvalidation_1-error:0.11555\tvalidation_0-f1_err:0.88622\tvalidation_1-f1_err:0.88752\n",
            "[79]\tvalidation_0-error:0.11493\tvalidation_1-error:0.11535\tvalidation_0-f1_err:0.88603\tvalidation_1-f1_err:0.88733\n",
            "[80]\tvalidation_0-error:0.11507\tvalidation_1-error:0.11535\tvalidation_0-f1_err:0.88574\tvalidation_1-f1_err:0.88714\n",
            "[81]\tvalidation_0-error:0.11503\tvalidation_1-error:0.11555\tvalidation_0-f1_err:0.88632\tvalidation_1-f1_err:0.88637\n",
            "[82]\tvalidation_0-error:0.11507\tvalidation_1-error:0.11497\tvalidation_0-f1_err:0.88685\tvalidation_1-f1_err:0.88656\n",
            "[83]\tvalidation_0-error:0.11498\tvalidation_1-error:0.11478\tvalidation_0-f1_err:0.88685\tvalidation_1-f1_err:0.88656\n",
            "[84]\tvalidation_0-error:0.11488\tvalidation_1-error:0.11497\tvalidation_0-f1_err:0.88723\tvalidation_1-f1_err:0.88656\n",
            "[85]\tvalidation_0-error:0.11474\tvalidation_1-error:0.11478\tvalidation_0-f1_err:0.88704\tvalidation_1-f1_err:0.88810\n",
            "[86]\tvalidation_0-error:0.11459\tvalidation_1-error:0.11497\tvalidation_0-f1_err:0.88704\tvalidation_1-f1_err:0.88810\n",
            "[87]\tvalidation_0-error:0.11421\tvalidation_1-error:0.11478\tvalidation_0-f1_err:0.88689\tvalidation_1-f1_err:0.88829\n",
            "[88]\tvalidation_0-error:0.11411\tvalidation_1-error:0.11459\tvalidation_0-f1_err:0.88699\tvalidation_1-f1_err:0.88829\n",
            "[89]\tvalidation_0-error:0.11421\tvalidation_1-error:0.11439\tvalidation_0-f1_err:0.88757\tvalidation_1-f1_err:0.88868\n",
            "[90]\tvalidation_0-error:0.11325\tvalidation_1-error:0.11555\tvalidation_0-f1_err:0.88627\tvalidation_1-f1_err:0.88887\n",
            "[91]\tvalidation_0-error:0.11330\tvalidation_1-error:0.11535\tvalidation_0-f1_err:0.88646\tvalidation_1-f1_err:0.88848\n",
            "[92]\tvalidation_0-error:0.11286\tvalidation_1-error:0.11555\tvalidation_0-f1_err:0.88689\tvalidation_1-f1_err:0.88848\n",
            "[93]\tvalidation_0-error:0.11272\tvalidation_1-error:0.11535\tvalidation_0-f1_err:0.88685\tvalidation_1-f1_err:0.88848\n",
            "[94]\tvalidation_0-error:0.11253\tvalidation_1-error:0.11516\tvalidation_0-f1_err:0.88694\tvalidation_1-f1_err:0.88848\n",
            "[95]\tvalidation_0-error:0.11238\tvalidation_1-error:0.11574\tvalidation_0-f1_err:0.88723\tvalidation_1-f1_err:0.88963\n",
            "[96]\tvalidation_0-error:0.11234\tvalidation_1-error:0.11555\tvalidation_0-f1_err:0.88733\tvalidation_1-f1_err:0.88944\n",
            "[97]\tvalidation_0-error:0.11272\tvalidation_1-error:0.11497\tvalidation_0-f1_err:0.88762\tvalidation_1-f1_err:0.88887\n",
            "[98]\tvalidation_0-error:0.11219\tvalidation_1-error:0.11478\tvalidation_0-f1_err:0.88752\tvalidation_1-f1_err:0.89040\n",
            "[99]\tvalidation_0-error:0.11219\tvalidation_1-error:0.11497\tvalidation_0-f1_err:0.88728\tvalidation_1-f1_err:0.89040\n",
            "Fold:  4\n",
            "[0]\tvalidation_0-error:0.14214\tvalidation_1-error:0.15144\tvalidation_0-f1_err:0.24262\tvalidation_1-f1_err:0.23973\n",
            "[1]\tvalidation_0-error:0.14108\tvalidation_1-error:0.15067\tvalidation_0-f1_err:0.24262\tvalidation_1-f1_err:0.23973\n",
            "[2]\tvalidation_0-error:0.14132\tvalidation_1-error:0.15029\tvalidation_0-f1_err:0.60320\tvalidation_1-f1_err:0.60461\n",
            "[3]\tvalidation_0-error:0.14060\tvalidation_1-error:0.14971\tvalidation_0-f1_err:0.69547\tvalidation_1-f1_err:0.69904\n",
            "[4]\tvalidation_0-error:0.14022\tvalidation_1-error:0.14990\tvalidation_0-f1_err:0.73574\tvalidation_1-f1_err:0.73762\n",
            "[5]\tvalidation_0-error:0.13988\tvalidation_1-error:0.14971\tvalidation_0-f1_err:0.75100\tvalidation_1-f1_err:0.75451\n",
            "[6]\tvalidation_0-error:0.13835\tvalidation_1-error:0.14856\tvalidation_0-f1_err:0.77038\tvalidation_1-f1_err:0.77716\n",
            "[7]\tvalidation_0-error:0.13801\tvalidation_1-error:0.14760\tvalidation_0-f1_err:0.77816\tvalidation_1-f1_err:0.78560\n",
            "[8]\tvalidation_0-error:0.13686\tvalidation_1-error:0.14626\tvalidation_0-f1_err:0.78132\tvalidation_1-f1_err:0.78829\n",
            "[9]\tvalidation_0-error:0.13720\tvalidation_1-error:0.14760\tvalidation_0-f1_err:0.77739\tvalidation_1-f1_err:0.78848\n",
            "[10]\tvalidation_0-error:0.13566\tvalidation_1-error:0.14645\tvalidation_0-f1_err:0.83147\tvalidation_1-f1_err:0.84011\n",
            "[11]\tvalidation_0-error:0.13427\tvalidation_1-error:0.14587\tvalidation_0-f1_err:0.87691\tvalidation_1-f1_err:0.88714\n",
            "[12]\tvalidation_0-error:0.13177\tvalidation_1-error:0.14664\tvalidation_0-f1_err:0.87403\tvalidation_1-f1_err:0.88369\n",
            "[13]\tvalidation_0-error:0.13268\tvalidation_1-error:0.14607\tvalidation_0-f1_err:0.87763\tvalidation_1-f1_err:0.88618\n",
            "[14]\tvalidation_0-error:0.13206\tvalidation_1-error:0.14626\tvalidation_0-f1_err:0.87955\tvalidation_1-f1_err:0.88656\n",
            "[15]\tvalidation_0-error:0.13182\tvalidation_1-error:0.14587\tvalidation_0-f1_err:0.88301\tvalidation_1-f1_err:0.88963\n",
            "[16]\tvalidation_0-error:0.13057\tvalidation_1-error:0.14607\tvalidation_0-f1_err:0.88339\tvalidation_1-f1_err:0.89213\n",
            "[17]\tvalidation_0-error:0.12976\tvalidation_1-error:0.14607\tvalidation_0-f1_err:0.88445\tvalidation_1-f1_err:0.89405\n",
            "[18]\tvalidation_0-error:0.12961\tvalidation_1-error:0.14472\tvalidation_0-f1_err:0.88253\tvalidation_1-f1_err:0.89271\n",
            "[19]\tvalidation_0-error:0.12942\tvalidation_1-error:0.14549\tvalidation_0-f1_err:0.88382\tvalidation_1-f1_err:0.89367\n",
            "[20]\tvalidation_0-error:0.12952\tvalidation_1-error:0.14530\tvalidation_0-f1_err:0.88330\tvalidation_1-f1_err:0.89367\n",
            "[21]\tvalidation_0-error:0.12827\tvalidation_1-error:0.14453\tvalidation_0-f1_err:0.88445\tvalidation_1-f1_err:0.89424\n",
            "[22]\tvalidation_0-error:0.12793\tvalidation_1-error:0.14472\tvalidation_0-f1_err:0.88512\tvalidation_1-f1_err:0.89482\n",
            "[23]\tvalidation_0-error:0.12760\tvalidation_1-error:0.14491\tvalidation_0-f1_err:0.88497\tvalidation_1-f1_err:0.89616\n",
            "[24]\tvalidation_0-error:0.12740\tvalidation_1-error:0.14415\tvalidation_0-f1_err:0.88689\tvalidation_1-f1_err:0.89770\n",
            "[25]\tvalidation_0-error:0.12726\tvalidation_1-error:0.14453\tvalidation_0-f1_err:0.88665\tvalidation_1-f1_err:0.89501\n",
            "[26]\tvalidation_0-error:0.12678\tvalidation_1-error:0.14376\tvalidation_0-f1_err:0.88689\tvalidation_1-f1_err:0.89539\n",
            "[27]\tvalidation_0-error:0.12659\tvalidation_1-error:0.14319\tvalidation_0-f1_err:0.88814\tvalidation_1-f1_err:0.89616\n",
            "[28]\tvalidation_0-error:0.12577\tvalidation_1-error:0.14242\tvalidation_0-f1_err:0.88829\tvalidation_1-f1_err:0.89770\n",
            "[29]\tvalidation_0-error:0.12539\tvalidation_1-error:0.14242\tvalidation_0-f1_err:0.88853\tvalidation_1-f1_err:0.89750\n",
            "[30]\tvalidation_0-error:0.12510\tvalidation_1-error:0.14261\tvalidation_0-f1_err:0.88824\tvalidation_1-f1_err:0.89578\n",
            "[31]\tvalidation_0-error:0.12510\tvalidation_1-error:0.14280\tvalidation_0-f1_err:0.88848\tvalidation_1-f1_err:0.89597\n",
            "[32]\tvalidation_0-error:0.12409\tvalidation_1-error:0.14108\tvalidation_0-f1_err:0.88877\tvalidation_1-f1_err:0.89655\n",
            "[33]\tvalidation_0-error:0.12395\tvalidation_1-error:0.14050\tvalidation_0-f1_err:0.88857\tvalidation_1-f1_err:0.89597\n",
            "[34]\tvalidation_0-error:0.12395\tvalidation_1-error:0.13992\tvalidation_0-f1_err:0.89145\tvalidation_1-f1_err:0.89578\n",
            "[35]\tvalidation_0-error:0.12361\tvalidation_1-error:0.13935\tvalidation_0-f1_err:0.89126\tvalidation_1-f1_err:0.89501\n",
            "[36]\tvalidation_0-error:0.12342\tvalidation_1-error:0.14031\tvalidation_0-f1_err:0.89174\tvalidation_1-f1_err:0.89501\n",
            "[37]\tvalidation_0-error:0.12280\tvalidation_1-error:0.14050\tvalidation_0-f1_err:0.89131\tvalidation_1-f1_err:0.89463\n",
            "[38]\tvalidation_0-error:0.12266\tvalidation_1-error:0.14050\tvalidation_0-f1_err:0.89145\tvalidation_1-f1_err:0.89386\n",
            "[39]\tvalidation_0-error:0.12256\tvalidation_1-error:0.14108\tvalidation_0-f1_err:0.89107\tvalidation_1-f1_err:0.89386\n",
            "[40]\tvalidation_0-error:0.12222\tvalidation_1-error:0.14088\tvalidation_0-f1_err:0.89145\tvalidation_1-f1_err:0.89386\n",
            "[41]\tvalidation_0-error:0.12155\tvalidation_1-error:0.14011\tvalidation_0-f1_err:0.89145\tvalidation_1-f1_err:0.89520\n",
            "[42]\tvalidation_0-error:0.12131\tvalidation_1-error:0.13954\tvalidation_0-f1_err:0.89165\tvalidation_1-f1_err:0.89597\n",
            "[43]\tvalidation_0-error:0.12021\tvalidation_1-error:0.13954\tvalidation_0-f1_err:0.89198\tvalidation_1-f1_err:0.89635\n",
            "[44]\tvalidation_0-error:0.11992\tvalidation_1-error:0.14011\tvalidation_0-f1_err:0.89141\tvalidation_1-f1_err:0.89558\n",
            "[45]\tvalidation_0-error:0.11930\tvalidation_1-error:0.13992\tvalidation_0-f1_err:0.89141\tvalidation_1-f1_err:0.89558\n",
            "[46]\tvalidation_0-error:0.11843\tvalidation_1-error:0.13973\tvalidation_0-f1_err:0.89260\tvalidation_1-f1_err:0.89693\n",
            "[47]\tvalidation_0-error:0.11829\tvalidation_1-error:0.13954\tvalidation_0-f1_err:0.89241\tvalidation_1-f1_err:0.89731\n",
            "[48]\tvalidation_0-error:0.11752\tvalidation_1-error:0.13839\tvalidation_0-f1_err:0.89208\tvalidation_1-f1_err:0.89827\n",
            "[49]\tvalidation_0-error:0.11738\tvalidation_1-error:0.13858\tvalidation_0-f1_err:0.89193\tvalidation_1-f1_err:0.89770\n",
            "[50]\tvalidation_0-error:0.11685\tvalidation_1-error:0.13896\tvalidation_0-f1_err:0.89107\tvalidation_1-f1_err:0.89770\n",
            "[51]\tvalidation_0-error:0.11675\tvalidation_1-error:0.13839\tvalidation_0-f1_err:0.89107\tvalidation_1-f1_err:0.89770\n",
            "[52]\tvalidation_0-error:0.11637\tvalidation_1-error:0.13877\tvalidation_0-f1_err:0.89131\tvalidation_1-f1_err:0.89846\n",
            "[53]\tvalidation_0-error:0.11622\tvalidation_1-error:0.13743\tvalidation_0-f1_err:0.89169\tvalidation_1-f1_err:0.89846\n",
            "[54]\tvalidation_0-error:0.11589\tvalidation_1-error:0.13685\tvalidation_0-f1_err:0.89236\tvalidation_1-f1_err:0.90077\n",
            "[55]\tvalidation_0-error:0.11570\tvalidation_1-error:0.13666\tvalidation_0-f1_err:0.89256\tvalidation_1-f1_err:0.90038\n",
            "[56]\tvalidation_0-error:0.11531\tvalidation_1-error:0.13762\tvalidation_0-f1_err:0.89246\tvalidation_1-f1_err:0.90000\n",
            "[57]\tvalidation_0-error:0.11522\tvalidation_1-error:0.13685\tvalidation_0-f1_err:0.89232\tvalidation_1-f1_err:0.90019\n",
            "[58]\tvalidation_0-error:0.11474\tvalidation_1-error:0.13628\tvalidation_0-f1_err:0.89251\tvalidation_1-f1_err:0.90019\n",
            "[59]\tvalidation_0-error:0.11459\tvalidation_1-error:0.13532\tvalidation_0-f1_err:0.89347\tvalidation_1-f1_err:0.90096\n",
            "[60]\tvalidation_0-error:0.11440\tvalidation_1-error:0.13512\tvalidation_0-f1_err:0.89328\tvalidation_1-f1_err:0.90058\n",
            "[61]\tvalidation_0-error:0.11431\tvalidation_1-error:0.13474\tvalidation_0-f1_err:0.89323\tvalidation_1-f1_err:0.90038\n",
            "[62]\tvalidation_0-error:0.11354\tvalidation_1-error:0.13551\tvalidation_0-f1_err:0.89337\tvalidation_1-f1_err:0.89942\n",
            "[63]\tvalidation_0-error:0.11349\tvalidation_1-error:0.13551\tvalidation_0-f1_err:0.89328\tvalidation_1-f1_err:0.89923\n",
            "[64]\tvalidation_0-error:0.11339\tvalidation_1-error:0.13532\tvalidation_0-f1_err:0.89309\tvalidation_1-f1_err:0.89904\n",
            "[65]\tvalidation_0-error:0.11277\tvalidation_1-error:0.13589\tvalidation_0-f1_err:0.89299\tvalidation_1-f1_err:0.89808\n",
            "[66]\tvalidation_0-error:0.11258\tvalidation_1-error:0.13608\tvalidation_0-f1_err:0.89342\tvalidation_1-f1_err:0.89808\n",
            "[67]\tvalidation_0-error:0.11253\tvalidation_1-error:0.13628\tvalidation_0-f1_err:0.89361\tvalidation_1-f1_err:0.89789\n",
            "[68]\tvalidation_0-error:0.11238\tvalidation_1-error:0.13570\tvalidation_0-f1_err:0.89366\tvalidation_1-f1_err:0.89827\n",
            "[69]\tvalidation_0-error:0.11176\tvalidation_1-error:0.13551\tvalidation_0-f1_err:0.89428\tvalidation_1-f1_err:0.89885\n",
            "[70]\tvalidation_0-error:0.11143\tvalidation_1-error:0.13551\tvalidation_0-f1_err:0.89328\tvalidation_1-f1_err:0.89923\n",
            "[71]\tvalidation_0-error:0.11133\tvalidation_1-error:0.13512\tvalidation_0-f1_err:0.89313\tvalidation_1-f1_err:0.89904\n",
            "[72]\tvalidation_0-error:0.11123\tvalidation_1-error:0.13532\tvalidation_0-f1_err:0.89337\tvalidation_1-f1_err:0.89866\n",
            "[73]\tvalidation_0-error:0.11123\tvalidation_1-error:0.13493\tvalidation_0-f1_err:0.89352\tvalidation_1-f1_err:0.89866\n",
            "[74]\tvalidation_0-error:0.11128\tvalidation_1-error:0.13570\tvalidation_0-f1_err:0.89347\tvalidation_1-f1_err:0.89866\n",
            "[75]\tvalidation_0-error:0.11104\tvalidation_1-error:0.13589\tvalidation_0-f1_err:0.89352\tvalidation_1-f1_err:0.89885\n",
            "[76]\tvalidation_0-error:0.11109\tvalidation_1-error:0.13589\tvalidation_0-f1_err:0.89371\tvalidation_1-f1_err:0.89789\n",
            "[77]\tvalidation_0-error:0.11114\tvalidation_1-error:0.13589\tvalidation_0-f1_err:0.89361\tvalidation_1-f1_err:0.89885\n",
            "[78]\tvalidation_0-error:0.11095\tvalidation_1-error:0.13570\tvalidation_0-f1_err:0.89371\tvalidation_1-f1_err:0.89885\n",
            "[79]\tvalidation_0-error:0.11027\tvalidation_1-error:0.13532\tvalidation_0-f1_err:0.89419\tvalidation_1-f1_err:0.89923\n",
            "[80]\tvalidation_0-error:0.10999\tvalidation_1-error:0.13512\tvalidation_0-f1_err:0.89385\tvalidation_1-f1_err:0.89866\n",
            "[81]\tvalidation_0-error:0.11003\tvalidation_1-error:0.13493\tvalidation_0-f1_err:0.89395\tvalidation_1-f1_err:0.90019\n",
            "[82]\tvalidation_0-error:0.10955\tvalidation_1-error:0.13493\tvalidation_0-f1_err:0.89424\tvalidation_1-f1_err:0.90019\n",
            "[83]\tvalidation_0-error:0.10951\tvalidation_1-error:0.13493\tvalidation_0-f1_err:0.89448\tvalidation_1-f1_err:0.90077\n",
            "[84]\tvalidation_0-error:0.10936\tvalidation_1-error:0.13455\tvalidation_0-f1_err:0.89453\tvalidation_1-f1_err:0.90038\n",
            "[85]\tvalidation_0-error:0.10879\tvalidation_1-error:0.13474\tvalidation_0-f1_err:0.89390\tvalidation_1-f1_err:0.90058\n",
            "[86]\tvalidation_0-error:0.10859\tvalidation_1-error:0.13532\tvalidation_0-f1_err:0.89443\tvalidation_1-f1_err:0.90019\n",
            "[87]\tvalidation_0-error:0.10864\tvalidation_1-error:0.13493\tvalidation_0-f1_err:0.89481\tvalidation_1-f1_err:0.89962\n",
            "[88]\tvalidation_0-error:0.10845\tvalidation_1-error:0.13512\tvalidation_0-f1_err:0.89457\tvalidation_1-f1_err:0.90000\n",
            "[89]\tvalidation_0-error:0.10821\tvalidation_1-error:0.13493\tvalidation_0-f1_err:0.89472\tvalidation_1-f1_err:0.89942\n",
            "[90]\tvalidation_0-error:0.10826\tvalidation_1-error:0.13455\tvalidation_0-f1_err:0.89438\tvalidation_1-f1_err:0.90000\n",
            "[91]\tvalidation_0-error:0.10821\tvalidation_1-error:0.13455\tvalidation_0-f1_err:0.89443\tvalidation_1-f1_err:0.89904\n",
            "[92]\tvalidation_0-error:0.10807\tvalidation_1-error:0.13493\tvalidation_0-f1_err:0.89467\tvalidation_1-f1_err:0.89846\n",
            "[93]\tvalidation_0-error:0.10807\tvalidation_1-error:0.13493\tvalidation_0-f1_err:0.89467\tvalidation_1-f1_err:0.89846\n",
            "[94]\tvalidation_0-error:0.10783\tvalidation_1-error:0.13455\tvalidation_0-f1_err:0.89472\tvalidation_1-f1_err:0.89866\n",
            "[95]\tvalidation_0-error:0.10773\tvalidation_1-error:0.13455\tvalidation_0-f1_err:0.89457\tvalidation_1-f1_err:0.89904\n",
            "[96]\tvalidation_0-error:0.10706\tvalidation_1-error:0.13455\tvalidation_0-f1_err:0.89491\tvalidation_1-f1_err:0.89885\n",
            "[97]\tvalidation_0-error:0.10610\tvalidation_1-error:0.13474\tvalidation_0-f1_err:0.89563\tvalidation_1-f1_err:0.89808\n",
            "[98]\tvalidation_0-error:0.10595\tvalidation_1-error:0.13474\tvalidation_0-f1_err:0.89563\tvalidation_1-f1_err:0.89750\n",
            "[99]\tvalidation_0-error:0.10576\tvalidation_1-error:0.13512\tvalidation_0-f1_err:0.89539\tvalidation_1-f1_err:0.89789\n",
            "Fold:  5\n",
            "[0]\tvalidation_0-error:0.14333\tvalidation_1-error:0.14897\tvalidation_0-f1_err:0.24011\tvalidation_1-f1_err:0.24976\n",
            "[1]\tvalidation_0-error:0.14131\tvalidation_1-error:0.14859\tvalidation_0-f1_err:0.24011\tvalidation_1-f1_err:0.24976\n",
            "[2]\tvalidation_0-error:0.14131\tvalidation_1-error:0.14821\tvalidation_0-f1_err:0.58013\tvalidation_1-f1_err:0.57708\n",
            "[3]\tvalidation_0-error:0.14045\tvalidation_1-error:0.14974\tvalidation_0-f1_err:0.70144\tvalidation_1-f1_err:0.69725\n",
            "[4]\tvalidation_0-error:0.14055\tvalidation_1-error:0.14821\tvalidation_0-f1_err:0.74664\tvalidation_1-f1_err:0.73987\n",
            "[5]\tvalidation_0-error:0.13844\tvalidation_1-error:0.14724\tvalidation_0-f1_err:0.76574\tvalidation_1-f1_err:0.75657\n",
            "[6]\tvalidation_0-error:0.13858\tvalidation_1-error:0.14686\tvalidation_0-f1_err:0.78263\tvalidation_1-f1_err:0.77520\n",
            "[7]\tvalidation_0-error:0.13748\tvalidation_1-error:0.14686\tvalidation_0-f1_err:0.78066\tvalidation_1-f1_err:0.77385\n",
            "[8]\tvalidation_0-error:0.13776\tvalidation_1-error:0.14686\tvalidation_0-f1_err:0.77773\tvalidation_1-f1_err:0.77174\n",
            "[9]\tvalidation_0-error:0.13599\tvalidation_1-error:0.14744\tvalidation_0-f1_err:0.78220\tvalidation_1-f1_err:0.77712\n",
            "[10]\tvalidation_0-error:0.13450\tvalidation_1-error:0.14533\tvalidation_0-f1_err:0.84237\tvalidation_1-f1_err:0.84258\n",
            "[11]\tvalidation_0-error:0.13412\tvalidation_1-error:0.14475\tvalidation_0-f1_err:0.84467\tvalidation_1-f1_err:0.84450\n",
            "[12]\tvalidation_0-error:0.13368\tvalidation_1-error:0.14494\tvalidation_0-f1_err:0.85451\tvalidation_1-f1_err:0.85429\n",
            "[13]\tvalidation_0-error:0.13349\tvalidation_1-error:0.14628\tvalidation_0-f1_err:0.87682\tvalidation_1-f1_err:0.87598\n",
            "[14]\tvalidation_0-error:0.13311\tvalidation_1-error:0.14628\tvalidation_0-f1_err:0.87558\tvalidation_1-f1_err:0.87349\n",
            "[15]\tvalidation_0-error:0.13239\tvalidation_1-error:0.14552\tvalidation_0-f1_err:0.87716\tvalidation_1-f1_err:0.87310\n",
            "[16]\tvalidation_0-error:0.13239\tvalidation_1-error:0.14379\tvalidation_0-f1_err:0.88129\tvalidation_1-f1_err:0.87982\n",
            "[17]\tvalidation_0-error:0.13239\tvalidation_1-error:0.14417\tvalidation_0-f1_err:0.88580\tvalidation_1-f1_err:0.88270\n",
            "[18]\tvalidation_0-error:0.13215\tvalidation_1-error:0.14513\tvalidation_0-f1_err:0.88834\tvalidation_1-f1_err:0.88558\n",
            "[19]\tvalidation_0-error:0.13181\tvalidation_1-error:0.14494\tvalidation_0-f1_err:0.88565\tvalidation_1-f1_err:0.88251\n",
            "[20]\tvalidation_0-error:0.13105\tvalidation_1-error:0.14513\tvalidation_0-f1_err:0.88671\tvalidation_1-f1_err:0.88482\n",
            "[21]\tvalidation_0-error:0.13105\tvalidation_1-error:0.14494\tvalidation_0-f1_err:0.88834\tvalidation_1-f1_err:0.88635\n",
            "[22]\tvalidation_0-error:0.12989\tvalidation_1-error:0.14321\tvalidation_0-f1_err:0.88752\tvalidation_1-f1_err:0.88462\n",
            "[23]\tvalidation_0-error:0.12961\tvalidation_1-error:0.14302\tvalidation_0-f1_err:0.88690\tvalidation_1-f1_err:0.88347\n",
            "[24]\tvalidation_0-error:0.12908\tvalidation_1-error:0.14360\tvalidation_0-f1_err:0.88589\tvalidation_1-f1_err:0.88213\n",
            "[25]\tvalidation_0-error:0.12841\tvalidation_1-error:0.14379\tvalidation_0-f1_err:0.88628\tvalidation_1-f1_err:0.88270\n",
            "[26]\tvalidation_0-error:0.12759\tvalidation_1-error:0.14360\tvalidation_0-f1_err:0.88800\tvalidation_1-f1_err:0.88482\n",
            "[27]\tvalidation_0-error:0.12673\tvalidation_1-error:0.14321\tvalidation_0-f1_err:0.88805\tvalidation_1-f1_err:0.88520\n",
            "[28]\tvalidation_0-error:0.12658\tvalidation_1-error:0.14225\tvalidation_0-f1_err:0.88762\tvalidation_1-f1_err:0.88482\n",
            "[29]\tvalidation_0-error:0.12654\tvalidation_1-error:0.14225\tvalidation_0-f1_err:0.88757\tvalidation_1-f1_err:0.88482\n",
            "[30]\tvalidation_0-error:0.12658\tvalidation_1-error:0.14187\tvalidation_0-f1_err:0.88796\tvalidation_1-f1_err:0.88520\n",
            "[31]\tvalidation_0-error:0.12687\tvalidation_1-error:0.14206\tvalidation_0-f1_err:0.88796\tvalidation_1-f1_err:0.88405\n",
            "[32]\tvalidation_0-error:0.12706\tvalidation_1-error:0.14225\tvalidation_0-f1_err:0.88781\tvalidation_1-f1_err:0.88366\n",
            "[33]\tvalidation_0-error:0.12596\tvalidation_1-error:0.14206\tvalidation_0-f1_err:0.88805\tvalidation_1-f1_err:0.88424\n",
            "[34]\tvalidation_0-error:0.12577\tvalidation_1-error:0.14225\tvalidation_0-f1_err:0.88863\tvalidation_1-f1_err:0.88501\n",
            "[35]\tvalidation_0-error:0.12534\tvalidation_1-error:0.14206\tvalidation_0-f1_err:0.88925\tvalidation_1-f1_err:0.88482\n",
            "[36]\tvalidation_0-error:0.12510\tvalidation_1-error:0.14072\tvalidation_0-f1_err:0.89007\tvalidation_1-f1_err:0.88520\n",
            "[37]\tvalidation_0-error:0.12466\tvalidation_1-error:0.14053\tvalidation_0-f1_err:0.88901\tvalidation_1-f1_err:0.88597\n",
            "[38]\tvalidation_0-error:0.12438\tvalidation_1-error:0.14053\tvalidation_0-f1_err:0.88968\tvalidation_1-f1_err:0.88731\n",
            "[39]\tvalidation_0-error:0.12442\tvalidation_1-error:0.14014\tvalidation_0-f1_err:0.89007\tvalidation_1-f1_err:0.88789\n",
            "[40]\tvalidation_0-error:0.12399\tvalidation_1-error:0.13976\tvalidation_0-f1_err:0.89011\tvalidation_1-f1_err:0.88731\n",
            "[41]\tvalidation_0-error:0.12342\tvalidation_1-error:0.13918\tvalidation_0-f1_err:0.89021\tvalidation_1-f1_err:0.88846\n",
            "[42]\tvalidation_0-error:0.12226\tvalidation_1-error:0.13918\tvalidation_0-f1_err:0.89093\tvalidation_1-f1_err:0.88846\n",
            "[43]\tvalidation_0-error:0.12202\tvalidation_1-error:0.13937\tvalidation_0-f1_err:0.89055\tvalidation_1-f1_err:0.88789\n",
            "[44]\tvalidation_0-error:0.12111\tvalidation_1-error:0.13841\tvalidation_0-f1_err:0.89016\tvalidation_1-f1_err:0.88712\n",
            "[45]\tvalidation_0-error:0.12087\tvalidation_1-error:0.13784\tvalidation_0-f1_err:0.88992\tvalidation_1-f1_err:0.88769\n",
            "[46]\tvalidation_0-error:0.12087\tvalidation_1-error:0.13707\tvalidation_0-f1_err:0.88997\tvalidation_1-f1_err:0.88789\n",
            "[47]\tvalidation_0-error:0.12044\tvalidation_1-error:0.13745\tvalidation_0-f1_err:0.89002\tvalidation_1-f1_err:0.88731\n",
            "[48]\tvalidation_0-error:0.12011\tvalidation_1-error:0.13765\tvalidation_0-f1_err:0.89002\tvalidation_1-f1_err:0.88693\n",
            "[49]\tvalidation_0-error:0.12006\tvalidation_1-error:0.13726\tvalidation_0-f1_err:0.89026\tvalidation_1-f1_err:0.88731\n",
            "[50]\tvalidation_0-error:0.11991\tvalidation_1-error:0.13765\tvalidation_0-f1_err:0.89002\tvalidation_1-f1_err:0.88693\n",
            "[51]\tvalidation_0-error:0.11958\tvalidation_1-error:0.13745\tvalidation_0-f1_err:0.89031\tvalidation_1-f1_err:0.88808\n",
            "[52]\tvalidation_0-error:0.11900\tvalidation_1-error:0.13745\tvalidation_0-f1_err:0.89112\tvalidation_1-f1_err:0.88923\n",
            "[53]\tvalidation_0-error:0.11852\tvalidation_1-error:0.13726\tvalidation_0-f1_err:0.89040\tvalidation_1-f1_err:0.88865\n",
            "[54]\tvalidation_0-error:0.11828\tvalidation_1-error:0.13630\tvalidation_0-f1_err:0.88983\tvalidation_1-f1_err:0.88865\n",
            "[55]\tvalidation_0-error:0.11775\tvalidation_1-error:0.13630\tvalidation_0-f1_err:0.88968\tvalidation_1-f1_err:0.88846\n",
            "[56]\tvalidation_0-error:0.11718\tvalidation_1-error:0.13726\tvalidation_0-f1_err:0.89002\tvalidation_1-f1_err:0.88789\n",
            "[57]\tvalidation_0-error:0.11679\tvalidation_1-error:0.13688\tvalidation_0-f1_err:0.89021\tvalidation_1-f1_err:0.88616\n",
            "[58]\tvalidation_0-error:0.11651\tvalidation_1-error:0.13688\tvalidation_0-f1_err:0.89050\tvalidation_1-f1_err:0.88616\n",
            "[59]\tvalidation_0-error:0.11588\tvalidation_1-error:0.13745\tvalidation_0-f1_err:0.89055\tvalidation_1-f1_err:0.88673\n",
            "[60]\tvalidation_0-error:0.11574\tvalidation_1-error:0.13822\tvalidation_0-f1_err:0.89055\tvalidation_1-f1_err:0.88693\n",
            "[61]\tvalidation_0-error:0.11507\tvalidation_1-error:0.13745\tvalidation_0-f1_err:0.89189\tvalidation_1-f1_err:0.88731\n",
            "[62]\tvalidation_0-error:0.11507\tvalidation_1-error:0.13726\tvalidation_0-f1_err:0.89237\tvalidation_1-f1_err:0.88808\n",
            "[63]\tvalidation_0-error:0.11511\tvalidation_1-error:0.13745\tvalidation_0-f1_err:0.89223\tvalidation_1-f1_err:0.88885\n",
            "[64]\tvalidation_0-error:0.11497\tvalidation_1-error:0.13745\tvalidation_0-f1_err:0.89290\tvalidation_1-f1_err:0.88923\n",
            "[65]\tvalidation_0-error:0.11492\tvalidation_1-error:0.13726\tvalidation_0-f1_err:0.89275\tvalidation_1-f1_err:0.88942\n",
            "[66]\tvalidation_0-error:0.11483\tvalidation_1-error:0.13707\tvalidation_0-f1_err:0.89251\tvalidation_1-f1_err:0.88942\n",
            "[67]\tvalidation_0-error:0.11464\tvalidation_1-error:0.13688\tvalidation_0-f1_err:0.89242\tvalidation_1-f1_err:0.89019\n",
            "[68]\tvalidation_0-error:0.11439\tvalidation_1-error:0.13669\tvalidation_0-f1_err:0.89199\tvalidation_1-f1_err:0.89000\n",
            "[69]\tvalidation_0-error:0.11377\tvalidation_1-error:0.13630\tvalidation_0-f1_err:0.89266\tvalidation_1-f1_err:0.89019\n",
            "[70]\tvalidation_0-error:0.11372\tvalidation_1-error:0.13630\tvalidation_0-f1_err:0.89280\tvalidation_1-f1_err:0.89057\n",
            "[71]\tvalidation_0-error:0.11363\tvalidation_1-error:0.13650\tvalidation_0-f1_err:0.89261\tvalidation_1-f1_err:0.89115\n",
            "[72]\tvalidation_0-error:0.11353\tvalidation_1-error:0.13650\tvalidation_0-f1_err:0.89271\tvalidation_1-f1_err:0.89134\n",
            "[73]\tvalidation_0-error:0.11334\tvalidation_1-error:0.13669\tvalidation_0-f1_err:0.89319\tvalidation_1-f1_err:0.89115\n",
            "[74]\tvalidation_0-error:0.11300\tvalidation_1-error:0.13688\tvalidation_0-f1_err:0.89362\tvalidation_1-f1_err:0.89038\n",
            "[75]\tvalidation_0-error:0.11257\tvalidation_1-error:0.13669\tvalidation_0-f1_err:0.89347\tvalidation_1-f1_err:0.89077\n",
            "[76]\tvalidation_0-error:0.11238\tvalidation_1-error:0.13650\tvalidation_0-f1_err:0.89338\tvalidation_1-f1_err:0.89077\n",
            "[77]\tvalidation_0-error:0.11219\tvalidation_1-error:0.13611\tvalidation_0-f1_err:0.89323\tvalidation_1-f1_err:0.89077\n",
            "[78]\tvalidation_0-error:0.11195\tvalidation_1-error:0.13592\tvalidation_0-f1_err:0.89347\tvalidation_1-f1_err:0.89115\n",
            "[79]\tvalidation_0-error:0.11190\tvalidation_1-error:0.13573\tvalidation_0-f1_err:0.89362\tvalidation_1-f1_err:0.89153\n",
            "[80]\tvalidation_0-error:0.11156\tvalidation_1-error:0.13726\tvalidation_0-f1_err:0.89295\tvalidation_1-f1_err:0.89038\n",
            "[81]\tvalidation_0-error:0.11176\tvalidation_1-error:0.13707\tvalidation_0-f1_err:0.89314\tvalidation_1-f1_err:0.88961\n",
            "[82]\tvalidation_0-error:0.11152\tvalidation_1-error:0.13707\tvalidation_0-f1_err:0.89304\tvalidation_1-f1_err:0.89000\n",
            "[83]\tvalidation_0-error:0.11099\tvalidation_1-error:0.13726\tvalidation_0-f1_err:0.89352\tvalidation_1-f1_err:0.89000\n",
            "[84]\tvalidation_0-error:0.11089\tvalidation_1-error:0.13688\tvalidation_0-f1_err:0.89357\tvalidation_1-f1_err:0.89038\n",
            "[85]\tvalidation_0-error:0.11070\tvalidation_1-error:0.13688\tvalidation_0-f1_err:0.89338\tvalidation_1-f1_err:0.88981\n",
            "[86]\tvalidation_0-error:0.11065\tvalidation_1-error:0.13650\tvalidation_0-f1_err:0.89275\tvalidation_1-f1_err:0.88961\n",
            "[87]\tvalidation_0-error:0.11046\tvalidation_1-error:0.13592\tvalidation_0-f1_err:0.89299\tvalidation_1-f1_err:0.89038\n",
            "[88]\tvalidation_0-error:0.11041\tvalidation_1-error:0.13592\tvalidation_0-f1_err:0.89299\tvalidation_1-f1_err:0.88961\n",
            "[89]\tvalidation_0-error:0.11037\tvalidation_1-error:0.13592\tvalidation_0-f1_err:0.89285\tvalidation_1-f1_err:0.88923\n",
            "[90]\tvalidation_0-error:0.10993\tvalidation_1-error:0.13573\tvalidation_0-f1_err:0.89271\tvalidation_1-f1_err:0.88942\n",
            "[91]\tvalidation_0-error:0.10993\tvalidation_1-error:0.13592\tvalidation_0-f1_err:0.89290\tvalidation_1-f1_err:0.88981\n",
            "[92]\tvalidation_0-error:0.10979\tvalidation_1-error:0.13592\tvalidation_0-f1_err:0.89367\tvalidation_1-f1_err:0.89096\n",
            "[93]\tvalidation_0-error:0.10941\tvalidation_1-error:0.13592\tvalidation_0-f1_err:0.89333\tvalidation_1-f1_err:0.89019\n",
            "[94]\tvalidation_0-error:0.10926\tvalidation_1-error:0.13553\tvalidation_0-f1_err:0.89319\tvalidation_1-f1_err:0.89134\n",
            "[95]\tvalidation_0-error:0.10897\tvalidation_1-error:0.13592\tvalidation_0-f1_err:0.89362\tvalidation_1-f1_err:0.89230\n",
            "[96]\tvalidation_0-error:0.10907\tvalidation_1-error:0.13534\tvalidation_0-f1_err:0.89395\tvalidation_1-f1_err:0.89211\n",
            "[97]\tvalidation_0-error:0.10864\tvalidation_1-error:0.13553\tvalidation_0-f1_err:0.89395\tvalidation_1-f1_err:0.89269\n",
            "[98]\tvalidation_0-error:0.10811\tvalidation_1-error:0.13573\tvalidation_0-f1_err:0.89477\tvalidation_1-f1_err:0.89192\n",
            "[99]\tvalidation_0-error:0.10782\tvalidation_1-error:0.13592\tvalidation_0-f1_err:0.89482\tvalidation_1-f1_err:0.89173\n"
          ],
          "name": "stdout"
        }
      ]
    },
    {
      "cell_type": "code",
      "metadata": {
        "execution": {
          "iopub.execute_input": "2020-12-01T11:34:22.812158Z",
          "iopub.status.busy": "2020-12-01T11:34:22.811107Z",
          "iopub.status.idle": "2020-12-01T11:34:25.016582Z",
          "shell.execute_reply": "2020-12-01T11:34:25.015938Z"
        },
        "papermill": {
          "duration": 2.392256,
          "end_time": "2020-12-01T11:34:25.016709",
          "exception": false,
          "start_time": "2020-12-01T11:34:22.624453",
          "status": "completed"
        },
        "tags": [],
        "id": "Bv5uyquNp-oP"
      },
      "source": [
        "make_sub(predicts = XGB_preds, filename = \"XGBsubmissions.csv\")"
      ],
      "execution_count": null,
      "outputs": []
    },
    {
      "cell_type": "markdown",
      "metadata": {
        "papermill": {
          "duration": 0.178816,
          "end_time": "2020-12-01T11:34:25.376086",
          "exception": false,
          "start_time": "2020-12-01T11:34:25.197270",
          "status": "completed"
        },
        "tags": [],
        "id": "QrirxUcTp-oP"
      },
      "source": [
        "# RF"
      ]
    },
    {
      "cell_type": "code",
      "metadata": {
        "execution": {
          "iopub.execute_input": "2020-12-01T11:34:25.737510Z",
          "iopub.status.busy": "2020-12-01T11:34:25.736836Z",
          "iopub.status.idle": "2020-12-01T11:34:25.739732Z",
          "shell.execute_reply": "2020-12-01T11:34:25.739083Z"
        },
        "papermill": {
          "duration": 0.184343,
          "end_time": "2020-12-01T11:34:25.739858",
          "exception": false,
          "start_time": "2020-12-01T11:34:25.555515",
          "status": "completed"
        },
        "tags": [],
        "id": "Vrf_d8mip-oP"
      },
      "source": [
        "rf = RandomForestClassifier(max_features = 3, min_samples_split = 8,\n",
        "                           n_estimators = 100, criterion = \"entropy\",\n",
        "                           bootstrap = True)"
      ],
      "execution_count": null,
      "outputs": []
    },
    {
      "cell_type": "markdown",
      "metadata": {
        "papermill": {
          "duration": 0.180588,
          "end_time": "2020-12-01T11:34:26.098601",
          "exception": false,
          "start_time": "2020-12-01T11:34:25.918013",
          "status": "completed"
        },
        "tags": [],
        "id": "KQoh_Iybp-oP"
      },
      "source": [
        "gridsearch로 찾아낸 하이퍼파라미터"
      ]
    },
    {
      "cell_type": "code",
      "metadata": {
        "execution": {
          "iopub.execute_input": "2020-12-01T11:34:26.468284Z",
          "iopub.status.busy": "2020-12-01T11:34:26.467602Z",
          "iopub.status.idle": "2020-12-01T11:34:30.472192Z",
          "shell.execute_reply": "2020-12-01T11:34:30.471555Z"
        },
        "papermill": {
          "duration": 4.192005,
          "end_time": "2020-12-01T11:34:30.472331",
          "exception": false,
          "start_time": "2020-12-01T11:34:26.280326",
          "status": "completed"
        },
        "tags": [],
        "id": "AqevtOmVp-oP",
        "outputId": "fad01962-e989-48ce-e15f-5f3520f6c40c"
      },
      "source": [
        "rf.fit(X, y)"
      ],
      "execution_count": null,
      "outputs": [
        {
          "output_type": "execute_result",
          "data": {
            "text/plain": [
              "RandomForestClassifier(criterion='entropy', max_features=3, min_samples_split=8)"
            ]
          },
          "metadata": {
            "tags": []
          },
          "execution_count": 21
        }
      ]
    },
    {
      "cell_type": "code",
      "metadata": {
        "execution": {
          "iopub.execute_input": "2020-12-01T11:34:30.853482Z",
          "iopub.status.busy": "2020-12-01T11:34:30.852551Z",
          "iopub.status.idle": "2020-12-01T11:34:30.991063Z",
          "shell.execute_reply": "2020-12-01T11:34:30.990466Z"
        },
        "papermill": {
          "duration": 0.336469,
          "end_time": "2020-12-01T11:34:30.991191",
          "exception": false,
          "start_time": "2020-12-01T11:34:30.654722",
          "status": "completed"
        },
        "tags": [],
        "id": "1-Cpo3e8p-oP"
      },
      "source": [
        "RF_preds = rf.predict_proba(test_X)[:, 1]"
      ],
      "execution_count": null,
      "outputs": []
    },
    {
      "cell_type": "code",
      "metadata": {
        "execution": {
          "iopub.execute_input": "2020-12-01T11:34:31.360148Z",
          "iopub.status.busy": "2020-12-01T11:34:31.359409Z",
          "iopub.status.idle": "2020-12-01T11:34:33.585251Z",
          "shell.execute_reply": "2020-12-01T11:34:33.584559Z"
        },
        "papermill": {
          "duration": 2.412879,
          "end_time": "2020-12-01T11:34:33.585361",
          "exception": false,
          "start_time": "2020-12-01T11:34:31.172482",
          "status": "completed"
        },
        "tags": [],
        "id": "PNgtN4l1p-oP"
      },
      "source": [
        "make_sub(RF_preds, \"rf.csv\")"
      ],
      "execution_count": null,
      "outputs": []
    },
    {
      "cell_type": "markdown",
      "metadata": {
        "papermill": {
          "duration": 0.23247,
          "end_time": "2020-12-01T11:34:33.999119",
          "exception": false,
          "start_time": "2020-12-01T11:34:33.766649",
          "status": "completed"
        },
        "tags": [],
        "id": "eQ4jIWffp-oP"
      },
      "source": [
        "# Ensemble"
      ]
    },
    {
      "cell_type": "markdown",
      "metadata": {
        "papermill": {
          "duration": 0.183255,
          "end_time": "2020-12-01T11:34:34.367171",
          "exception": false,
          "start_time": "2020-12-01T11:34:34.183916",
          "status": "completed"
        },
        "tags": [],
        "id": "JrJiddABp-oP"
      },
      "source": [
        "## 산술평균"
      ]
    },
    {
      "cell_type": "code",
      "metadata": {
        "execution": {
          "iopub.execute_input": "2020-12-01T11:34:34.732491Z",
          "iopub.status.busy": "2020-12-01T11:34:34.731685Z",
          "iopub.status.idle": "2020-12-01T11:34:34.734692Z",
          "shell.execute_reply": "2020-12-01T11:34:34.734166Z"
        },
        "papermill": {
          "duration": 0.187326,
          "end_time": "2020-12-01T11:34:34.734813",
          "exception": false,
          "start_time": "2020-12-01T11:34:34.547487",
          "status": "completed"
        },
        "tags": [],
        "id": "DeKBNsVep-oP"
      },
      "source": [
        "ensemble_arith_1 = (XGB_preds + lgbm_preds + RF_preds) / 3"
      ],
      "execution_count": null,
      "outputs": []
    },
    {
      "cell_type": "code",
      "metadata": {
        "execution": {
          "iopub.execute_input": "2020-12-01T11:34:35.113303Z",
          "iopub.status.busy": "2020-12-01T11:34:35.112246Z",
          "iopub.status.idle": "2020-12-01T11:34:37.497253Z",
          "shell.execute_reply": "2020-12-01T11:34:37.496354Z"
        },
        "papermill": {
          "duration": 2.582665,
          "end_time": "2020-12-01T11:34:37.497389",
          "exception": false,
          "start_time": "2020-12-01T11:34:34.914724",
          "status": "completed"
        },
        "tags": [],
        "id": "LNvrBLMAp-oP"
      },
      "source": [
        "make_sub(predicts = ensemble_arith_1, filename = \"Ensemble_arith_1.csv\")"
      ],
      "execution_count": null,
      "outputs": []
    },
    {
      "cell_type": "code",
      "metadata": {
        "execution": {
          "iopub.execute_input": "2020-12-01T11:34:37.902648Z",
          "iopub.status.busy": "2020-12-01T11:34:37.901346Z",
          "iopub.status.idle": "2020-12-01T11:34:37.904415Z",
          "shell.execute_reply": "2020-12-01T11:34:37.903880Z"
        },
        "papermill": {
          "duration": 0.202565,
          "end_time": "2020-12-01T11:34:37.904550",
          "exception": false,
          "start_time": "2020-12-01T11:34:37.701985",
          "status": "completed"
        },
        "tags": [],
        "id": "YRyHLhrUp-oP"
      },
      "source": [
        "ensemble_arith_2 = (XGB_preds + lgbm_preds) / 2"
      ],
      "execution_count": null,
      "outputs": []
    },
    {
      "cell_type": "code",
      "metadata": {
        "execution": {
          "iopub.execute_input": "2020-12-01T11:34:38.294842Z",
          "iopub.status.busy": "2020-12-01T11:34:38.294141Z",
          "iopub.status.idle": "2020-12-01T11:34:40.700476Z",
          "shell.execute_reply": "2020-12-01T11:34:40.699781Z"
        },
        "papermill": {
          "duration": 2.602422,
          "end_time": "2020-12-01T11:34:40.700656",
          "exception": false,
          "start_time": "2020-12-01T11:34:38.098234",
          "status": "completed"
        },
        "tags": [],
        "id": "Frzst6DOp-oP"
      },
      "source": [
        "make_sub(predicts = ensemble_arith_2, filename = \"Ensemble_arith_2.csv\")"
      ],
      "execution_count": null,
      "outputs": []
    },
    {
      "cell_type": "markdown",
      "metadata": {
        "papermill": {
          "duration": 0.188926,
          "end_time": "2020-12-01T11:34:41.078692",
          "exception": false,
          "start_time": "2020-12-01T11:34:40.889766",
          "status": "completed"
        },
        "tags": [],
        "id": "WJ5FwNX8p-oP"
      },
      "source": [
        "## 기하평균"
      ]
    },
    {
      "cell_type": "code",
      "metadata": {
        "execution": {
          "iopub.execute_input": "2020-12-01T11:34:41.455239Z",
          "iopub.status.busy": "2020-12-01T11:34:41.454554Z",
          "iopub.status.idle": "2020-12-01T11:34:41.458350Z",
          "shell.execute_reply": "2020-12-01T11:34:41.457828Z"
        },
        "papermill": {
          "duration": 0.195849,
          "end_time": "2020-12-01T11:34:41.458472",
          "exception": false,
          "start_time": "2020-12-01T11:34:41.262623",
          "status": "completed"
        },
        "tags": [],
        "id": "q7b26-e3p-oP"
      },
      "source": [
        "ensemble_geo_1 = (XGB_preds * lgbm_preds * RF_preds) ** (1/ 3)"
      ],
      "execution_count": null,
      "outputs": []
    },
    {
      "cell_type": "code",
      "metadata": {
        "execution": {
          "iopub.execute_input": "2020-12-01T11:34:41.833738Z",
          "iopub.status.busy": "2020-12-01T11:34:41.833061Z",
          "iopub.status.idle": "2020-12-01T11:34:41.836200Z",
          "shell.execute_reply": "2020-12-01T11:34:41.835636Z"
        },
        "papermill": {
          "duration": 0.192413,
          "end_time": "2020-12-01T11:34:41.836312",
          "exception": false,
          "start_time": "2020-12-01T11:34:41.643899",
          "status": "completed"
        },
        "tags": [],
        "id": "Kr0aeDdtp-oQ"
      },
      "source": [
        "ensemble_geo_2 = (XGB_preds * lgbm_preds) ** (1/ 2)"
      ],
      "execution_count": null,
      "outputs": []
    },
    {
      "cell_type": "markdown",
      "metadata": {
        "papermill": {
          "duration": 0.18562,
          "end_time": "2020-12-01T11:34:42.207896",
          "exception": false,
          "start_time": "2020-12-01T11:34:42.022276",
          "status": "completed"
        },
        "tags": [],
        "id": "XRVuBHTyp-oQ"
      },
      "source": [
        "기하평균을 비율에 쓴다고 배워서 확률에도 알맞지 않을까 싶어서 한 번 해봤습니다."
      ]
    },
    {
      "cell_type": "code",
      "metadata": {
        "execution": {
          "iopub.execute_input": "2020-12-01T11:34:42.602360Z",
          "iopub.status.busy": "2020-12-01T11:34:42.601442Z",
          "iopub.status.idle": "2020-12-01T11:34:47.010478Z",
          "shell.execute_reply": "2020-12-01T11:34:47.009817Z"
        },
        "papermill": {
          "duration": 4.612757,
          "end_time": "2020-12-01T11:34:47.010659",
          "exception": false,
          "start_time": "2020-12-01T11:34:42.397902",
          "status": "completed"
        },
        "tags": [],
        "id": "2B1w6sLmp-oQ"
      },
      "source": [
        "make_sub(predicts = ensemble_geo_1, filename = \"Ensemble_geo_1.csv\")\n",
        "make_sub(predicts = ensemble_geo_2, filename = \"Ensemble_geo_2.csv\")"
      ],
      "execution_count": null,
      "outputs": []
    },
    {
      "cell_type": "markdown",
      "metadata": {
        "papermill": {
          "duration": 0.180577,
          "end_time": "2020-12-01T11:34:47.372432",
          "exception": false,
          "start_time": "2020-12-01T11:34:47.191855",
          "status": "completed"
        },
        "tags": [],
        "id": "EmG8C57fp-oQ"
      },
      "source": [
        "## voting classifier"
      ]
    },
    {
      "cell_type": "markdown",
      "metadata": {
        "papermill": {
          "duration": 0.184255,
          "end_time": "2020-12-01T11:34:47.741901",
          "exception": false,
          "start_time": "2020-12-01T11:34:47.557646",
          "status": "completed"
        },
        "tags": [],
        "id": "7nOXgQZjp-oQ"
      },
      "source": [
        "### Hard Voting"
      ]
    },
    {
      "cell_type": "code",
      "metadata": {
        "execution": {
          "iopub.execute_input": "2020-12-01T11:34:48.114171Z",
          "iopub.status.busy": "2020-12-01T11:34:48.113092Z",
          "iopub.status.idle": "2020-12-01T11:34:48.115330Z",
          "shell.execute_reply": "2020-12-01T11:34:48.115934Z"
        },
        "papermill": {
          "duration": 0.19219,
          "end_time": "2020-12-01T11:34:48.116079",
          "exception": false,
          "start_time": "2020-12-01T11:34:47.923889",
          "status": "completed"
        },
        "tags": [],
        "id": "iXB428U4p-oQ"
      },
      "source": [
        "voting_hard = VotingClassifier(estimators = [(\"lgbm\", lgbm), (\"xgb\", XGB), (\"rf\", rf)],\n",
        "                         voting = \"hard\")"
      ],
      "execution_count": null,
      "outputs": []
    },
    {
      "cell_type": "code",
      "metadata": {
        "execution": {
          "iopub.execute_input": "2020-12-01T11:34:48.486962Z",
          "iopub.status.busy": "2020-12-01T11:34:48.486258Z",
          "iopub.status.idle": "2020-12-01T11:34:54.382169Z",
          "shell.execute_reply": "2020-12-01T11:34:54.381614Z"
        },
        "papermill": {
          "duration": 6.083973,
          "end_time": "2020-12-01T11:34:54.382294",
          "exception": false,
          "start_time": "2020-12-01T11:34:48.298321",
          "status": "completed"
        },
        "tags": [],
        "id": "QoCpf1qFp-oQ"
      },
      "source": [
        "voting_hard = voting_hard.fit(X, y)"
      ],
      "execution_count": null,
      "outputs": []
    },
    {
      "cell_type": "code",
      "metadata": {
        "execution": {
          "iopub.execute_input": "2020-12-01T11:34:54.778436Z",
          "iopub.status.busy": "2020-12-01T11:34:54.775231Z",
          "iopub.status.idle": "2020-12-01T11:34:55.042457Z",
          "shell.execute_reply": "2020-12-01T11:34:55.041892Z"
        },
        "papermill": {
          "duration": 0.470054,
          "end_time": "2020-12-01T11:34:55.042610",
          "exception": false,
          "start_time": "2020-12-01T11:34:54.572556",
          "status": "completed"
        },
        "tags": [],
        "id": "5QqZzV1Xp-oQ"
      },
      "source": [
        "hard_preds = voting_hard.predict(test_X)"
      ],
      "execution_count": null,
      "outputs": []
    },
    {
      "cell_type": "code",
      "metadata": {
        "execution": {
          "iopub.execute_input": "2020-12-01T11:34:55.413190Z",
          "iopub.status.busy": "2020-12-01T11:34:55.412446Z",
          "iopub.status.idle": "2020-12-01T11:34:58.485212Z",
          "shell.execute_reply": "2020-12-01T11:34:58.484500Z"
        },
        "papermill": {
          "duration": 3.261408,
          "end_time": "2020-12-01T11:34:58.485328",
          "exception": false,
          "start_time": "2020-12-01T11:34:55.223920",
          "status": "completed"
        },
        "tags": [],
        "id": "aXOPBbYYp-oQ"
      },
      "source": [
        "make_sub(hard_preds, \"voting_hard_1.csv\")"
      ],
      "execution_count": null,
      "outputs": []
    },
    {
      "cell_type": "code",
      "metadata": {
        "execution": {
          "iopub.execute_input": "2020-12-01T11:34:58.872419Z",
          "iopub.status.busy": "2020-12-01T11:34:58.871271Z",
          "iopub.status.idle": "2020-12-01T11:35:04.009082Z",
          "shell.execute_reply": "2020-12-01T11:35:04.008369Z"
        },
        "papermill": {
          "duration": 5.335013,
          "end_time": "2020-12-01T11:35:04.009214",
          "exception": false,
          "start_time": "2020-12-01T11:34:58.674201",
          "status": "completed"
        },
        "tags": [],
        "id": "1oUUHcC8p-oQ"
      },
      "source": [
        "voting_hard = VotingClassifier(estimators = [(\"lgbm\", lgbm), (\"xgb\", XGB)],\n",
        "                         voting = \"hard\")\n",
        "voting_hard = voting_hard.fit(X, y)\n",
        "hard_preds = voting_hard.predict(test_X)\n",
        "make_sub(hard_preds, \"voting_hard_2.csv\")"
      ],
      "execution_count": null,
      "outputs": []
    },
    {
      "cell_type": "markdown",
      "metadata": {
        "papermill": {
          "duration": 0.182001,
          "end_time": "2020-12-01T11:35:04.373976",
          "exception": false,
          "start_time": "2020-12-01T11:35:04.191975",
          "status": "completed"
        },
        "tags": [],
        "id": "gxVMOBKKp-oQ"
      },
      "source": [
        "### Soft"
      ]
    },
    {
      "cell_type": "code",
      "metadata": {
        "execution": {
          "iopub.execute_input": "2020-12-01T11:35:04.742648Z",
          "iopub.status.busy": "2020-12-01T11:35:04.741997Z",
          "iopub.status.idle": "2020-12-01T11:35:04.745638Z",
          "shell.execute_reply": "2020-12-01T11:35:04.745132Z"
        },
        "papermill": {
          "duration": 0.188406,
          "end_time": "2020-12-01T11:35:04.745759",
          "exception": false,
          "start_time": "2020-12-01T11:35:04.557353",
          "status": "completed"
        },
        "tags": [],
        "id": "C3HZMmVHp-oQ"
      },
      "source": [
        "voting_soft = VotingClassifier(estimators = [(\"lgbm\", lgbm), (\"xgb\", XGB), (\"rf\", rf)],\n",
        "                         voting = \"soft\")"
      ],
      "execution_count": null,
      "outputs": []
    },
    {
      "cell_type": "code",
      "metadata": {
        "execution": {
          "iopub.execute_input": "2020-12-01T11:35:05.114993Z",
          "iopub.status.busy": "2020-12-01T11:35:05.114283Z",
          "iopub.status.idle": "2020-12-01T11:35:11.605269Z",
          "shell.execute_reply": "2020-12-01T11:35:11.604566Z"
        },
        "papermill": {
          "duration": 6.678278,
          "end_time": "2020-12-01T11:35:11.605385",
          "exception": false,
          "start_time": "2020-12-01T11:35:04.927107",
          "status": "completed"
        },
        "tags": [],
        "id": "0ALK6esEp-oQ"
      },
      "source": [
        "voting_soft = voting_soft.fit(X, y)"
      ],
      "execution_count": null,
      "outputs": []
    },
    {
      "cell_type": "code",
      "metadata": {
        "execution": {
          "iopub.execute_input": "2020-12-01T11:35:12.051405Z",
          "iopub.status.busy": "2020-12-01T11:35:12.048544Z",
          "iopub.status.idle": "2020-12-01T11:35:12.255358Z",
          "shell.execute_reply": "2020-12-01T11:35:12.256102Z"
        },
        "papermill": {
          "duration": 0.459592,
          "end_time": "2020-12-01T11:35:12.256295",
          "exception": false,
          "start_time": "2020-12-01T11:35:11.796703",
          "status": "completed"
        },
        "tags": [],
        "id": "8mGcgfHkp-oQ"
      },
      "source": [
        "soft_preds = voting_soft.predict(test_X)"
      ],
      "execution_count": null,
      "outputs": []
    },
    {
      "cell_type": "code",
      "metadata": {
        "execution": {
          "iopub.execute_input": "2020-12-01T11:35:12.639406Z",
          "iopub.status.busy": "2020-12-01T11:35:12.638758Z",
          "iopub.status.idle": "2020-12-01T11:35:15.751327Z",
          "shell.execute_reply": "2020-12-01T11:35:15.750741Z"
        },
        "papermill": {
          "duration": 3.30346,
          "end_time": "2020-12-01T11:35:15.751451",
          "exception": false,
          "start_time": "2020-12-01T11:35:12.447991",
          "status": "completed"
        },
        "tags": [],
        "id": "wGoflhmup-oQ"
      },
      "source": [
        "make_sub(soft_preds, \"voting_soft_1.csv\")"
      ],
      "execution_count": null,
      "outputs": []
    },
    {
      "cell_type": "code",
      "metadata": {
        "execution": {
          "iopub.execute_input": "2020-12-01T11:35:16.159343Z",
          "iopub.status.busy": "2020-12-01T11:35:16.158374Z",
          "iopub.status.idle": "2020-12-01T11:35:25.519178Z",
          "shell.execute_reply": "2020-12-01T11:35:25.518416Z"
        },
        "papermill": {
          "duration": 9.562358,
          "end_time": "2020-12-01T11:35:25.519299",
          "exception": false,
          "start_time": "2020-12-01T11:35:15.956941",
          "status": "completed"
        },
        "tags": [],
        "id": "b_ncVEoap-oQ"
      },
      "source": [
        "voting_soft = VotingClassifier(estimators = [(\"lgbm\", lgbm), (\"xgb\", XGB), (\"rf\", rf)],\n",
        "                         voting = \"soft\")\n",
        "voting_soft = voting_soft.fit(X, y)\n",
        "soft_preds = voting_soft.predict(test_X)\n",
        "make_sub(soft_preds, \"voting_soft_2.csv\")"
      ],
      "execution_count": null,
      "outputs": []
    },
    {
      "cell_type": "markdown",
      "metadata": {
        "papermill": {
          "duration": 0.18083,
          "end_time": "2020-12-01T11:35:25.887788",
          "exception": false,
          "start_time": "2020-12-01T11:35:25.706958",
          "status": "completed"
        },
        "tags": [],
        "id": "xRindoJop-oQ"
      },
      "source": [
        "voting은 fold하지 않아서 평균을 내는 것보다 오히려 더 떨어진 것 같다.<br>\n",
        "기하평균이 더 민감한 듯 하다.<br>\n",
        "예측력이 낮은 랜덤포레스트는 제거하는 쪽이 더 나은 것 같다.<br>\n",
        "다음에는 catboost를 한 번 시도해보자"
      ]
    },
    {
      "cell_type": "markdown",
      "metadata": {
        "papermill": {
          "duration": 0.181119,
          "end_time": "2020-12-01T11:35:26.251866",
          "exception": false,
          "start_time": "2020-12-01T11:35:26.070747",
          "status": "completed"
        },
        "tags": [],
        "id": "u-IQsWdEp-oQ"
      },
      "source": [
        "**참고**<br>\n",
        "https://www.kaggle.com/subinium/kakr-eda\n",
        "https://www.kaggle.com/werooring/basic-eda-lgbm-modeling-public-score-0-87714\n",
        "https://www.kaggle.com/werooring/4th-place-solution-simple-lgbm\n",
        "https://www.kaggle.com/c/kakr-4th-competition/discussion/196061"
      ]
    }
  ]
}